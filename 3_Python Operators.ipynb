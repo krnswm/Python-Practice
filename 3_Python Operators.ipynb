{
 "cells": [
  {
   "cell_type": "markdown",
   "id": "c6ec1b7e-9b8c-459d-a277-7577e68cf251",
   "metadata": {},
   "source": [
    "OPERATORS - symbols which are used to perform some operations .\n",
    "\n",
    "1- Arithmetic Operators\n",
    "\n",
    "2- Comparison Operators\n",
    "\n",
    "3- Logical Operators\n",
    "\n",
    "4- Assignment Operators\n",
    "\n",
    "5- Membership Operators"
   ]
  },
  {
   "cell_type": "code",
   "execution_count": 1,
   "id": "6596bf36-d8a5-4763-baf5-8f4e2525b198",
   "metadata": {},
   "outputs": [],
   "source": [
    "# 1- ARITHMETIC OPERATORS - used to perform the mathematical calculation\n",
    "# add , sub , mul , div , modulous , floor division , exponential"
   ]
  },
  {
   "cell_type": "code",
   "execution_count": 2,
   "id": "3c7170f9-8f39-466b-b63c-fafa06fb607d",
   "metadata": {},
   "outputs": [
    {
     "name": "stdout",
     "output_type": "stream",
     "text": [
      "165\n",
      "13\n",
      "6764\n"
     ]
    }
   ],
   "source": [
    "n1 = 89\n",
    "n2 = 76\n",
    "print(n1+n2)  # add\n",
    "print(n1-n2)   # subt\n",
    "print(n1*n2)   # multiplication"
   ]
  },
  {
   "cell_type": "code",
   "execution_count": 3,
   "id": "541d0552-ab72-4f11-a617-e7ecd85c4c83",
   "metadata": {},
   "outputs": [
    {
     "name": "stdout",
     "output_type": "stream",
     "text": [
      "7.666666666666667\n",
      "7\n"
     ]
    }
   ],
   "source": [
    "# div - (/) , \n",
    "# floor division - (//)\n",
    "# floor division - it will give the quotient in a whole number\n",
    "a = 23\n",
    "b = 3\n",
    "print(a/b)\n",
    "print(a//b)"
   ]
  },
  {
   "cell_type": "code",
   "execution_count": 4,
   "id": "167f3157-eb4f-44de-924c-a39ae52c6005",
   "metadata": {},
   "outputs": [
    {
     "name": "stdout",
     "output_type": "stream",
     "text": [
      "1\n"
     ]
    }
   ],
   "source": [
    "# modulus operator - % -- return the remainder value\n",
    "\n",
    "a = 17\n",
    "b = 2\n",
    "print(a%b)"
   ]
  },
  {
   "cell_type": "code",
   "execution_count": 7,
   "id": "aba4bdad-c097-4b30-981d-f2478b505c8a",
   "metadata": {},
   "outputs": [
    {
     "name": "stdout",
     "output_type": "stream",
     "text": [
      "16807\n",
      "8\n"
     ]
    }
   ],
   "source": [
    "# exponential operator - ** -give the exponential or power value\n",
    "\n",
    "a = 7\n",
    "b = 5\n",
    "print(a**b)\n",
    "\n",
    "a = 2\n",
    "b = 3\n",
    "print(a**b)"
   ]
  },
  {
   "cell_type": "code",
   "execution_count": 8,
   "id": "9347e992-895c-402e-8589-053637ba6e17",
   "metadata": {},
   "outputs": [],
   "source": [
    "# 2- COMPARISON OPERATORS - used to compare the values .\n",
    "\n",
    "#output will be a boolean value - true or false"
   ]
  },
  {
   "cell_type": "code",
   "execution_count": 9,
   "id": "9efe02ca-1862-471c-a228-3ff37fae9b4d",
   "metadata": {},
   "outputs": [
    {
     "name": "stdout",
     "output_type": "stream",
     "text": [
      "False\n",
      "True\n",
      "False\n",
      "True\n",
      "False\n",
      "True\n"
     ]
    }
   ],
   "source": [
    "# comparison operators -\n",
    "a1 = 67\n",
    "b1 = 90\n",
    " # == - equals to\n",
    " # != not equals to\n",
    " # <>, >=,<=\n",
    "print(a1==b1)\n",
    "print(a1!=b1)\n",
    "print(a1>b1)\n",
    "print(a1<b1)\n",
    "print(a1>=b1)\n",
    "print(a1<=b1)"
   ]
  },
  {
   "cell_type": "markdown",
   "id": "d726e542-cf56-4106-9a1e-2d02068e710a",
   "metadata": {},
   "source": [
    "3- LOGICAL OPERATORS - used to combine multiple conditions or statements.\n",
    "\n",
    "output will be boolean value - true or false\n",
    "\n",
    "and\n",
    "\n",
    "or\n",
    "\n",
    "not"
   ]
  },
  {
   "cell_type": "code",
   "execution_count": 11,
   "id": "79fc0c6a-fa24-4c9a-bd55-ab0394a6b8af",
   "metadata": {},
   "outputs": [],
   "source": [
    "# LOGICAL OPERATORS -\n",
    "# and - return true if both the statements are true\n",
    "# or - return true if atleast one statement is true\n",
    "# not - it will the reverse the output - true - false"
   ]
  },
  {
   "cell_type": "code",
   "execution_count": 13,
   "id": "a6e3b664-121f-4055-beb6-318053f42519",
   "metadata": {},
   "outputs": [
    {
     "name": "stdout",
     "output_type": "stream",
     "text": [
      "False\n",
      "True\n",
      "False\n",
      "True\n"
     ]
    }
   ],
   "source": [
    "a = True\n",
    "b = False\n",
    "print(a and b)\n",
    "print(a or b)\n",
    "c = a and b\n",
    "print(c)\n",
    "print(not c)"
   ]
  },
  {
   "cell_type": "code",
   "execution_count": 16,
   "id": "a2bff64e-718c-41ff-b0b6-80e53e157e8d",
   "metadata": {},
   "outputs": [
    {
     "name": "stdout",
     "output_type": "stream",
     "text": [
      "Not Qualified\n"
     ]
    }
   ],
   "source": [
    "age = 34\n",
    "score = 67\n",
    "turn = 3\n",
    "if (age>=35) and score >=50 and turn<=5:\n",
    "  print(\"qualified\")\n",
    "else:\n",
    "    print(\"Not Qualified\")"
   ]
  },
  {
   "cell_type": "markdown",
   "id": "8d91047a-b78f-4fa0-b05d-d6b0776c7d86",
   "metadata": {},
   "source": [
    "4- Assignment operator - used to assign or give some value to a variable."
   ]
  },
  {
   "cell_type": "markdown",
   "id": "4a5b31a2-14f8-4b91-81ce-e2a5f23e6d42",
   "metadata": {},
   "source": [
    "# Assignment Operators\n",
    "# = assign\n",
    "# += add ,aasign\n",
    "# -= , *= , /=,//= , **=,%="
   ]
  },
  {
   "cell_type": "code",
   "execution_count": 23,
   "id": "b5e1c13c-0717-41f0-a1ac-4a8f8731fa2e",
   "metadata": {},
   "outputs": [
    {
     "name": "stdout",
     "output_type": "stream",
     "text": [
      "76\n"
     ]
    }
   ],
   "source": [
    "var1 = 76\n",
    "print(var1)"
   ]
  },
  {
   "cell_type": "code",
   "execution_count": 18,
   "id": "340fa1c1-0584-4260-8cbc-d4ab69019b36",
   "metadata": {},
   "outputs": [
    {
     "name": "stdout",
     "output_type": "stream",
     "text": [
      "komal\n"
     ]
    }
   ],
   "source": [
    "name = \"komal\"\n",
    "print(name)"
   ]
  },
  {
   "cell_type": "code",
   "execution_count": 19,
   "id": "8ee7426b-71e6-435d-8df2-c137ae72b6ef",
   "metadata": {},
   "outputs": [
    {
     "name": "stdout",
     "output_type": "stream",
     "text": [
      "20\n"
     ]
    }
   ],
   "source": [
    "var1= 10\n",
    "print(var1+10)"
   ]
  },
  {
   "cell_type": "code",
   "execution_count": 20,
   "id": "fcd54f71-7dd3-45dc-bf55-cecbd61e8938",
   "metadata": {},
   "outputs": [
    {
     "name": "stdout",
     "output_type": "stream",
     "text": [
      "20\n",
      "15\n"
     ]
    }
   ],
   "source": [
    "var1+=10\n",
    "print(var1)\n",
    "a = 20\n",
    "a -=5               # a = a-5\n",
    "print(a)\n"
   ]
  },
  {
   "cell_type": "markdown",
   "id": "2e3a6c2e-6a84-4bf4-88b7-7a6e5f8c9270",
   "metadata": {},
   "source": [
    "5- MEMBERSHIP OPERATORS - used to check whether a value is a member or a part of a list or not.\n",
    "\n",
    "- in\n",
    "\n",
    "- not in\n",
    "\n",
    "- output is a boolean value - true or"
   ]
  },
  {
   "cell_type": "code",
   "execution_count": 25,
   "id": "98558815-6a9e-47e7-8d84-1a1bcbaaec02",
   "metadata": {},
   "outputs": [
    {
     "name": "stdout",
     "output_type": "stream",
     "text": [
      "True\n",
      "False\n"
     ]
    }
   ],
   "source": [
    "name = \"pravakar\"\n",
    "print('k' in name)\n",
    "print('k' not in name)\n"
   ]
  },
  {
   "cell_type": "code",
   "execution_count": 26,
   "id": "e7e2ac7d-873d-4d5d-b34d-953694981827",
   "metadata": {},
   "outputs": [
    {
     "name": "stdout",
     "output_type": "stream",
     "text": [
      "False\n",
      "True\n"
     ]
    }
   ],
   "source": [
    "print('b' in name)\n",
    "print('b' not in name)"
   ]
  },
  {
   "cell_type": "code",
   "execution_count": null,
   "id": "fd02b11c-0501-4f49-aada-97b9fc0df398",
   "metadata": {},
   "outputs": [],
   "source": []
  }
 ],
 "metadata": {
  "kernelspec": {
   "display_name": "Python 3 (ipykernel)",
   "language": "python",
   "name": "python3"
  },
  "language_info": {
   "codemirror_mode": {
    "name": "ipython",
    "version": 3
   },
   "file_extension": ".py",
   "mimetype": "text/x-python",
   "name": "python",
   "nbconvert_exporter": "python",
   "pygments_lexer": "ipython3",
   "version": "3.13.5"
  }
 },
 "nbformat": 4,
 "nbformat_minor": 5
}
