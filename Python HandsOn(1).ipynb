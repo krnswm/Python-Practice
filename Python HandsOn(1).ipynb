{
 "cells": [
  {
   "cell_type": "code",
   "execution_count": 1,
   "id": "43e2a1f2-fe16-4998-9f8f-f6dc65f0b939",
   "metadata": {},
   "outputs": [
    {
     "name": "stdout",
     "output_type": "stream",
     "text": [
      "Intersection is: {1, 2}\n",
      "Union is: {1, 2, 3, 4, 5, 6}\n",
      "Difference of S1 from S2 is: {3, 4}\n",
      "Difference of S2 from S1 is: {5, 6}\n"
     ]
    }
   ],
   "source": [
    "# Ques 1- create two sets and perform the following operations on sets-\n",
    "\n",
    "# 1- intersection of 2 sets\n",
    "\n",
    "# 2- union of 2 sets\n",
    "\n",
    "# 3- difference of 2 sets - s1.difference(s2)\n",
    "\n",
    "# s2.difference(s1)\n",
    "\n",
    "s1 = {1,2,3,4}\n",
    "s2 = {5,6,1,2}\n",
    "\n",
    "intersection = s1.intersection(s2)\n",
    "print(f\"Intersection is: {intersection}\")\n",
    "union = s1.union(s2)\n",
    "print(f\"Union is: {union}\")\n",
    "difference_s1 = s1.difference(s2)\n",
    "print(f\"Difference of S1 from S2 is: {difference_s1}\")\n",
    "difference_s2 = s2.difference(s1)\n",
    "print(f\"Difference of S2 from S1 is: {difference_s2}\")"
   ]
  },
  {
   "cell_type": "code",
   "execution_count": 3,
   "id": "dbc32fe4-38cf-4032-9c33-c7b789e654a7",
   "metadata": {},
   "outputs": [
    {
     "name": "stdin",
     "output_type": "stream",
     "text": [
      "Enter a Floating Number:  5.6\n"
     ]
    },
    {
     "name": "stdout",
     "output_type": "stream",
     "text": [
      "5\n"
     ]
    }
   ],
   "source": [
    "# Ques 2- take a float as input and convert it to integer\n",
    "\n",
    "float_int = float(input(\"Enter a Floating Number: \"))\n",
    "con_int = int(float_int)\n",
    "print(con_int)"
   ]
  },
  {
   "cell_type": "code",
   "execution_count": 12,
   "id": "80b489b6-1d74-48ce-a23b-f333897698f3",
   "metadata": {},
   "outputs": [
    {
     "name": "stdin",
     "output_type": "stream",
     "text": [
      "Enter a String:  Madam\n"
     ]
    },
    {
     "name": "stdout",
     "output_type": "stream",
     "text": [
      "Madam is a Palindrome\n"
     ]
    }
   ],
   "source": [
    "# Ques 3 - check whether a string is palidrome or not -\n",
    "\n",
    "# Palindrome string - It is a string that reads forward\n",
    "\n",
    "n = input(\"Enter a String: \")\n",
    "n_l = n.lower()\n",
    "if(n_l[::] == n_l[::-1]):\n",
    "    print(f\"{n} is a Palindrome\")\n",
    "else:\n",
    "    print(f\"{n} is not a Palindrome\")"
   ]
  },
  {
   "cell_type": "code",
   "execution_count": 40,
   "id": "2003acb6-d18a-4e92-85a6-7fee9d39acc7",
   "metadata": {},
   "outputs": [
    {
     "name": "stdin",
     "output_type": "stream",
     "text": [
      "Enter a Number:  7\n"
     ]
    },
    {
     "name": "stdout",
     "output_type": "stream",
     "text": [
      "7 is Prime\n"
     ]
    }
   ],
   "source": [
    "#  Ques 4 - Check whether a number is prime or not \n",
    "\n",
    "import math\n",
    "n = int(input(\"Enter a Number: \"))\n",
    "is_prime = True\n",
    "\n",
    "if n < 2:\n",
    "    is_prime = False\n",
    "else:\n",
    "    for i in range(2, int(math.sqrt(n)) + 1):\n",
    "        if n % i == 0:\n",
    "            is_prime = False\n",
    "            break;\n",
    "\n",
    "if is_prime:\n",
    "    print(f\"{n} is Prime\")\n",
    "else:\n",
    "    print(f\"{n} is not Prime\")\n",
    "    "
   ]
  },
  {
   "cell_type": "code",
   "execution_count": 66,
   "id": "6e1f516e-905f-4b0a-ba61-5da208f60fb7",
   "metadata": {},
   "outputs": [
    {
     "name": "stdin",
     "output_type": "stream",
     "text": [
      "Enter a Number to check for Armstrong Number:  153\n"
     ]
    },
    {
     "name": "stdout",
     "output_type": "stream",
     "text": [
      "Ye, 153 is an Armstrong Number\n"
     ]
    },
    {
     "name": "stdin",
     "output_type": "stream",
     "text": [
      "Enter a Number:  34\n"
     ]
    },
    {
     "name": "stdout",
     "output_type": "stream",
     "text": [
      "No, 34 is not an Armstrong Number\n"
     ]
    }
   ],
   "source": [
    "# ques 5 - check whether a given number is armstrong or not\n",
    "\n",
    "# Armstrong number - it is a number that is equal to the sum of its own digits each raised to the power of the total number of digits\n",
    "\n",
    "n = int(input(\"Enter a Number to check for Armstrong Number: \"))\n",
    "\n",
    "def num_count(x):\n",
    "    n = 0 \n",
    "    while(x != 0):\n",
    "        n = n + 1\n",
    "        x = x // 10\n",
    "\n",
    "    return n\n",
    "\n",
    "def isArmstrong(n):\n",
    "    n_c = num_count(n)\n",
    "    temp = n\n",
    "    sum = 0\n",
    "\n",
    "    while(temp != 0):\n",
    "        r = temp % 10\n",
    "        sum = sum + (r ** n_c)\n",
    "        temp = temp // 10\n",
    "\n",
    "    return (sum == n)\n",
    "\n",
    "if(isArmstrong(n)):\n",
    "    print(f\"Ye, {n} is an Armstrong Number\")\n",
    "else:\n",
    "    print(f\"No, {n} is not an Armstrong Number\")\n",
    "\n",
    "\n",
    "# -----------------------------------------------------------------------------------------------------------------------------------------------------\n",
    "\n",
    "# The Easy and the intelligent way as we are working in PYTHON.\n",
    "\n",
    "n = int(input(\"Enter a Number: \"))\n",
    "\n",
    "num = str(n)\n",
    "power = len(num)\n",
    "\n",
    "sum_digits = sum(int(i) ** power for i in num)\n",
    "\n",
    "if( sum_digits == n):\n",
    "    print(f\"Ye, {n} is an Armstrong Number\")\n",
    "else:\n",
    "    print(f\"No, {n} is not an Armstrong Number\")\n",
    "    "
   ]
  }
 ],
 "metadata": {
  "kernelspec": {
   "display_name": "Python 3 (ipykernel)",
   "language": "python",
   "name": "python3"
  },
  "language_info": {
   "codemirror_mode": {
    "name": "ipython",
    "version": 3
   },
   "file_extension": ".py",
   "mimetype": "text/x-python",
   "name": "python",
   "nbconvert_exporter": "python",
   "pygments_lexer": "ipython3",
   "version": "3.13.5"
  }
 },
 "nbformat": 4,
 "nbformat_minor": 5
}
