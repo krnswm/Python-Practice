{
 "cells": [
  {
   "cell_type": "markdown",
   "id": "5b35e29c-9958-4205-87a6-91f63ee4beee",
   "metadata": {},
   "source": [
    "SEQUENTIAL DATA TYPES - when we have elements or values in a sequence, or in an ordered collection of elements .\n",
    "\n",
    "- list\n",
    "\n",
    "- tuple\n",
    "\n",
    "- string"
   ]
  },
  {
   "cell_type": "markdown",
   "id": "97e1048d-bef2-4093-a9b7-b5cb7eff0212",
   "metadata": {},
   "source": [
    "1- LIST - store multiple elements in a single variable\n",
    "\n",
    "- ordered collection of elements\n",
    "\n",
    "- lists are mutable - (can change the value of list , add , remove)\n",
    "\n",
    "- accessed by indexing or slicing\n",
    "\n",
    "- list can store heterogeneous data - (value of different data type)\n",
    "\n",
    "- list can store duplicate values"
   ]
  },
  {
   "cell_type": "code",
   "execution_count": 1,
   "id": "4d8a201e-6617-49ff-a912-fcacc87527ef",
   "metadata": {},
   "outputs": [
    {
     "name": "stdout",
     "output_type": "stream",
     "text": [
      "[10, 12, 'python', 1, 2, 4, 5, 'hello', 5, 2]\n",
      "<class 'list'>\n"
     ]
    }
   ],
   "source": [
    "l1 = [10,12,'python',1,2,4,5,'hello',5,2]\n",
    "print(l1)\n",
    "print(type(l1))"
   ]
  },
  {
   "cell_type": "code",
   "execution_count": 2,
   "id": "6ba34c57-53ad-40f0-bfb4-2f8b98550b59",
   "metadata": {},
   "outputs": [
    {
     "name": "stdout",
     "output_type": "stream",
     "text": [
      "5\n",
      "5\n"
     ]
    }
   ],
   "source": [
    "# access the elements - indexing or slicing\n",
    "l1 = [10,12,'python',1,2,4,5,'hello',5,2]\n",
    "print(l1[6])\n",
    "print(l1[-4])"
   ]
  },
  {
   "cell_type": "code",
   "execution_count": 1,
   "id": "83fa7bf8-e655-427c-a45f-c4ae8bb45658",
   "metadata": {},
   "outputs": [
    {
     "name": "stdout",
     "output_type": "stream",
     "text": [
      "banana\n",
      "6\n",
      "python\n"
     ]
    }
   ],
   "source": [
    "l2 = [11,2,3,5,6,7,'hello','banana','python']\n",
    "# access banana\n",
    "# access value 6\n",
    "# access value python\n",
    "\n",
    "print(l2[-2])\n",
    "print(l2[4])\n",
    "print(l2[-1])"
   ]
  },
  {
   "cell_type": "code",
   "execution_count": 2,
   "id": "88e259a2-a4d6-46cc-ba1f-bd953fc14eb7",
   "metadata": {},
   "outputs": [
    {
     "name": "stdout",
     "output_type": "stream",
     "text": [
      "[10, 20, 30, 40, 50, 60, 70]\n",
      "40\n",
      "40\n"
     ]
    }
   ],
   "source": [
    "l1 = [10,20,30,40,50,60,70]\n",
    "print(l1)\n",
    "print(l1[3])\n",
    "print(l1[-4])"
   ]
  },
  {
   "cell_type": "code",
   "execution_count": 4,
   "id": "02616158-7a98-4684-8a2f-2cdc8b04f548",
   "metadata": {},
   "outputs": [
    {
     "name": "stdout",
     "output_type": "stream",
     "text": [
      "['python', 88, 10, 67]\n",
      "['a', 67, 10]\n"
     ]
    }
   ],
   "source": [
    "# slicing - accessing more than elements based on their index-\n",
    "# listname[start index:stop index:step]\n",
    "# step - gap between numbers\n",
    "l2 = ['apple',24,'python',88,10,67,'a','hello']\n",
    "print(l2[2:6])\n",
    "print(l2[-2:-5:-1])"
   ]
  },
  {
   "cell_type": "code",
   "execution_count": 1,
   "id": "df69df6f-1527-497e-945a-64deae1ff965",
   "metadata": {},
   "outputs": [
    {
     "name": "stdout",
     "output_type": "stream",
     "text": [
      "['a', 67]\n"
     ]
    }
   ],
   "source": [
    "l2 = ['apple',24,'python',88,10,67,'a','hello']\n",
    "print(l2[-2:4:-1])"
   ]
  },
  {
   "cell_type": "code",
   "execution_count": 2,
   "id": "6151b651-08d1-4d02-bcb6-b3cea4d4bb11",
   "metadata": {},
   "outputs": [
    {
     "name": "stdout",
     "output_type": "stream",
     "text": [
      "[]\n"
     ]
    }
   ],
   "source": [
    "l2 = ['apple',24,'python',88,10,67,'a','hello']\n",
    "print(l2[-5:-2:-2])"
   ]
  },
  {
   "cell_type": "code",
   "execution_count": 3,
   "id": "9acc2be2-5dd4-499b-a318-c0ad1a3665aa",
   "metadata": {},
   "outputs": [
    {
     "name": "stdout",
     "output_type": "stream",
     "text": [
      "['a', 10]\n"
     ]
    }
   ],
   "source": [
    "l2 = ['apple',24,'python',88,10,67,'a','hello']\n",
    "print(l2[-2:-5:-2])"
   ]
  },
  {
   "cell_type": "code",
   "execution_count": 4,
   "id": "5e4cefe3-dc58-4c97-a1c9-9513319a6b1d",
   "metadata": {},
   "outputs": [],
   "source": [
    "# fruits = ['apple','banana','cherry','grapes','papaya']\n",
    "# 1- output for fruits[2]\n",
    "# 2- output for fruits [-1]\n",
    "# 3- output for fruits [:3]\n",
    "# 4 - output for fruits[2:]\n",
    "# 5- reverse the list"
   ]
  },
  {
   "cell_type": "code",
   "execution_count": 5,
   "id": "e912d4c8-bea9-4008-b2bf-d8e18b837201",
   "metadata": {},
   "outputs": [],
   "source": [
    "l1=[1,2,3,4,5,6,7,8,9,10]\n",
    "# print the value of 7 using indexing\n",
    "# print the  value from 2 to 6 using positive indexing\n",
    "# print the value of 4 to 8 using negative index"
   ]
  },
  {
   "cell_type": "code",
   "execution_count": 6,
   "id": "d430ee49-e44d-4093-8842-69805a7555ea",
   "metadata": {},
   "outputs": [
    {
     "name": "stdout",
     "output_type": "stream",
     "text": [
      "7\n",
      "7\n",
      "[2, 3, 4, 5, 6]\n",
      "[4, 5, 6, 7, 8]\n"
     ]
    }
   ],
   "source": [
    "print(l1[6])\n",
    "print(l1[-4])\n",
    "print(l1[1:6:1])\n",
    "print(l1[-7:-2])"
   ]
  },
  {
   "cell_type": "code",
   "execution_count": 7,
   "id": "fde9b1f7-7f16-4efa-a6d7-af089c50e9c9",
   "metadata": {},
   "outputs": [
    {
     "name": "stdout",
     "output_type": "stream",
     "text": [
      "['apple', 'python', 10]\n",
      "['apple', 'python']\n"
     ]
    }
   ],
   "source": [
    "v2= ['apple',24,'python',88,10,67,'a','hello']\n",
    "print(v2[0:6:2])\n",
    "print(v2[0:4:2])"
   ]
  },
  {
   "cell_type": "code",
   "execution_count": 8,
   "id": "d7b34cf1-bd42-4903-aacf-e9082b8f4f4a",
   "metadata": {},
   "outputs": [
    {
     "name": "stdout",
     "output_type": "stream",
     "text": [
      "[60, 50, 40]\n"
     ]
    }
   ],
   "source": [
    "l1= [10,20,30,40,50,60,70]\n",
    "print(l1[5:2:-1])              # start index- 5 - value = 60 , # end index - 2- value = 30"
   ]
  },
  {
   "cell_type": "code",
   "execution_count": 9,
   "id": "3374224b-1cc1-41b3-82e9-b73c30cc447b",
   "metadata": {},
   "outputs": [
    {
     "name": "stdout",
     "output_type": "stream",
     "text": [
      "['python', 10, 20, 30, 'hello', 'list', 1, 2, 3]\n",
      "['python', 10, 20, 30, 'hiiiii', 'list', 1, 2, 3]\n",
      "['python', 'ten', 'twenty', 30, 'hiiiii', 'list', 1, 2, 3]\n"
     ]
    }
   ],
   "source": [
    "# change the elements of a list -\n",
    "\n",
    "l1 = ['python',10,20,30,'hello','list',1,2,3]\n",
    "print(l1)\n",
    "l1[4] = 'hiiiii'\n",
    "print(l1)\n",
    "\n",
    "l1[1:3] = ['ten','twenty']\n",
    "print(l1)"
   ]
  },
  {
   "cell_type": "code",
   "execution_count": 10,
   "id": "789f2dac-541b-42d9-a254-2c11955d19ee",
   "metadata": {},
   "outputs": [
    {
     "name": "stdout",
     "output_type": "stream",
     "text": [
      "['python', 10, 20, 30, 'hello', 'list', 1, 2, 3]\n",
      "['python', 10, 20, 30, 'hello', 'abc', 1, 2, 3]\n"
     ]
    }
   ],
   "source": [
    "l1 = ['python',10,20,30,'hello','list',1,2,3]\n",
    "print(l1)\n",
    "l1[5] = 'abc'\n",
    "print(l1)"
   ]
  },
  {
   "cell_type": "code",
   "execution_count": 11,
   "id": "872e34bf-d5f7-4d16-a924-dc19414ea743",
   "metadata": {},
   "outputs": [
    {
     "data": {
      "text/plain": [
       "9"
      ]
     },
     "execution_count": 11,
     "metadata": {},
     "output_type": "execute_result"
    }
   ],
   "source": [
    "# len() - length of the list/ Total number of elem,ents in the list\n",
    "len(l1)"
   ]
  },
  {
   "cell_type": "code",
   "execution_count": 17,
   "id": "dea1eab7-1726-4b42-b8f4-e15632dd3041",
   "metadata": {},
   "outputs": [
    {
     "name": "stdout",
     "output_type": "stream",
     "text": [
      "[1, 2, 3, 4, 5, 6, 7, 'a', 'b', 'c']\n",
      "[1, 2, 3, 4, 5, 6, 7, 'a', 'b', 'c', 'd']\n",
      "[1, 2, 3, 4, 5, 6, 7, 'a', 'b', 'c', 'd', 22]\n"
     ]
    }
   ],
   "source": [
    "# How to add an element in the list\n",
    "\n",
    "# 1. append() - add a single element at the end of the list and adds only single element in the list -- list_name.append(value)\n",
    "\n",
    "l2 = [1,2,3,4,5,6,7,'a','b','c']\n",
    "print(l2)\n",
    "l2.append('d')\n",
    "print(l2)\n",
    "l2.append(22)\n",
    "print(l2)"
   ]
  },
  {
   "cell_type": "code",
   "execution_count": 21,
   "id": "79ddbdda-5d19-47e1-9933-e1e5fa5b8dc8",
   "metadata": {},
   "outputs": [
    {
     "name": "stdout",
     "output_type": "stream",
     "text": [
      "[1, 2, 3, 4, 5, 6, 7, 'a', 'b', 'c']\n",
      "[1, 2, 3, 4, 5, 6, 7, 'a', 'b', 'c', 0, 'd', 'g', 'akhil', 'dns', 'time', 'maddy', 10]\n"
     ]
    }
   ],
   "source": [
    "# 2. extend() - add more than one element at the end of the list. -- list_name.extend(value)\n",
    "\n",
    "l2 = [1,2,3,4,5,6,7,'a','b','c']\n",
    "print(l2)\n",
    "l2.extend([0,'d','g','akhil','dns','time','maddy',10])\n",
    "print(l2)"
   ]
  },
  {
   "cell_type": "code",
   "execution_count": 24,
   "id": "80a2f33d-5d40-41b4-9cc6-b65f78998f39",
   "metadata": {},
   "outputs": [
    {
     "name": "stdout",
     "output_type": "stream",
     "text": [
      "[1, 2, 3, 4, 5, 6, 7, 'a', 'b', 'c']\n",
      "[1, 2, 'hiiii', 3, 4, 5, 6, 7, 'a', 'b', 'c']\n"
     ]
    }
   ],
   "source": [
    "# 3. insert() - adds and element to a specific index or a position in the list -- list_name.insert(position, value)\n",
    "\n",
    "l2 = [1,2,3,4,5,6,7,'a','b','c']\n",
    "print(l2)\n",
    "l2.insert(2,'hiiii')\n",
    "print(l2)"
   ]
  },
  {
   "cell_type": "code",
   "execution_count": 1,
   "id": "ab908a43-3fb0-41dc-8bec-b58e6f4194ba",
   "metadata": {},
   "outputs": [
    {
     "name": "stdout",
     "output_type": "stream",
     "text": [
      "[10, 11, 12, 10, 20, 30, 40, 50]\n",
      "[11, 12, 10, 20, 30, 40, 50]\n",
      "[11, 12, 10, 20, 40, 50]\n"
     ]
    }
   ],
   "source": [
    "# HOW TO DELETE AN ELEMENT FROM THE LIST-\n",
    "\n",
    "# remove() - it will delete the first occurrence of the element from the list\n",
    "\n",
    "l1 = [10,11,12,10,20,30,40,50]\n",
    "print(l1)\n",
    "l1.remove(10)\n",
    "print(l1)\n",
    "l1.remove(30)\n",
    "print(l1)"
   ]
  },
  {
   "cell_type": "code",
   "execution_count": 2,
   "id": "167fba8c-1af1-4db5-8d97-87ae9b866a74",
   "metadata": {},
   "outputs": [
    {
     "name": "stdout",
     "output_type": "stream",
     "text": [
      "[10, 11, 12, 10, 20, 30, 40, 50]\n",
      "[10, 11, 12, 20, 30, 40, 50]\n"
     ]
    }
   ],
   "source": [
    "# pop() - used to delete an element from the list but at the given index\n",
    "\n",
    "l1 = [10,11,12,10,20,30,40,50]\n",
    "print(l1)\n",
    "l1.pop(3)\n",
    "print(l1)"
   ]
  },
  {
   "cell_type": "code",
   "execution_count": 3,
   "id": "b6b71b0e-73c3-4630-acc9-1be4ee1e7772",
   "metadata": {},
   "outputs": [
    {
     "name": "stdout",
     "output_type": "stream",
     "text": [
      "[10, 11, 12, 10, 20, 30, 40, 50]\n",
      "[]\n"
     ]
    }
   ],
   "source": [
    "# clear() - it will remove all the element in the list and it will return empty list\n",
    "\n",
    "l1 = [10,11,12,10,20,30,40,50]\n",
    "print(l1)\n",
    "l1.clear()               # empty list - list without any elements\n",
    "print(l1)"
   ]
  },
  {
   "cell_type": "code",
   "execution_count": 6,
   "id": "09459015-72c8-4cac-8e57-108d4015c57f",
   "metadata": {},
   "outputs": [
    {
     "name": "stdout",
     "output_type": "stream",
     "text": [
      "[25, 37, 10, 11, 12, 10, 20, 30, 40, 50]\n",
      "7\n",
      "2\n"
     ]
    },
    {
     "ename": "ValueError",
     "evalue": "90 is not in list",
     "output_type": "error",
     "traceback": [
      "\u001b[1;31m---------------------------------------------------------------------------\u001b[0m",
      "\u001b[1;31mValueError\u001b[0m                                Traceback (most recent call last)",
      "Cell \u001b[1;32mIn[6], line 7\u001b[0m\n\u001b[0;32m      5\u001b[0m \u001b[38;5;28mprint\u001b[39m(l1\u001b[38;5;241m.\u001b[39mindex(\u001b[38;5;241m30\u001b[39m))\n\u001b[0;32m      6\u001b[0m \u001b[38;5;28mprint\u001b[39m(l1\u001b[38;5;241m.\u001b[39mindex(\u001b[38;5;241m10\u001b[39m))\n\u001b[1;32m----> 7\u001b[0m \u001b[38;5;28mprint\u001b[39m(l1\u001b[38;5;241m.\u001b[39mindex(\u001b[38;5;241m90\u001b[39m))\n",
      "\u001b[1;31mValueError\u001b[0m: 90 is not in list"
     ]
    }
   ],
   "source": [
    "# index() - return the index of first occurrence of an element\n",
    "\n",
    "l1 = [25,37,10,11,12,10,20,30,40,50]\n",
    "print(l1)\n",
    "print(l1.index(30))\n",
    "print(l1.index(10))\n",
    "print(l1.index(90))      #result in an error because the value 90 is not present in the list"
   ]
  },
  {
   "cell_type": "code",
   "execution_count": 13,
   "id": "a671fbfe-6877-4871-8c60-5d10c3aa5ae3",
   "metadata": {},
   "outputs": [
    {
     "name": "stdout",
     "output_type": "stream",
     "text": [
      "2\n",
      "5\n"
     ]
    }
   ],
   "source": [
    "# if we want the index of the second occurance of an element\n",
    "l1 = [25,37,10,11,12,10,20,30,40,50]\n",
    "\n",
    "f1 = l1.index(10)\n",
    "print(f1)\n",
    "\n",
    "f2 = l1.index(10, f1+1)     #  Second Occurance of the element 10 in the list\n",
    "print(f2)\n",
    "\n"
   ]
  },
  {
   "cell_type": "code",
   "execution_count": 14,
   "id": "a077a2c7-4645-4590-9307-bbf540613182",
   "metadata": {},
   "outputs": [
    {
     "name": "stdout",
     "output_type": "stream",
     "text": [
      "[10, 20, 30, 40, 50, 60]\n",
      "[10, 20, 30, 80, 40, 50, 60]\n"
     ]
    }
   ],
   "source": [
    "# create a list with 2 elements and then extend 4 elements and print the list\n",
    "\n",
    "list_ques = [10, 20]\n",
    "list_ques.extend([30,40,50,60])\n",
    "print(list_ques)\n",
    "\n",
    "# insert one element at the position 3 and print the list again\n",
    "\n",
    "list_ques.insert(3,80)\n",
    "print(list_ques)"
   ]
  },
  {
   "cell_type": "markdown",
   "id": "8384cc59-b924-491e-9931-3c12e4c915c3",
   "metadata": {},
   "source": [
    "2. TUPLE - stores multiple elements in a single element\n",
    "   - ordered collection of elements\n",
    "   - immutable (cannot chnage the values or it's undeditable)\n",
    "   - can store duplicate values\n",
    "   - can store values of different data types"
   ]
  },
  {
   "cell_type": "code",
   "execution_count": 18,
   "id": "63a2ddaf-5126-4c6b-b7da-14256e488b98",
   "metadata": {},
   "outputs": [
    {
     "name": "stdout",
     "output_type": "stream",
     "text": [
      "(1, 2, 3, 4, 5, 6, 'a', 'b')\n",
      "<class 'tuple'>\n",
      "a\n"
     ]
    }
   ],
   "source": [
    "t1 = (1,2,3,4,5,6,'a','b')\n",
    "print(t1)\n",
    "print(type(t1))\n",
    "\n",
    "print(t1[-2])"
   ]
  },
  {
   "cell_type": "code",
   "execution_count": 19,
   "id": "c50b3679-895e-4e2f-b269-79d7ec8c439c",
   "metadata": {},
   "outputs": [
    {
     "name": "stdout",
     "output_type": "stream",
     "text": [
      "2\n",
      "6\n"
     ]
    }
   ],
   "source": [
    "t1 = (1,2,3,4,5,6,'a','b')\n",
    "# print value 2\n",
    "# print value 6\n",
    "print(t1[1])\n",
    "print(t1[-3])"
   ]
  },
  {
   "cell_type": "code",
   "execution_count": 20,
   "id": "111650b0-eb6e-416a-92a7-e5843184d110",
   "metadata": {},
   "outputs": [
    {
     "name": "stdout",
     "output_type": "stream",
     "text": [
      "7\n"
     ]
    }
   ],
   "source": [
    "# index() - return the index of first occurrence of elements\n",
    "t1 = (1,2,3,4,5,6,'a','b')\n",
    "print(t1.index('b'))"
   ]
  },
  {
   "cell_type": "code",
   "execution_count": 21,
   "id": "25fa56bd-5d7b-4278-b953-5ad0a91ec58f",
   "metadata": {},
   "outputs": [
    {
     "name": "stdout",
     "output_type": "stream",
     "text": [
      "1\n"
     ]
    }
   ],
   "source": [
    "# count() - return the number of times a value is occurring\n",
    "t1 = (1,2,3,4,5,6,'a','b')\n",
    "print(t1.count(1))"
   ]
  },
  {
   "cell_type": "code",
   "execution_count": 24,
   "id": "d42bbc41-eb67-4a5b-ad4f-47774a59967f",
   "metadata": {},
   "outputs": [
    {
     "name": "stdout",
     "output_type": "stream",
     "text": [
      "6\n",
      "1\n"
     ]
    }
   ],
   "source": [
    "t2 = (1,2,3,4,5,1,2,3,1,1,1,1)\n",
    "print(t2.count(1))\n",
    "print(t2.count(5))"
   ]
  },
  {
   "cell_type": "code",
   "execution_count": 28,
   "id": "bfb71831-8211-45a0-af3a-05f4ef8c58b7",
   "metadata": {},
   "outputs": [
    {
     "name": "stdout",
     "output_type": "stream",
     "text": [
      "[1, 2, 3, 4, 5, 6, 'a', 'b']\n",
      "<class 'list'>\n",
      "[1, 2, 'abc', 4, 5, 6, 'a', 'b']\n",
      "(1, 2, 'abc', 4, 5, 6, 'a', 'b')\n",
      "<class 'tuple'>\n"
     ]
    }
   ],
   "source": [
    "t1 = (1,2,3,4,5,6,'a','b')\n",
    "# t1[2] = 'abc'              # error because tuples are immutable\n",
    "\n",
    "# to do so you can typecast it into list\n",
    "\n",
    "l1 = list(t1)\n",
    "print(l1)\n",
    "print(type(l1))\n",
    "\n",
    "l1[2] = 'abc'\n",
    "print(l1)\n",
    "\n",
    "t1 = tuple(l1)\n",
    "print(t1)\n",
    "print(type(t1))"
   ]
  },
  {
   "cell_type": "markdown",
   "id": "b13aaa98-19bd-4bdb-9abb-b3a3c89e14cb",
   "metadata": {},
   "source": [
    "3. STRING - It is sequence of character which is enclosed in single or double quotes\n",
    "   - strings are immutable"
   ]
  },
  {
   "cell_type": "code",
   "execution_count": 29,
   "id": "ea89218f-57b3-4f5a-913a-4c071e0f8c98",
   "metadata": {},
   "outputs": [
    {
     "name": "stdout",
     "output_type": "stream",
     "text": [
      "<class 'str'>\n"
     ]
    }
   ],
   "source": [
    "s1 = 'shyam'\n",
    "print(type(s1))"
   ]
  },
  {
   "cell_type": "code",
   "execution_count": 30,
   "id": "84fdd75b-a5d9-4c7b-b8ea-cd8a8abc4c77",
   "metadata": {},
   "outputs": [
    {
     "name": "stdout",
     "output_type": "stream",
     "text": [
      "a\n"
     ]
    }
   ],
   "source": [
    "# access element of string -\n",
    "s1 = \"syam\"\n",
    "print(s1[2])"
   ]
  },
  {
   "cell_type": "code",
   "execution_count": 31,
   "id": "25014d31-7bd8-483a-b405-7d4c371c2a5b",
   "metadata": {},
   "outputs": [
    {
     "name": "stdout",
     "output_type": "stream",
     "text": [
      "hello\n",
      "PYTHON\n",
      "Python\n"
     ]
    }
   ],
   "source": [
    "# functions\n",
    "# lower() - used to convert string into lower case\n",
    "# upper() - used to convert string into upper case\n",
    "# capitalize() - used to convert first letter - capital\n",
    "\n",
    "s1 = \"HELLO\"\n",
    "print(s1.lower())\n",
    "s2 = \"python\"\n",
    "print(s2.upper())\n",
    "print(s2.capitalize())"
   ]
  },
  {
   "cell_type": "code",
   "execution_count": 32,
   "id": "8b7515a0-fc40-4124-b750-3e3a28f6591f",
   "metadata": {},
   "outputs": [
    {
     "name": "stdout",
     "output_type": "stream",
     "text": [
      "6\n"
     ]
    }
   ],
   "source": [
    "# length of the string - len()\n",
    "print(len(s2))"
   ]
  },
  {
   "cell_type": "code",
   "execution_count": 34,
   "id": "5362989b-4abe-4a6e-a232-8dd598587d0a",
   "metadata": {},
   "outputs": [
    {
     "name": "stdout",
     "output_type": "stream",
     "text": [
      "    hello python    \n",
      "hello python\n"
     ]
    }
   ],
   "source": [
    "# strip() - remove the spaces from the string from both the ends - start and end\n",
    "\n",
    "s3 = \"    hello python    \"\n",
    "print(s3)\n",
    "print(s3.strip())\n",
    "\n",
    "# lstrip() - removes the space from left side\n",
    "# rstrip() - removes the space from right side\n"
   ]
  },
  {
   "cell_type": "code",
   "execution_count": 36,
   "id": "3ffc12e5-0813-48b6-ab39-6d3d5dfac922",
   "metadata": {},
   "outputs": [
    {
     "name": "stdout",
     "output_type": "stream",
     "text": [
      "hello world\n"
     ]
    }
   ],
   "source": [
    "# concatenation - joining or combining of two strings\n",
    "\n",
    "s1 = 'hello'\n",
    "s2 = 'world'\n",
    "print(s1 + \" \" + s2)"
   ]
  },
  {
   "cell_type": "code",
   "execution_count": 40,
   "id": "6b34e36a-3afb-4820-86f2-cd906037fb36",
   "metadata": {},
   "outputs": [
    {
     "name": "stdout",
     "output_type": "stream",
     "text": [
      "hi hi \n",
      "hi hi hi hi hi \n"
     ]
    }
   ],
   "source": [
    "# repetition - string * n(any number) - it will repeat the string n times\n",
    "\n",
    "s1 = 'hi '\n",
    "print(s1*2)\n",
    "print(s1*5)"
   ]
  },
  {
   "cell_type": "code",
   "execution_count": 1,
   "id": "062442c3-2bc9-435e-b2e5-3b388add0fff",
   "metadata": {},
   "outputs": [
    {
     "name": "stdout",
     "output_type": "stream",
     "text": [
      "harsh\n",
      "hsrah\n",
      "nohtyp\n"
     ]
    }
   ],
   "source": [
    "# reverse the string using slicing -\n",
    "s1 = 'harsh'\n",
    "print(s1)\n",
    "print(s1[::-1])\n",
    "s2 = 'python'\n",
    "print(s2[::-1])"
   ]
  },
  {
   "cell_type": "code",
   "execution_count": 2,
   "id": "a2a8b1a3-1df9-4aff-bb5c-54ada58fdf02",
   "metadata": {},
   "outputs": [],
   "source": [
    "# create a tuple with 5 elements and print the element which is at 3 position\n",
    "# create two strings and concatenate them\n",
    "# create a string and apply repetition 4 times\n",
    "# take on string as user input and reverse the string"
   ]
  },
  {
   "cell_type": "code",
   "execution_count": 3,
   "id": "6a2fc8b5-c948-4ace-aaf5-919ae7391edf",
   "metadata": {},
   "outputs": [
    {
     "name": "stdout",
     "output_type": "stream",
     "text": [
      "4\n",
      "hello  hii\n",
      "hello hello hello hello \n"
     ]
    },
    {
     "name": "stdin",
     "output_type": "stream",
     "text": [
      " 4\n"
     ]
    },
    {
     "name": "stdout",
     "output_type": "stream",
     "text": [
      "4\n"
     ]
    }
   ],
   "source": [
    "t1 = (1,2,3,4,5,6)\n",
    "print(t1[3])\n",
    "s1 = \"hello \"\n",
    "s2 = \"hii\"\n",
    "print(s1+\" \"+s2)\n",
    "print(s1*4)\n",
    "a = input()\n",
    "print(a[::-1])\n"
   ]
  },
  {
   "cell_type": "code",
   "execution_count": null,
   "id": "8e114763-ec3a-4b15-9274-fdc4e933d334",
   "metadata": {},
   "outputs": [],
   "source": []
  }
 ],
 "metadata": {
  "kernelspec": {
   "display_name": "Python 3 (ipykernel)",
   "language": "python",
   "name": "python3"
  },
  "language_info": {
   "codemirror_mode": {
    "name": "ipython",
    "version": 3
   },
   "file_extension": ".py",
   "mimetype": "text/x-python",
   "name": "python",
   "nbconvert_exporter": "python",
   "pygments_lexer": "ipython3",
   "version": "3.13.5"
  }
 },
 "nbformat": 4,
 "nbformat_minor": 5
}
