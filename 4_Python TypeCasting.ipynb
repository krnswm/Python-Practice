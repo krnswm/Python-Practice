{
 "cells": [
  {
   "cell_type": "markdown",
   "id": "9fc52515-cfd4-4e46-8d78-e0d67d851c32",
   "metadata": {},
   "source": [
    "Type casting - used to convert data type of one variable to another.\n",
    "\n",
    "variable_name = datatype(variable)\n",
    "\n",
    "int() , float() , str(), list() , tuple(), set()"
   ]
  },
  {
   "cell_type": "code",
   "execution_count": 1,
   "id": "aa0f4a34-6e11-43ba-a9b1-50a03dc5c20a",
   "metadata": {},
   "outputs": [
    {
     "name": "stdout",
     "output_type": "stream",
     "text": [
      "182.96\n",
      "<class 'float'>\n"
     ]
    }
   ],
   "source": [
    "p1 = 182.96\n",
    "print(p1)\n",
    "print(type(p1))"
   ]
  },
  {
   "cell_type": "code",
   "execution_count": 2,
   "id": "de60422a-24d4-486e-a4e6-300bac5bcda6",
   "metadata": {},
   "outputs": [
    {
     "name": "stdout",
     "output_type": "stream",
     "text": [
      "182\n",
      "<class 'int'>\n"
     ]
    }
   ],
   "source": [
    "p2 = int(p1)\n",
    "print(p2)\n",
    "print(type(p2))"
   ]
  },
  {
   "cell_type": "code",
   "execution_count": 3,
   "id": "50ebbdf2-a308-4ff5-a246-1f4d2415ef29",
   "metadata": {},
   "outputs": [
    {
     "name": "stdout",
     "output_type": "stream",
     "text": [
      "<class 'int'>\n",
      "45.0\n",
      "<class 'float'>\n"
     ]
    }
   ],
   "source": [
    "p3 = 45\n",
    "print(type(p3))\n",
    "p4 = float(p3)\n",
    "print(p4)\n",
    "print(type(p4))"
   ]
  },
  {
   "cell_type": "code",
   "execution_count": 6,
   "id": "21102d39-3e28-4b6b-be4c-c74ae41c9e37",
   "metadata": {},
   "outputs": [
    {
     "name": "stdout",
     "output_type": "stream",
     "text": [
      "<class 'int'>\n",
      "45\n",
      "<class 'str'>\n"
     ]
    }
   ],
   "source": [
    "p5 = 45\n",
    "print(type(p5))\n",
    "p6 = str(p5)\n",
    "print(p6)\n",
    "print(type(p6))"
   ]
  },
  {
   "cell_type": "code",
   "execution_count": null,
   "id": "1757c47f-7c9b-42d8-b5c9-1121d3156d08",
   "metadata": {},
   "outputs": [],
   "source": []
  }
 ],
 "metadata": {
  "kernelspec": {
   "display_name": "Python 3 (ipykernel)",
   "language": "python",
   "name": "python3"
  },
  "language_info": {
   "codemirror_mode": {
    "name": "ipython",
    "version": 3
   },
   "file_extension": ".py",
   "mimetype": "text/x-python",
   "name": "python",
   "nbconvert_exporter": "python",
   "pygments_lexer": "ipython3",
   "version": "3.13.5"
  }
 },
 "nbformat": 4,
 "nbformat_minor": 5
}
