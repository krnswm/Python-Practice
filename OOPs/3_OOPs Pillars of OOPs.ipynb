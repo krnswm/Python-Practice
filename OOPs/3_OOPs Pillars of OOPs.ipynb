{
 "cells": [
  {
   "cell_type": "markdown",
   "id": "8390c002-9097-4d32-a85e-67c4ddacf7e4",
   "metadata": {},
   "source": [
    "PILLARS OF OOPS -\n",
    "\n",
    "There are 4 pillars of OOPs , these are the main ideas or properties that makes oops more powerful and useful\n",
    "\n",
    "1- Inheritance\n",
    "\n",
    "2- Encapsulation\n",
    "\n",
    "3- Polymorphism\n",
    "\n",
    "4- Abstraction"
   ]
  },
  {
   "cell_type": "code",
   "execution_count": 2,
   "id": "a1123aa4-5aae-4daf-b2bf-97041a6605ac",
   "metadata": {},
   "outputs": [],
   "source": [
    "# 1- INHERITANCE -???\n",
    "# One class can inherit(extract) the properties/features from another class."
   ]
  },
  {
   "cell_type": "code",
   "execution_count": 3,
   "id": "1b1ef863-69cf-49e1-b1ea-d0870bdbf489",
   "metadata": {},
   "outputs": [],
   "source": [
    "# TYPES OF INHERITANCE -\n",
    "# 1- Single Inheritance\n",
    "# 2- Multiple Inheritance\n",
    "# 3- Multilevel Inheritance\n",
    "# 4- Hierarchical Inheritance\n",
    "# 5- Hybrid Inheritance"
   ]
  },
  {
   "cell_type": "markdown",
   "id": "0c0f6166-d50f-4527-adb7-4af842cd05ec",
   "metadata": {},
   "source": [
    "1- Single- level-Inheritance - One child class inherits from one parent class."
   ]
  },
  {
   "cell_type": "code",
   "execution_count": 6,
   "id": "1dba83ae-53ee-483a-b58d-7575ed39562b",
   "metadata": {},
   "outputs": [
    {
     "name": "stdout",
     "output_type": "stream",
     "text": [
      "dog can bark\n",
      "animals can make sound\n"
     ]
    }
   ],
   "source": [
    "class Animal:\n",
    "  def sound(self):\n",
    "    print(\"animals can make sound\")\n",
    "\n",
    "class Dog(Animal):\n",
    "  def bark(self):\n",
    "    print(\"dog can bark\")\n",
    "\n",
    "d = Dog()\n",
    "d.bark()\n",
    "d.sound()"
   ]
  },
  {
   "cell_type": "markdown",
   "id": "f625de34-6d0a-4064-816f-100da3d6b4e3",
   "metadata": {},
   "source": [
    "2- Multilevel Inheritance - A class inherits from another class , and another class inherits from that derived class\n",
    "\n",
    "Grandfather class->Father class->Child class"
   ]
  },
  {
   "cell_type": "code",
   "execution_count": 11,
   "id": "ce646e98-ecee-4a22-9afb-aa347c96ad06",
   "metadata": {},
   "outputs": [
    {
     "name": "stdout",
     "output_type": "stream",
     "text": [
      "Puppy Weeps\n",
      "Dog Barks!!\n",
      "Animal Makes Sound!!\n"
     ]
    }
   ],
   "source": [
    "class Animal:\n",
    "    def sound(self):\n",
    "        print('Animal Makes Sound!!')\n",
    "class Dog(Animal):\n",
    "    def bark(self):\n",
    "        print('Dog Barks!!')\n",
    "class Puppy(Dog):\n",
    "    def weep(self):\n",
    "        print('Puppy Weeps')\n",
    "\n",
    "d1 = Puppy()\n",
    "d1.weep()\n",
    "d1.bark()\n",
    "d1.sound()"
   ]
  },
  {
   "cell_type": "markdown",
   "id": "2b7a5aa9-a253-437f-9b99-95ac90acf404",
   "metadata": {},
   "source": [
    "3- Multiple Inheritance - There are more than one base class for a child class"
   ]
  },
  {
   "cell_type": "code",
   "execution_count": 12,
   "id": "9c81c4ad-2f60-4376-bfa0-39c7e9df81d2",
   "metadata": {},
   "outputs": [
    {
     "name": "stdout",
     "output_type": "stream",
     "text": [
      "child\n",
      "Father\n",
      "Mother\n"
     ]
    }
   ],
   "source": [
    "class Father:\n",
    "    def f_name(self):\n",
    "        print('Father')\n",
    "class Mother:\n",
    "    def m_name(self):\n",
    "        print('Mother')\n",
    "class Child(Father, Mother):\n",
    "    def c_name(self):\n",
    "        print('child')\n",
    "\n",
    "c1 = Child()\n",
    "c1.c_name()\n",
    "c1.f_name()\n",
    "c1.m_name()"
   ]
  },
  {
   "cell_type": "markdown",
   "id": "46e8b277-be1f-48a1-8072-976c7a0648a1",
   "metadata": {},
   "source": [
    "4- Hierarchical Inheritance - More than one child class will inherit from one parent class."
   ]
  },
  {
   "cell_type": "code",
   "execution_count": 15,
   "id": "42627e9b-03d3-4e1f-b341-e4a55aa23a59",
   "metadata": {},
   "outputs": [
    {
     "name": "stdout",
     "output_type": "stream",
     "text": [
      "I am part of the family as Mother\n",
      "Thia is our family.\n",
      "I am part of the family as Father\n",
      "Thia is our family.\n"
     ]
    }
   ],
   "source": [
    "class Family:\n",
    "    def Parents(self):\n",
    "        print(\"Thia is our family.\")\n",
    "class Father(Family):\n",
    "    def f_family(self):\n",
    "        print(\"I am part of the family as Father\")\n",
    "class Mother(Family):\n",
    "    def m_family(self):\n",
    "        print(\"I am part of the family as Mother\")\n",
    "\n",
    "fam = Mother()\n",
    "fam.m_family()\n",
    "fam.Parents()\n",
    "\n",
    "fam2 = Father()\n",
    "fam2.f_family()\n",
    "fam2.Parents()"
   ]
  },
  {
   "cell_type": "markdown",
   "id": "4fccd32f-f32f-4b98-b651-6ff266072f7c",
   "metadata": {},
   "source": [
    "5- Hybrid Inheritance - Combination of two or more types of Inheritance\n",
    "\n",
    "eg - Singlelevel inheritance + multiple inheritance"
   ]
  },
  {
   "cell_type": "code",
   "execution_count": 16,
   "id": "f1c08aec-aa03-4f9f-ad89-e4f0ce7927cb",
   "metadata": {},
   "outputs": [
    {
     "name": "stdout",
     "output_type": "stream",
     "text": [
      "print d\n",
      "print c\n"
     ]
    }
   ],
   "source": [
    "class A:\n",
    "  def fun1(self):\n",
    "    print(\"single base class\")\n",
    "\n",
    "class B(A):\n",
    "  def fun2(self):\n",
    "    print(\"first child class\")\n",
    "\n",
    "class C:\n",
    "  def fun3(self):\n",
    "    print(\"print c\")\n",
    "\n",
    "class D(B,C):\n",
    "  def fun4(self):\n",
    "    print(\"print d\")\n",
    "\n",
    "d = D()\n",
    "d.fun4()\n",
    "d.fun3()"
   ]
  },
  {
   "cell_type": "markdown",
   "id": "5aa8331d-1cc5-4911-8bdd-ed451498f037",
   "metadata": {},
   "source": [
    "2- ENCAPSULATION - Keeping or wrapping up the data and functions together in one place(class) and hiding the details from outside\n",
    "\n",
    "Its main purpose is to prevent the data or restrict the access\n",
    "\n",
    "Encapsulation = putting data + functions together and hiding the details"
   ]
  },
  {
   "cell_type": "code",
   "execution_count": 17,
   "id": "1405a982-7948-4f64-bb72-71956dc1a767",
   "metadata": {},
   "outputs": [],
   "source": [
    "# HOW IT IS RESTRICTING THE ACCESS???"
   ]
  },
  {
   "cell_type": "markdown",
   "id": "ad892188-6a7b-40df-b0a6-7d3da8ca93ff",
   "metadata": {},
   "source": [
    "Access Modifiers - used to give or restrict the access.\n",
    "\n",
    "1- Public - freely available,can be accessed any where freely(inside or outside).\n",
    "\n",
    "2- Protected - accessed inside the same class and by derived class\n",
    "\n",
    "- (_) single underscore variable name\n",
    "\n",
    "3- Private - accessible only inside the class\n",
    "\n",
    "- (__) double underscore variable name"
   ]
  },
  {
   "cell_type": "code",
   "execution_count": 18,
   "id": "c653916c-109c-49e6-8e34-e8612bf21a21",
   "metadata": {},
   "outputs": [
    {
     "name": "stdout",
     "output_type": "stream",
     "text": [
      "1234567\n"
     ]
    }
   ],
   "source": [
    "class Student:\n",
    "  def __init__(self,name,aadharno):\n",
    "    self.name = name                                       # public variable\n",
    "    self.__aadharno = aadharno                               # private variable\n",
    "\n",
    "  def display(self):\n",
    "    print(self.__aadharno)\n",
    "\n",
    "o1 = Student('Nandana',1234567)\n",
    "o1.name\n",
    "o1.display()"
   ]
  },
  {
   "cell_type": "code",
   "execution_count": 19,
   "id": "2b517f65-74e0-4747-aa96-e0078745a8c8",
   "metadata": {},
   "outputs": [
    {
     "ename": "AttributeError",
     "evalue": "'Student' object has no attribute '__aadharno'",
     "output_type": "error",
     "traceback": [
      "\u001b[1;31m---------------------------------------------------------------------------\u001b[0m",
      "\u001b[1;31mAttributeError\u001b[0m                            Traceback (most recent call last)",
      "Cell \u001b[1;32mIn[19], line 1\u001b[0m\n\u001b[1;32m----> 1\u001b[0m o1\u001b[38;5;241m.\u001b[39m__aadharno\n",
      "\u001b[1;31mAttributeError\u001b[0m: 'Student' object has no attribute '__aadharno'"
     ]
    }
   ],
   "source": [
    "o1.__aadharno          # error ?? - private variable can't be accessed outside the class"
   ]
  },
  {
   "cell_type": "code",
   "execution_count": 32,
   "id": "e34ac73c-b770-4b19-8640-3c49034bf7c5",
   "metadata": {},
   "outputs": [
    {
     "data": {
      "text/plain": [
       "21"
      ]
     },
     "execution_count": 32,
     "metadata": {},
     "output_type": "execute_result"
    }
   ],
   "source": [
    "class Employee:\n",
    "    def __init__(self, name, age, gender):\n",
    "        self.name = name\n",
    "        self._age = age\n",
    "        self.__gender = gender\n",
    "    def name(self):\n",
    "        print(f\"Name is {self.name}\")\n",
    "    def age(self):\n",
    "        print(f\"Age id {self._age}\")\n",
    "    def gender(self):\n",
    "        print(f\"Gender is {self.__gender}\")\n",
    "\n",
    "class E_Gender(Employee):\n",
    "    def e_age(self):\n",
    "        print(f\"Age is {self._age}\")\n",
    "\n",
    "n1 = Employee('Karan',21,'Male')\n",
    "n1.name\n",
    "n1._age\n",
    "# n1.__gender"
   ]
  },
  {
   "cell_type": "markdown",
   "id": "da1fb40d-6d6f-4e8b-a049-88d5aa0012b1",
   "metadata": {},
   "source": [
    "3- Polymorphism - It means same function or method name behave differently depending on the object.\n",
    "\n",
    "Poly + morphism -- Poly (many) + morphism (form )=== many form.\n",
    "\n",
    "Types - Method overloading and Method Overriding"
   ]
  },
  {
   "cell_type": "code",
   "execution_count": 1,
   "id": "84694a99-c362-443b-a5eb-bdc56c67eadf",
   "metadata": {},
   "outputs": [],
   "source": [
    "# METHOD OVERLOADING??\n",
    "# same method name but different numbers or types of parameters\n",
    "# In python method overloading is not supported , if we are trying to do\n",
    "# overriding will be done"
   ]
  },
  {
   "cell_type": "code",
   "execution_count": 10,
   "id": "5526609f-08e1-4d78-bd61-07c03255909c",
   "metadata": {},
   "outputs": [
    {
     "data": {
      "text/plain": [
       "21"
      ]
     },
     "execution_count": 10,
     "metadata": {},
     "output_type": "execute_result"
    }
   ],
   "source": [
    "class Calculator:\n",
    "  def add(self,a=0,b=0,c=0):\n",
    "    return (a+b+c)\n",
    "\n",
    "c = Calculator()\n",
    "c.add(4,5,6)\n",
    "c.add(11,10)\n",
    "\n",
    "# we were trying to do method overloading but it results in overriding"
   ]
  },
  {
   "cell_type": "code",
   "execution_count": 12,
   "id": "521f1da9-fa6f-4d53-9b5a-71841ad14f9c",
   "metadata": {},
   "outputs": [
    {
     "ename": "TypeError",
     "evalue": "Calculator.add() missing 1 required positional argument: 'd'",
     "output_type": "error",
     "traceback": [
      "\u001b[1;31m---------------------------------------------------------------------------\u001b[0m",
      "\u001b[1;31mTypeError\u001b[0m                                 Traceback (most recent call last)",
      "Cell \u001b[1;32mIn[12], line 12\u001b[0m\n\u001b[0;32m      9\u001b[0m     \u001b[38;5;28;01mreturn\u001b[39;00m a\u001b[38;5;241m+\u001b[39mb\u001b[38;5;241m+\u001b[39mc\u001b[38;5;241m+\u001b[39md\n\u001b[0;32m     11\u001b[0m c1 \u001b[38;5;241m=\u001b[39m Calculator()\n\u001b[1;32m---> 12\u001b[0m c1\u001b[38;5;241m.\u001b[39madd(\u001b[38;5;241m8\u001b[39m,\u001b[38;5;241m10\u001b[39m,\u001b[38;5;241m4\u001b[39m)\n",
      "\u001b[1;31mTypeError\u001b[0m: Calculator.add() missing 1 required positional argument: 'd'"
     ]
    }
   ],
   "source": [
    "class Calculator:\n",
    "  def add(self,a,b):\n",
    "    return a+b\n",
    "\n",
    "  def add(self,a,b,c):\n",
    "    return a+b+c\n",
    "\n",
    "  def add(self,a,b,c,d):\n",
    "    return a+b+c+d\n",
    "\n",
    "c1 = Calculator()\n",
    "c1.add(8,10,4)\n",
    "\n",
    "# Python does not support Overloading, so even if we try it gets converted into overriding"
   ]
  },
  {
   "cell_type": "code",
   "execution_count": 13,
   "id": "d26c13e3-faa4-4047-80c2-85b11afd7302",
   "metadata": {},
   "outputs": [],
   "source": [
    "# METHOD OVERRIDING -\n",
    "# same method name , same parameters, but defined in child class\n",
    "# when a child class has a method same as a method in the parent class, and it changes its behaviour"
   ]
  },
  {
   "cell_type": "code",
   "execution_count": 14,
   "id": "6667b29b-8607-4cce-989b-3070aa1143e0",
   "metadata": {},
   "outputs": [
    {
     "name": "stdout",
     "output_type": "stream",
     "text": [
      "to play games\n"
     ]
    }
   ],
   "source": [
    "class Father:\n",
    "  def phone(self):\n",
    "    print(\"to make calls\")\n",
    "\n",
    "class Son(Father):\n",
    "  def phone(self):\n",
    "    print(\"to play games\")\n",
    "\n",
    "s=Son()\n",
    "s.phone()"
   ]
  },
  {
   "cell_type": "code",
   "execution_count": 15,
   "id": "b3fe331a-3d77-40d1-98e4-2e065fd14195",
   "metadata": {},
   "outputs": [],
   "source": [
    "# super() - it is a built in function , used inside a class to call a method from parnt(Super) class"
   ]
  },
  {
   "cell_type": "code",
   "execution_count": 16,
   "id": "d5f446b2-0906-4762-b70d-0410298a6173",
   "metadata": {},
   "outputs": [
    {
     "name": "stdout",
     "output_type": "stream",
     "text": [
      "to make calls\n",
      "to play games\n"
     ]
    }
   ],
   "source": [
    "class Father:\n",
    "  def phone(self):\n",
    "    print(\"to make calls\")\n",
    "\n",
    "class Son(Father):\n",
    "  def phone(self):\n",
    "    super().phone()\n",
    "    print(\"to play games\")\n",
    "\n",
    "s=Son()\n",
    "s.phone()"
   ]
  },
  {
   "cell_type": "code",
   "execution_count": 21,
   "id": "700bf88b-b651-4c32-a0c9-3a34405d57c3",
   "metadata": {},
   "outputs": [
    {
     "name": "stdout",
     "output_type": "stream",
     "text": [
      "I am a Car\n",
      "I forgot to mention color\n"
     ]
    }
   ],
   "source": [
    "# create a code to demonstrate method overriding and also use super()\n",
    "\n",
    "class Vehicle:\n",
    "    def car(self):\n",
    "        print(\"I am a Car\")\n",
    "class v_color(Vehicle):\n",
    "    def car(self):\n",
    "        super().car()\n",
    "        print(\"I forgot to mention color\")\n",
    "\n",
    "cars = v_color()\n",
    "cars.car()"
   ]
  },
  {
   "cell_type": "code",
   "execution_count": 22,
   "id": "eed21161-752f-4886-a3e5-d77cfe5e12d9",
   "metadata": {},
   "outputs": [
    {
     "name": "stdout",
     "output_type": "stream",
     "text": [
      "to make a call\n",
      "Extinct! New Technology arrived!\n",
      "to make a call\n"
     ]
    }
   ],
   "source": [
    "# create a code to demonstrate method overriding and also use super()\n",
    "class Father:\n",
    "    def phone(self):\n",
    "        print(\"to make a call\")\n",
    "\n",
    "class Son(Father):\n",
    "    def phone(self):\n",
    "        super().phone()\n",
    "        print(\"to play the games\")\n",
    "\n",
    "class GrandSon(Father):\n",
    "    def phone(self):\n",
    "        super().phone()\n",
    "        print(\"Extinct! New Technology arrived!\")\n",
    "\n",
    "gson =GrandSon()\n",
    "gson.phone()\n",
    "f = Father()\n",
    "f.phone()"
   ]
  },
  {
   "cell_type": "markdown",
   "id": "e60fa84d-64cd-4418-824e-dbb98caeb8ce",
   "metadata": {},
   "source": [
    "4 - Abstraction - It means showing only the necessary or relevant details and hiding the implementation or irrelevant details from the user."
   ]
  },
  {
   "cell_type": "code",
   "execution_count": 23,
   "id": "84ded532-30e0-4b3b-8eaa-98db1f14ffdf",
   "metadata": {},
   "outputs": [],
   "source": [
    "# Abstraction is not directly suported in python\n",
    "# So we need to take help from some module/libraries-"
   ]
  },
  {
   "cell_type": "code",
   "execution_count": 25,
   "id": "5104acd5-dbe0-4df4-bea3-9f6bd568c396",
   "metadata": {},
   "outputs": [],
   "source": [
    "# Abstract Classes - Classes that can't be instantiated\n",
    "# it has abstract method inside it\n",
    "# can also have normal methods(concrete methods)\n",
    "\n",
    "# Abstract method - declared using @abstractmethod\n",
    "# it only have definition , do not have any body\n",
    "\n",
    "# abc - abstract base class --- it is a module\n",
    "# ABC - abstract class\n"
   ]
  },
  {
   "cell_type": "code",
   "execution_count": 26,
   "id": "e1da2eeb-0133-4013-9992-a9426311a698",
   "metadata": {},
   "outputs": [],
   "source": [
    "from abc import ABC,abstractmethod"
   ]
  },
  {
   "cell_type": "code",
   "execution_count": 28,
   "id": "2f2dd4f0-7581-4314-9ca4-db3da9ed7cff",
   "metadata": {},
   "outputs": [
    {
     "name": "stdout",
     "output_type": "stream",
     "text": [
      "car can start with key\n",
      "bike can start with self\n"
     ]
    }
   ],
   "source": [
    "class Vehicle(ABC):     # Abstract Class\n",
    "  @abstractmethod\n",
    "  def start(self):\n",
    "    pass\n",
    "\n",
    "class Car(Vehicle):\n",
    "  def start(self):\n",
    "    print(\"car can start with key\")\n",
    "\n",
    "class Bike(Vehicle):\n",
    "  def start(self):\n",
    "    print(\"bike can start with self\")\n",
    "\n",
    "\n",
    "c = Car()\n",
    "b = Bike()\n",
    "c.start()\n",
    "b.start()"
   ]
  },
  {
   "cell_type": "code",
   "execution_count": null,
   "id": "e7df9b65-c13b-4f1f-b61d-1ab68a856af7",
   "metadata": {},
   "outputs": [],
   "source": []
  }
 ],
 "metadata": {
  "kernelspec": {
   "display_name": "Python 3 (ipykernel)",
   "language": "python",
   "name": "python3"
  },
  "language_info": {
   "codemirror_mode": {
    "name": "ipython",
    "version": 3
   },
   "file_extension": ".py",
   "mimetype": "text/x-python",
   "name": "python",
   "nbconvert_exporter": "python",
   "pygments_lexer": "ipython3",
   "version": "3.13.5"
  }
 },
 "nbformat": 4,
 "nbformat_minor": 5
}
