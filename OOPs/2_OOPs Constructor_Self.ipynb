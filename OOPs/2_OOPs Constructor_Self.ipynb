{
 "cells": [
  {
   "cell_type": "markdown",
   "id": "2784343e-bc7a-43e0-847f-1d57763f2bea",
   "metadata": {},
   "source": [
    "CONSTRUCTOR ??\n",
    "\n",
    "A constructor is a special function inside a class that automatically runs whenever you create an object.\n",
    "\n",
    "constructor is always named as - ( init)\n",
    "\n",
    "It's purpose - set up(initialize) the object's data when it is first created."
   ]
  },
  {
   "cell_type": "markdown",
   "id": "00d08067-714b-4753-b707-d67c90b69072",
   "metadata": {},
   "source": [
    "SELF??\n",
    "\n",
    "-It is a way for the class methods(functions inside class) to know which object they are working on."
   ]
  },
  {
   "cell_type": "code",
   "execution_count": 2,
   "id": "235e52ad-ce88-456a-9bb6-a1620e9eff29",
   "metadata": {},
   "outputs": [
    {
     "name": "stdout",
     "output_type": "stream",
     "text": [
      "name - Harsha\n",
      "age-  23\n",
      "gender-  male\n",
      "marks-  55\n",
      "name - Sneha\n",
      "age-  21\n",
      "gender-  female\n",
      "marks-  58\n",
      "name - Anurag\n",
      "age-  22\n",
      "gender-  male\n",
      "marks-  59\n"
     ]
    }
   ],
   "source": [
    "class Student:\n",
    "  def __init__(self,name , age , gender,marks):\n",
    "    self.name = name\n",
    "    self.age = age\n",
    "    self.gender = gender\n",
    "    self.marks = marks\n",
    "\n",
    "  def show(self):\n",
    "    print(\"name -\",self.name)\n",
    "    print(\"age- \",self.age)\n",
    "    print(\"gender- \",self.gender)\n",
    "    print(\"marks- \",self.marks)\n",
    "\n",
    "s1 = Student('Harsha',23,'male',55)\n",
    "s2 = Student('Sneha',21,'female',58)\n",
    "s3 = Student('Anurag',22,'male',59)\n",
    "s1.show()\n",
    "s2.show()\n",
    "s3.show()\n"
   ]
  },
  {
   "cell_type": "code",
   "execution_count": 20,
   "id": "8a4fa36d-5b23-4594-8e30-653347d845b3",
   "metadata": {},
   "outputs": [
    {
     "name": "stdin",
     "output_type": "stream",
     "text": [
      "Enter your name:  Kunal\n",
      "Enter your Age:  19\n",
      "Enter your gender:  MALE\n"
     ]
    },
    {
     "name": "stdout",
     "output_type": "stream",
     "text": [
      "Calling only one Attribute\n",
      "Name is Karan\n",
      "Calling all Attributes\n",
      "Name - Karan\n",
      "Age-  21\n",
      "Gender-  Male\n",
      "Calling only one Attribute\n",
      "Name is Kunal\n",
      "Calling all Attributes\n",
      "Name - Kunal\n",
      "Age-  19\n",
      "Gender-  MALE\n"
     ]
    }
   ],
   "source": [
    "# write a program to create a class with some 2 or 3 attributes and 2 methods inside it\n",
    "# where first method is printing the value of only first attribute\n",
    "# and second method is printing the value of both the attributes and then create 2 objects\n",
    "\n",
    "class info:\n",
    "    def __init__(self, name, age, gender):\n",
    "        self.name = name\n",
    "        self.age= age\n",
    "        self.gender = gender\n",
    "    def show_name(self):\n",
    "        print(\"Calling only one Attribute\")\n",
    "        print(f\"Name is {self.name}\")\n",
    "    def show_all(self):\n",
    "        print(\"Calling all Attributes\")\n",
    "        print(\"Name -\",self.name)\n",
    "        print(\"Age- \",self.age)\n",
    "        print(\"Gender- \",self.gender)\n",
    "\n",
    "name = input(\"Enter your name: \")\n",
    "age = int(input(\"Enter your Age: \"))\n",
    "gender = input(\"Enter your gender: \")\n",
    "\n",
    "#Object - 1\n",
    "\n",
    "i1 = info('Karan',21,'Male')\n",
    "i1.show_name()\n",
    "i1.show_all()\n",
    "\n",
    "#Object - 2\n",
    "\n",
    "i2 = info(name,age,gender)\n",
    "i2.show_name()\n",
    "i2.show_all()"
   ]
  },
  {
   "cell_type": "code",
   "execution_count": null,
   "id": "d3aacd72-8754-4a3b-a004-71c695494dd3",
   "metadata": {},
   "outputs": [],
   "source": []
  }
 ],
 "metadata": {
  "kernelspec": {
   "display_name": "Python 3 (ipykernel)",
   "language": "python",
   "name": "python3"
  },
  "language_info": {
   "codemirror_mode": {
    "name": "ipython",
    "version": 3
   },
   "file_extension": ".py",
   "mimetype": "text/x-python",
   "name": "python",
   "nbconvert_exporter": "python",
   "pygments_lexer": "ipython3",
   "version": "3.13.5"
  }
 },
 "nbformat": 4,
 "nbformat_minor": 5
}
