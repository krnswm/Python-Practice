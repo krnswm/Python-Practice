{
 "cells": [
  {
   "cell_type": "markdown",
   "id": "d6605f37-0172-4054-823f-efadb676220a",
   "metadata": {},
   "source": [
    "OOPS - OBJECT ORIENTED PROGRAMING SYSTEM"
   ]
  },
  {
   "cell_type": "markdown",
   "id": "7fb0e67d-238c-44d0-870f-f2c60ff0377a",
   "metadata": {},
   "source": [
    "Ques - Why did OOPs appear at all??\n",
    "\n",
    "Before OOPs we were using Procedural and Functional Programming Style\n",
    "\n",
    "    Procedural Programming Style - It is a programming style where the main focus is on procedures (sequence of steps or instructions)\n",
    "\n",
    "    Functional Programming Style - It is a programming style where the main focus is on functions which helps to organize our code in better way.\n",
    "\n",
    "But while working on large project or complex problem using these both language style was somewhere giving the problem, so tackle this problem the concept of OOPs came in scenario."
   ]
  },
  {
   "cell_type": "markdown",
   "id": "e3e68bc4-a659-4513-ba94-0807bcb2be8c",
   "metadata": {},
   "source": [
    "OOPS - It is a programming style where we organize our code using objects(real world things ex - student , car , phones)\n",
    "\n",
    "we treat everything as objects.\n",
    "\n",
    "   - has data (attributes) - e.g - car - has color , model, speed\n",
    "\n",
    "   - has functions(behaviour)- car - can start(), can stop() , car fuel()"
   ]
  },
  {
   "cell_type": "code",
   "execution_count": 2,
   "id": "9136cd7e-e2ea-489f-8513-c7d93b055d09",
   "metadata": {},
   "outputs": [],
   "source": [
    "# WHAT IS A CLASS??\n",
    "# A class is like a blueprint or design which is used for creating objects\n",
    "# It tells what an object should have and what it can do(methods or behviour)"
   ]
  },
  {
   "cell_type": "code",
   "execution_count": 3,
   "id": "32ea57f4-f56b-4bf8-9dd2-856ae9da4744",
   "metadata": {},
   "outputs": [],
   "source": [
    "# WHAT IS AN OBJECT??\n",
    "# An object is the real thing or real world entity made from class"
   ]
  },
  {
   "cell_type": "code",
   "execution_count": 4,
   "id": "c5d8e30e-eef4-41ea-8f31-9169b4f09a26",
   "metadata": {},
   "outputs": [
    {
     "name": "stdout",
     "output_type": "stream",
     "text": [
      "black\n",
      "swift\n",
      "red\n",
      "swift\n"
     ]
    }
   ],
   "source": [
    "# how to create a class --- keyword - class\n",
    "# class class_name:\n",
    "         # body - attributes /functions of objects\n",
    "# create an object - object_name = Class name\n",
    "class Car:                           # created a class\n",
    "  color = \"black\"\n",
    "  speed = 50\n",
    "  model = 'swift'\n",
    "  milage = 10\n",
    "\n",
    "\n",
    "obj = Car()      # object creating\n",
    "# how to access any feature or function from inside the class - use object name --- object_name.method/feature_name\n",
    "print(obj.color)\n",
    "print(obj.model)\n",
    "obj1 = Car()\n",
    "obj1.color = \"red\"\n",
    "print(obj1.color)\n",
    "print(obj1.model)"
   ]
  },
  {
   "cell_type": "code",
   "execution_count": 5,
   "id": "d5299061-16b8-44f6-b418-a1664b0b352c",
   "metadata": {},
   "outputs": [
    {
     "name": "stdout",
     "output_type": "stream",
     "text": [
      "harsh\n",
      "21\n",
      "male\n",
      "anurag\n",
      "22\n",
      "male\n"
     ]
    }
   ],
   "source": [
    "# Create a class student which have three attributes and you have to print all three attributes\n",
    "# In the same class create one more object and change the value of any two attribute and again print the value for all the three attribute\n",
    "\n",
    "class Student:\n",
    "  name =  \"harsh\"\n",
    "  age = 21\n",
    "  gender = \"male\"\n",
    "\n",
    "s = Student()\n",
    "print(s.name)\n",
    "print(s.age)\n",
    "print(s.gender)\n",
    "s1 = Student()\n",
    "s1.name = \"anurag\"\n",
    "s1.age = 22\n",
    "print(s1.name)\n",
    "print(s1.age)\n",
    "print(s1.gender)\n"
   ]
  },
  {
   "cell_type": "code",
   "execution_count": null,
   "id": "65773935-0eb2-4216-9435-fce89f2830aa",
   "metadata": {},
   "outputs": [],
   "source": []
  }
 ],
 "metadata": {
  "kernelspec": {
   "display_name": "Python 3 (ipykernel)",
   "language": "python",
   "name": "python3"
  },
  "language_info": {
   "codemirror_mode": {
    "name": "ipython",
    "version": 3
   },
   "file_extension": ".py",
   "mimetype": "text/x-python",
   "name": "python",
   "nbconvert_exporter": "python",
   "pygments_lexer": "ipython3",
   "version": "3.13.5"
  }
 },
 "nbformat": 4,
 "nbformat_minor": 5
}
