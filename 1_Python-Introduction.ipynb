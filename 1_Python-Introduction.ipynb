{
 "cells": [
  {
   "cell_type": "raw",
   "id": "291a68ee-3d81-409c-a7cd-7a16d4126d1d",
   "metadata": {},
   "source": [
    "Programming Language - way to communicate or interact with machines\n",
    "\n",
    "PYTHON - It is a high-level programming language which is widely used in many fields such as Data Science , Web development , Cloud Infrastructure , etc.\n",
    "\n",
    "invented by - Guido Van Rossum, in 1991\n",
    "\n",
    "Why the name \"Python\"?\n",
    "\n",
    "-named it after his favourite show - \"Monty Python's Flying Circus\"\n",
    "\n"
   ]
  },
  {
   "cell_type": "raw",
   "id": "01af26c5-4bad-4179-a290-b569878cc310",
   "metadata": {},
   "source": [
    "FEATURES OF PYTHON\n",
    "\n",
    "1- It is an interpreter Language - code will execute line by line\n",
    "2- Case sensitive language - (lower case (a,b,c) and upper case(A,B,C))\n",
    "3 - It is an open sourec language - (freely available)\n",
    "4- It is simple - easy to learn and understand\n",
    "5 - It's syntax is easy\n",
    "\n",
    "Syntax - rule or set of rules that how to write a particular programming language.\n",
    "\n",
    "6- It is cross platform language - (unix , mac , linux)\n",
    "7- It has multiple built in libraries- pandas , numpy , matplotlib , seaborn\n",
    "8 - It has built in function inside this."
   ]
  },
  {
   "cell_type": "code",
   "execution_count": null,
   "id": "b702d397-4ac4-4e05-8e19-f3131a0578a9",
   "metadata": {},
   "outputs": [],
   "source": []
  }
 ],
 "metadata": {
  "kernelspec": {
   "display_name": "Python 3 (ipykernel)",
   "language": "python",
   "name": "python3"
  },
  "language_info": {
   "codemirror_mode": {
    "name": "ipython",
    "version": 3
   },
   "file_extension": ".py",
   "mimetype": "text/x-python",
   "name": "python",
   "nbconvert_exporter": "python",
   "pygments_lexer": "ipython3",
   "version": "3.13.5"
  }
 },
 "nbformat": 4,
 "nbformat_minor": 5
}
