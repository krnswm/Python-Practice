{
 "cells": [
  {
   "cell_type": "markdown",
   "id": "55835a9a-b07a-4dda-ae17-82bf2db87f0d",
   "metadata": {},
   "source": [
    "1 - Conditional Statement - used to make decision based on some condition or criteria:\n",
    "\n",
    "    - if\n",
    "    \n",
    "    - elif\n",
    "    \n",
    "    - else"
   ]
  },
  {
   "cell_type": "code",
   "execution_count": 3,
   "id": "ce5df939-ed72-4366-be40-017cb8d1c42a",
   "metadata": {},
   "outputs": [],
   "source": [
    "# Syntax-\n",
    "\n",
    "# simple if\n",
    "# if (condition):\n",
    "#         run if condition is True\n",
    "\n",
    "\n",
    "# if - else.............................\n",
    "\n",
    "# if(condition):\n",
    "#                 run if the condition is True\n",
    "\n",
    "\n",
    "# else:\n",
    "#     if is false then else\n",
    "\n",
    "# if elif else.............\n",
    "\n",
    "# if(condition):\n",
    "#              run if the condition is true\n",
    "\n",
    "\n",
    "# elif (condition):\n",
    "#                run if the elif condition is true\n",
    "\n",
    "\n",
    "# elif (condition):\n",
    "# .\n",
    "\n",
    "\n",
    "# else:\n",
    "#                    print('by default')\n"
   ]
  },
  {
   "cell_type": "code",
   "execution_count": 8,
   "id": "051f0170-cac8-4dfc-a47c-565902e5055d",
   "metadata": {},
   "outputs": [
    {
     "name": "stdin",
     "output_type": "stream",
     "text": [
      " 45\n"
     ]
    },
    {
     "name": "stdout",
     "output_type": "stream",
     "text": [
      "pass\n"
     ]
    }
   ],
   "source": [
    "# if marks >35 - student is pass\n",
    "\n",
    "marks = int(input())\n",
    "\n",
    "if(marks>35):\n",
    "  print(\"pass\");"
   ]
  },
  {
   "cell_type": "code",
   "execution_count": 6,
   "id": "caa98236-84d6-424f-a67e-77ec3cdef8c8",
   "metadata": {},
   "outputs": [
    {
     "name": "stdin",
     "output_type": "stream",
     "text": [
      " 25\n"
     ]
    },
    {
     "name": "stdout",
     "output_type": "stream",
     "text": [
      "fail\n"
     ]
    }
   ],
   "source": [
    "# if - else...\n",
    "\n",
    "marks = int(input())\n",
    "if(marks>35):\n",
    "  print(\"pass\")\n",
    "\n",
    "else:\n",
    "  print(\"fail\")\n"
   ]
  },
  {
   "cell_type": "code",
   "execution_count": 11,
   "id": "c4acd4bb-b561-4785-8eb0-31637d744940",
   "metadata": {},
   "outputs": [
    {
     "name": "stdin",
     "output_type": "stream",
     "text": [
      "Enter Your Age:  22\n"
     ]
    },
    {
     "name": "stdout",
     "output_type": "stream",
     "text": [
      "You are Eligible to Vote!!!\n"
     ]
    }
   ],
   "source": [
    "# write a if else statement to check whether a person is eligible to vote or not-\n",
    "\n",
    "age = int(input(\"Enter Your Age: \"))\n",
    "if(age >= 18):\n",
    "    print(\"You are Eligible to Vote!!!\")\n",
    "else:\n",
    "    print(\"You are not yet eligible to vote...\")"
   ]
  },
  {
   "cell_type": "code",
   "execution_count": 13,
   "id": "151e096c-4942-41a2-9b49-87c1543949c4",
   "metadata": {},
   "outputs": [
    {
     "name": "stdin",
     "output_type": "stream",
     "text": [
      "Enter a Number 6\n"
     ]
    },
    {
     "name": "stdout",
     "output_type": "stream",
     "text": [
      "The number you entered is, Even!\n"
     ]
    }
   ],
   "source": [
    "# Check if a number is even or odd\n",
    "\n",
    "num = int(input(\"Enter a Number\"))\n",
    "if (num % 2 == 0):\n",
    "    print(\"The number you entered is, Even!\")\n",
    "else:\n",
    "    print(\"THe number you entered is, Odd!\")"
   ]
  },
  {
   "cell_type": "code",
   "execution_count": 16,
   "id": "7f2c52e7-952e-4f2c-800a-18ac4990b94a",
   "metadata": {},
   "outputs": [
    {
     "name": "stdin",
     "output_type": "stream",
     "text": [
      "Enter a Number:  -0\n"
     ]
    },
    {
     "name": "stdout",
     "output_type": "stream",
     "text": [
      "Neutral/0\n"
     ]
    }
   ],
   "source": [
    "# Whether a number is positive, negative or zero\n",
    "\n",
    "num = int(input(\"Enter a Number: \"))\n",
    "if (num > 0):\n",
    "    print(\"Positive\")\n",
    "elif (num < 0):\n",
    "    print(\"Negative\")\n",
    "else:\n",
    "    print(\"Neutral/0\")\n"
   ]
  },
  {
   "cell_type": "markdown",
   "id": "7e642d74-ad58-4137-989e-bbe076a537cb",
   "metadata": {},
   "source": [
    "LOOPS - used to repeat a block of code multiple times.\n",
    "\n",
    "Instead of writing the same code again and again , you tell python-\n",
    "keep doing the thing , until i say you stop."
   ]
  },
  {
   "cell_type": "code",
   "execution_count": 17,
   "id": "8a431ec5-9b84-4707-9c91-4504acc057bc",
   "metadata": {},
   "outputs": [],
   "source": [
    "# TYPES OF LOOPS -\n",
    "\n",
    "#1- FOR LOOP- used when you know how many times you want to repeat something.\n",
    "# for expression......."
   ]
  },
  {
   "cell_type": "code",
   "execution_count": 18,
   "id": "142f5d65-253e-4ae8-8c1f-62e8cc23db57",
   "metadata": {},
   "outputs": [
    {
     "name": "stdout",
     "output_type": "stream",
     "text": [
      "1\n",
      "2\n",
      "3\n",
      "4\n",
      "5\n",
      "6\n"
     ]
    }
   ],
   "source": [
    "# without loop -\n",
    "print(1)\n",
    "print(2)\n",
    "print(3)\n",
    "print(4)\n",
    "print(5)\n",
    "print(6)"
   ]
  },
  {
   "cell_type": "code",
   "execution_count": 19,
   "id": "31274008-3c69-43a4-a02d-fd0972de7429",
   "metadata": {},
   "outputs": [
    {
     "name": "stdout",
     "output_type": "stream",
     "text": [
      "1\n",
      "2\n",
      "3\n",
      "4\n",
      "5\n",
      "6\n",
      "7\n",
      "8\n",
      "9\n",
      "10\n"
     ]
    }
   ],
   "source": [
    "# with loop -\n",
    "for i in range(1,11):\n",
    "  print(i)"
   ]
  },
  {
   "cell_type": "code",
   "execution_count": 20,
   "id": "ace1cb64-b675-4dd7-9a16-736d9ead54c4",
   "metadata": {},
   "outputs": [
    {
     "name": "stdout",
     "output_type": "stream",
     "text": [
      "1\n",
      "2\n",
      "3\n",
      "4\n",
      "5\n",
      "6\n",
      "7\n",
      "8\n",
      "9\n",
      "10\n",
      "11\n",
      "12\n",
      "13\n",
      "14\n",
      "15\n",
      "16\n",
      "17\n",
      "18\n",
      "19\n",
      "20\n",
      "21\n",
      "22\n",
      "23\n",
      "24\n",
      "25\n"
     ]
    }
   ],
   "source": [
    "# print numbers from 0 to 25\n",
    "for i in range(1,26):\n",
    "  print(i)"
   ]
  },
  {
   "cell_type": "code",
   "execution_count": 26,
   "id": "8296ac6a-9372-4a18-ab58-1ccdf599746c",
   "metadata": {},
   "outputs": [
    {
     "name": "stdin",
     "output_type": "stream",
     "text": [
      "Enter a Number:  3\n"
     ]
    },
    {
     "name": "stdout",
     "output_type": "stream",
     "text": [
      "1\n",
      "2\n",
      "3\n"
     ]
    }
   ],
   "source": [
    "# taking the iinput n and printing till n\n",
    "\n",
    "n = int(input(\"Enter a Number: \"))\n",
    "for n in range(1, n+1):\n",
    "    print(n)"
   ]
  },
  {
   "cell_type": "code",
   "execution_count": 1,
   "id": "b8e56218-e9c6-4431-8066-c5ba509427c9",
   "metadata": {},
   "outputs": [
    {
     "name": "stdin",
     "output_type": "stream",
     "text": [
      " 5\n"
     ]
    },
    {
     "name": "stdout",
     "output_type": "stream",
     "text": [
      "odd number\n"
     ]
    }
   ],
   "source": [
    "num = int(input())\n",
    "if(num%2==0):\n",
    "  print(\"even number\")\n",
    "else:\n",
    "  print(\"odd number\")"
   ]
  },
  {
   "cell_type": "code",
   "execution_count": 2,
   "id": "58273fd5-449e-44f8-b3f8-1c57818486bc",
   "metadata": {},
   "outputs": [],
   "source": [
    "# homework\n",
    "# using for loop print the table of any number"
   ]
  },
  {
   "cell_type": "code",
   "execution_count": 3,
   "id": "ea868370-f524-479c-a0f1-8c750eecf0a9",
   "metadata": {},
   "outputs": [
    {
     "name": "stdin",
     "output_type": "stream",
     "text": [
      " 5\n"
     ]
    },
    {
     "name": "stdout",
     "output_type": "stream",
     "text": [
      "5 x 1 = 5\n",
      "5 x 2 = 10\n",
      "5 x 3 = 15\n",
      "5 x 4 = 20\n",
      "5 x 5 = 25\n",
      "5 x 6 = 30\n",
      "5 x 7 = 35\n",
      "5 x 8 = 40\n",
      "5 x 9 = 45\n",
      "5 x 10 = 50\n"
     ]
    }
   ],
   "source": [
    "n = int(input())\n",
    "for i in range(1,11):\n",
    " print(f\"{n} x {i} = {n*i}\")"
   ]
  },
  {
   "cell_type": "code",
   "execution_count": 4,
   "id": "2e2f032a-a433-4ebc-b8f1-a1fda3986525",
   "metadata": {},
   "outputs": [
    {
     "name": "stdout",
     "output_type": "stream",
     "text": [
      "a\n",
      "b\n",
      "c\n",
      "d\n",
      "e\n",
      "f\n",
      "g\n"
     ]
    }
   ],
   "source": [
    "l1 = ['a','b','c','d','e','f','g']\n",
    "# iterate and print every element from this list using for loop\n",
    "for i in l1:\n",
    "  print(i)"
   ]
  },
  {
   "cell_type": "markdown",
   "id": "d4011a9a-a533-4f83-8474-fecc82365030",
   "metadata": {},
   "source": [
    "while loop - repeat the block of code as long as the condition is true"
   ]
  },
  {
   "cell_type": "code",
   "execution_count": 5,
   "id": "80142fbd-9b96-4d07-ac51-db66658a70d1",
   "metadata": {},
   "outputs": [],
   "source": [
    "# syntax -\n",
    "# while condition:\n",
    "            # body\n",
    "            # update condition variable"
   ]
  },
  {
   "cell_type": "code",
   "execution_count": 6,
   "id": "bad028ae-8276-42eb-9043-fc0674c80799",
   "metadata": {},
   "outputs": [
    {
     "name": "stdin",
     "output_type": "stream",
     "text": [
      " 2\n"
     ]
    },
    {
     "name": "stdout",
     "output_type": "stream",
     "text": [
      "2\n",
      "3\n",
      "4\n",
      "5\n"
     ]
    }
   ],
   "source": [
    "# count until i get n<=5\n",
    "n=int(input())\n",
    "while (n<=5):\n",
    "  print(n)\n",
    "  n+=1"
   ]
  },
  {
   "cell_type": "code",
   "execution_count": 8,
   "id": "27b918ad-8e35-4e96-9d3b-b60e5bd4aebe",
   "metadata": {},
   "outputs": [
    {
     "name": "stdin",
     "output_type": "stream",
     "text": [
      " -6\n"
     ]
    },
    {
     "name": "stdout",
     "output_type": "stream",
     "text": [
      "enter positive number\n"
     ]
    },
    {
     "name": "stdin",
     "output_type": "stream",
     "text": [
      " -5\n"
     ]
    },
    {
     "name": "stdout",
     "output_type": "stream",
     "text": [
      "enter positive number\n"
     ]
    },
    {
     "name": "stdin",
     "output_type": "stream",
     "text": [
      " 5\n"
     ]
    },
    {
     "name": "stdout",
     "output_type": "stream",
     "text": [
      "number is:  5\n"
     ]
    }
   ],
   "source": [
    "# w.a.p that will keep asking for a positive num-\n",
    "num = int(input())\n",
    "while(num<=0):\n",
    "  print(\"enter positive number\")\n",
    "  num = int(input())\n",
    "print(\"number is: \",num)\n"
   ]
  },
  {
   "cell_type": "code",
   "execution_count": 9,
   "id": "ed25275a-6734-447a-8ded-99b9302ecbc6",
   "metadata": {},
   "outputs": [
    {
     "name": "stdout",
     "output_type": "stream",
     "text": [
      "1\n",
      "2\n",
      "3\n",
      "4\n"
     ]
    }
   ],
   "source": [
    "# control statements -\n",
    "# break - terminate the program\n",
    "for i in range(1,11):\n",
    "  if(i==5):\n",
    "    break\n",
    "  print(i)"
   ]
  },
  {
   "cell_type": "code",
   "execution_count": 10,
   "id": "7b794e74-ac17-47b8-9995-135350a7f7c8",
   "metadata": {},
   "outputs": [
    {
     "name": "stdout",
     "output_type": "stream",
     "text": [
      "1\n",
      "2\n",
      "3\n",
      "4\n",
      "6\n",
      "7\n",
      "8\n",
      "9\n",
      "10\n"
     ]
    }
   ],
   "source": [
    "# continue - skip the value and continue to next\n",
    "for i in range(1,11):\n",
    "  if(i==5):\n",
    "    continue\n",
    "  print(i)"
   ]
  },
  {
   "cell_type": "code",
   "execution_count": 11,
   "id": "60a55897-d3fa-4b5f-95b6-3844a7e5a5d8",
   "metadata": {},
   "outputs": [
    {
     "name": "stdout",
     "output_type": "stream",
     "text": [
      "1\n",
      "2\n",
      "3\n",
      "4\n",
      "5\n",
      "6\n"
     ]
    }
   ],
   "source": [
    "for i in range(1,11):\n",
    "  if(i==7):\n",
    "    break\n",
    "  print(i)"
   ]
  },
  {
   "cell_type": "code",
   "execution_count": 15,
   "id": "8aed8b15-4aff-4eb7-8ffa-1948987d948a",
   "metadata": {},
   "outputs": [
    {
     "name": "stdout",
     "output_type": "stream",
     "text": [
      "2\n",
      "2\n"
     ]
    }
   ],
   "source": [
    "while True:\n",
    "    print(2)\n",
    "    if True:\n",
    "        break\n",
    "print(2)"
   ]
  },
  {
   "cell_type": "code",
   "execution_count": 16,
   "id": "d63ad657-fee1-4770-80bc-5f6aaa6b9e5c",
   "metadata": {},
   "outputs": [],
   "source": [
    "# pass - does nothing - avoid the error\n",
    "for i in range(1,11):\n",
    "  pass"
   ]
  },
  {
   "cell_type": "code",
   "execution_count": 17,
   "id": "144d3315-e232-436a-9b69-4df8679fb2d9",
   "metadata": {},
   "outputs": [],
   "source": [
    "# print the numbers from 1 to 15 and once you get  10 dont print anything\n",
    "# print the number from 3 to 10 and once you get 7 skip that number"
   ]
  },
  {
   "cell_type": "code",
   "execution_count": 18,
   "id": "23e2445a-f93a-41af-b1a1-eb70472b6004",
   "metadata": {},
   "outputs": [
    {
     "name": "stdout",
     "output_type": "stream",
     "text": [
      "1\n",
      "2\n",
      "3\n",
      "4\n",
      "5\n",
      "6\n",
      "7\n",
      "8\n",
      "9\n"
     ]
    }
   ],
   "source": [
    "n = 0\n",
    "while (n<15):\n",
    "    n = n + 1\n",
    "    if(n==10):\n",
    "        break;\n",
    "    print(n)\n",
    "   "
   ]
  },
  {
   "cell_type": "code",
   "execution_count": 19,
   "id": "8ffadce8-ad61-41b4-9dec-011955d11846",
   "metadata": {},
   "outputs": [
    {
     "name": "stdout",
     "output_type": "stream",
     "text": [
      "3\n",
      "4\n",
      "5\n",
      "6\n",
      "8\n",
      "9\n",
      "10\n"
     ]
    }
   ],
   "source": [
    "for i in range(3,11):\n",
    "    if(i == 7):\n",
    "        continue;\n",
    "    print(i)"
   ]
  },
  {
   "cell_type": "code",
   "execution_count": 20,
   "id": "32d56e50-dc15-46ca-9a8e-dfb76071e95c",
   "metadata": {},
   "outputs": [],
   "source": [
    "# take your input one string and write a program that will repeatly ask user to enter\n",
    "# correct string until the user is going to eneter delhi"
   ]
  },
  {
   "cell_type": "code",
   "execution_count": 21,
   "id": "445a7e17-2a6d-4150-8725-807872b3f6dd",
   "metadata": {},
   "outputs": [
    {
     "name": "stdin",
     "output_type": "stream",
     "text": [
      "Enter a City:  Delhi\n"
     ]
    },
    {
     "name": "stdout",
     "output_type": "stream",
     "text": [
      "The city is:  Delhi\n"
     ]
    }
   ],
   "source": [
    "n = input(\"Enter a City: \")\n",
    "while(n != \"Delhi\"):\n",
    "    n = input(\"Enter a City: \")\n",
    "\n",
    "    if(n == \"Delhi\"):\n",
    "        break;\n",
    "print(\"The city is: \", n);"
   ]
  },
  {
   "cell_type": "code",
   "execution_count": 22,
   "id": "8678d1c6-f291-420d-aba2-e40e11feafd8",
   "metadata": {},
   "outputs": [
    {
     "name": "stdout",
     "output_type": "stream",
     "text": [
      "apple\n",
      "guvava\n",
      "papaya\n",
      "watermelon\n"
     ]
    }
   ],
   "source": [
    "# loop through a list and stop if \"banana\" is found\n",
    "l1 = ['apple','guvava','papaya','watermelon','banana','grapes','berries']\n",
    "for i in l1:\n",
    "    if(i == \"banana\"):\n",
    "        break;\n",
    "    print(i)"
   ]
  },
  {
   "cell_type": "code",
   "execution_count": 24,
   "id": "70b83016-2c8e-4eb0-a530-9069ba7a769b",
   "metadata": {},
   "outputs": [
    {
     "name": "stdout",
     "output_type": "stream",
     "text": [
      "2\n",
      "4\n",
      "6\n",
      "8\n",
      "10\n"
     ]
    }
   ],
   "source": [
    "# print only even numbers from 1 to 10 using continue\n",
    "for i in range(1,11):\n",
    "    if( i % 2 != 0):\n",
    "        continue;\n",
    "    print(i)"
   ]
  },
  {
   "cell_type": "code",
   "execution_count": null,
   "id": "19f6865f-5b57-4cf7-971f-2e71089f1d21",
   "metadata": {},
   "outputs": [],
   "source": []
  }
 ],
 "metadata": {
  "kernelspec": {
   "display_name": "Python 3 (ipykernel)",
   "language": "python",
   "name": "python3"
  },
  "language_info": {
   "codemirror_mode": {
    "name": "ipython",
    "version": 3
   },
   "file_extension": ".py",
   "mimetype": "text/x-python",
   "name": "python",
   "nbconvert_exporter": "python",
   "pygments_lexer": "ipython3",
   "version": "3.13.5"
  }
 },
 "nbformat": 4,
 "nbformat_minor": 5
}
