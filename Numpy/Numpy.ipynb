{
 "cells": [
  {
   "cell_type": "code",
   "execution_count": 1,
   "id": "ef3fd58c-3129-468a-9683-8a4af222953a",
   "metadata": {},
   "outputs": [],
   "source": [
    "import numpy as np"
   ]
  },
  {
   "cell_type": "code",
   "execution_count": 2,
   "id": "e9423e3c-9c20-4e85-94dd-4a5d09702246",
   "metadata": {},
   "outputs": [
    {
     "data": {
      "text/plain": [
       "array([1, 2, 3, 4, 5])"
      ]
     },
     "execution_count": 2,
     "metadata": {},
     "output_type": "execute_result"
    }
   ],
   "source": [
    "# Covert list/tuple into array\n",
    "ar1 = np.array([1,2,3,4,5])\n",
    "ar1"
   ]
  },
  {
   "cell_type": "code",
   "execution_count": 3,
   "id": "dfc5572f-6bbc-486f-a6c1-047794526da7",
   "metadata": {},
   "outputs": [
    {
     "data": {
      "text/plain": [
       "numpy.ndarray"
      ]
     },
     "execution_count": 3,
     "metadata": {},
     "output_type": "execute_result"
    }
   ],
   "source": [
    "type(ar1)   # Data structure for ar1 --> array"
   ]
  },
  {
   "cell_type": "code",
   "execution_count": 4,
   "id": "90733c91-2419-45ab-a521-ec594f70bc4c",
   "metadata": {},
   "outputs": [
    {
     "data": {
      "text/plain": [
       "array(['1', '2', '3', '4', 'a'], dtype='<U21')"
      ]
     },
     "execution_count": 4,
     "metadata": {},
     "output_type": "execute_result"
    }
   ],
   "source": [
    "np.array([1,2,3,4,'a'])   # everything will be converted to higher order data types\n",
    "# U --> uni coded strings"
   ]
  },
  {
   "cell_type": "code",
   "execution_count": 5,
   "id": "d15a6778-c12c-4b45-8908-8e1398590b15",
   "metadata": {},
   "outputs": [],
   "source": [
    "# bool --> int --> float --> complex --> str"
   ]
  },
  {
   "cell_type": "code",
   "execution_count": 6,
   "id": "65e9036f-b925-4681-9b83-1a964824106d",
   "metadata": {},
   "outputs": [
    {
     "data": {
      "text/plain": [
       "array([1. , 2.4, 2. , 3. , 4. , 5. , 6. , 7. , 8. ])"
      ]
     },
     "execution_count": 6,
     "metadata": {},
     "output_type": "execute_result"
    }
   ],
   "source": [
    "np.array([1,2.4,2,3,4,5,6,7,8])"
   ]
  },
  {
   "cell_type": "code",
   "execution_count": 7,
   "id": "5b1f82cd-3098-46ac-980e-d9baa0624dd3",
   "metadata": {},
   "outputs": [
    {
     "data": {
      "text/plain": [
       "[1, 4, 9, 16, 25]"
      ]
     },
     "execution_count": 7,
     "metadata": {},
     "output_type": "execute_result"
    }
   ],
   "source": [
    "list1 = [1,2,3,4,5]\n",
    "[i**2 for i in list1]"
   ]
  },
  {
   "cell_type": "code",
   "execution_count": 8,
   "id": "9b8c6390-b44e-4fb5-bbe1-ca2e71ab27b4",
   "metadata": {},
   "outputs": [
    {
     "data": {
      "text/plain": [
       "array([ 1,  4,  9, 16, 25])"
      ]
     },
     "execution_count": 8,
     "metadata": {},
     "output_type": "execute_result"
    }
   ],
   "source": [
    "ar1**2"
   ]
  },
  {
   "cell_type": "code",
   "execution_count": 9,
   "id": "aeb9ce7f-3ebe-45f3-9324-e8bbb9537f71",
   "metadata": {},
   "outputs": [
    {
     "data": {
      "text/plain": [
       "array([[0., 0., 0., 0.],\n",
       "       [0., 0., 0., 0.],\n",
       "       [0., 0., 0., 0.]])"
      ]
     },
     "execution_count": 9,
     "metadata": {},
     "output_type": "execute_result"
    }
   ],
   "source": [
    "np.zeros([3,4]) #[3,4] --> shape parameter\n",
    "#Generates an array of 3 rows and 4 columns"
   ]
  },
  {
   "cell_type": "code",
   "execution_count": 10,
   "id": "dc7ec10c-7135-41cd-9d29-7b138c617625",
   "metadata": {},
   "outputs": [
    {
     "data": {
      "text/plain": [
       "array([[0.9108809 , 0.57111381, 0.64321416, 0.25624151],\n",
       "       [0.64867885, 0.36477057, 0.79814179, 0.9606789 ],\n",
       "       [0.04737161, 0.59874342, 0.67654885, 0.8599728 ]])"
      ]
     },
     "execution_count": 10,
     "metadata": {},
     "output_type": "execute_result"
    }
   ],
   "source": [
    "np.random.random([3,4]) # shape parameteer\n",
    "#It creates array of 3 rows and 4 columns filled with random numbers in a rangge of 0 to 1"
   ]
  },
  {
   "cell_type": "code",
   "execution_count": 11,
   "id": "4df834cd-f09d-4b8f-a8be-511b13ba0487",
   "metadata": {},
   "outputs": [
    {
     "data": {
      "text/plain": [
       "8"
      ]
     },
     "execution_count": 11,
     "metadata": {},
     "output_type": "execute_result"
    }
   ],
   "source": [
    "np.random.randint(0,10) # for every execution it gives random number in range of 0 to 10"
   ]
  },
  {
   "cell_type": "markdown",
   "id": "8d60cde1-5512-44e2-8ff4-3d2b3775c289",
   "metadata": {},
   "source": [
    "### Initiating an Array"
   ]
  },
  {
   "cell_type": "code",
   "execution_count": 13,
   "id": "7647f45c-db12-4697-a18d-348c6b515f16",
   "metadata": {},
   "outputs": [
    {
     "data": {
      "text/plain": [
       "array([[10, 10, 10, 10],\n",
       "       [10, 10, 10, 10],\n",
       "       [10, 10, 10, 10]])"
      ]
     },
     "execution_count": 13,
     "metadata": {},
     "output_type": "execute_result"
    }
   ],
   "source": [
    "np.full([3,4], 10) # shape, value\n",
    "# Array of 3 rows and 4 columns and with a value of 10"
   ]
  },
  {
   "cell_type": "code",
   "execution_count": 14,
   "id": "b4329436-6cb5-4f28-ba00-cb3d4fa9744d",
   "metadata": {},
   "outputs": [
    {
     "data": {
      "text/plain": [
       "array([['a', 'a'],\n",
       "       ['a', 'a']], dtype='<U1')"
      ]
     },
     "execution_count": 14,
     "metadata": {},
     "output_type": "execute_result"
    }
   ],
   "source": [
    "np.full([2,2], 'a')   # U --> Strings in numpy (unicoded strings)"
   ]
  },
  {
   "cell_type": "code",
   "execution_count": 15,
   "id": "f7f1c1f7-fbca-466a-b136-3e71b90f4921",
   "metadata": {},
   "outputs": [
    {
     "data": {
      "text/plain": [
       "range(0, 5)"
      ]
     },
     "execution_count": 15,
     "metadata": {},
     "output_type": "execute_result"
    }
   ],
   "source": [
    "range(0,5)"
   ]
  },
  {
   "cell_type": "code",
   "execution_count": 16,
   "id": "081e9967-845f-4336-ae27-facbecbb2da3",
   "metadata": {},
   "outputs": [
    {
     "name": "stdout",
     "output_type": "stream",
     "text": [
      "0 1 2 3 4 "
     ]
    }
   ],
   "source": [
    "for i in range(0,5):   # End value is not included\n",
    "    print(i, end = ' ')"
   ]
  },
  {
   "cell_type": "code",
   "execution_count": 17,
   "id": "2844aec4-1f65-4acc-9892-52996ef855ef",
   "metadata": {},
   "outputs": [
    {
     "data": {
      "text/plain": [
       "[0, 1, 2, 3, 4]"
      ]
     },
     "execution_count": 17,
     "metadata": {},
     "output_type": "execute_result"
    }
   ],
   "source": [
    "list(range(0,5))"
   ]
  },
  {
   "cell_type": "code",
   "execution_count": 18,
   "id": "0df956c2-f39b-493a-a40a-8171f67a75d8",
   "metadata": {},
   "outputs": [
    {
     "data": {
      "text/plain": [
       "[0, 2, 4, 6, 8]"
      ]
     },
     "execution_count": 18,
     "metadata": {},
     "output_type": "execute_result"
    }
   ],
   "source": [
    "list(range(0, 10, 2)) #start, end(not included), step value"
   ]
  },
  {
   "cell_type": "code",
   "execution_count": 19,
   "id": "a47b0b30-4b8d-4694-b8e2-ca683a9b9545",
   "metadata": {},
   "outputs": [
    {
     "data": {
      "text/plain": [
       "array([0, 1, 2, 3, 4, 5, 6, 7, 8, 9])"
      ]
     },
     "execution_count": 19,
     "metadata": {},
     "output_type": "execute_result"
    }
   ],
   "source": [
    "np.arange(0,10) "
   ]
  },
  {
   "cell_type": "code",
   "execution_count": 20,
   "id": "08ba22d6-e2f2-43e9-8d0e-97fbd50208cb",
   "metadata": {},
   "outputs": [
    {
     "data": {
      "text/plain": [
       "array([0, 2, 4, 6, 8])"
      ]
     },
     "execution_count": 20,
     "metadata": {},
     "output_type": "execute_result"
    }
   ],
   "source": [
    "np.arange(0,10,2) "
   ]
  },
  {
   "cell_type": "code",
   "execution_count": 21,
   "id": "cedd42a8-5ec0-4451-adbf-139c584b3bee",
   "metadata": {},
   "outputs": [
    {
     "data": {
      "text/plain": [
       "array([ 0.,  2.,  4.,  6.,  8., 10.])"
      ]
     },
     "execution_count": 21,
     "metadata": {},
     "output_type": "execute_result"
    }
   ],
   "source": [
    "np.linspace(0,10,6) # start, end(including), value\n",
    "# from 0 to 10, including 10, generating 6 numbers with equal difference"
   ]
  },
  {
   "cell_type": "code",
   "execution_count": 22,
   "id": "36fc5188-970b-4e1f-81af-1497b262721f",
   "metadata": {},
   "outputs": [
    {
     "data": {
      "text/plain": [
       "array([ 0.,  5., 10., 15., 20.])"
      ]
     },
     "execution_count": 22,
     "metadata": {},
     "output_type": "execute_result"
    }
   ],
   "source": [
    "np.linspace(0,20,5)"
   ]
  },
  {
   "cell_type": "code",
   "execution_count": 23,
   "id": "a90228b9-91f2-47e7-98db-5de8f5367d61",
   "metadata": {},
   "outputs": [],
   "source": [
    "# Analyzing Array"
   ]
  },
  {
   "cell_type": "code",
   "execution_count": 24,
   "id": "c6605a52-3779-4a11-aef0-1b9a8af21be2",
   "metadata": {},
   "outputs": [
    {
     "data": {
      "text/plain": [
       "array([0, 1, 2, 3, 4, 5, 6, 7, 8, 9])"
      ]
     },
     "execution_count": 24,
     "metadata": {},
     "output_type": "execute_result"
    }
   ],
   "source": [
    "ar1 = np.arange(0,10)\n",
    "ar1"
   ]
  },
  {
   "cell_type": "code",
   "execution_count": 25,
   "id": "0325f10c-8eb8-47a5-8735-574248abcaeb",
   "metadata": {},
   "outputs": [
    {
     "data": {
      "text/plain": [
       "dtype('int64')"
      ]
     },
     "execution_count": 25,
     "metadata": {},
     "output_type": "execute_result"
    }
   ],
   "source": [
    "ar1.dtype"
   ]
  },
  {
   "cell_type": "code",
   "execution_count": 26,
   "id": "ee14ca79-b1df-4a76-821d-a11eb08bf885",
   "metadata": {},
   "outputs": [
    {
     "data": {
      "text/plain": [
       "10"
      ]
     },
     "execution_count": 26,
     "metadata": {},
     "output_type": "execute_result"
    }
   ],
   "source": [
    "ar1.size  # No. of elements"
   ]
  },
  {
   "cell_type": "code",
   "execution_count": 27,
   "id": "285a4bba-0104-4b1b-9a44-d22186af30d1",
   "metadata": {},
   "outputs": [
    {
     "data": {
      "text/plain": [
       "1"
      ]
     },
     "execution_count": 27,
     "metadata": {},
     "output_type": "execute_result"
    }
   ],
   "source": [
    "ar1.ndim # No. of Dimensions"
   ]
  },
  {
   "cell_type": "code",
   "execution_count": 55,
   "id": "f4aaf01d-dac5-449a-ba59-971a1c45fc91",
   "metadata": {},
   "outputs": [
    {
     "data": {
      "text/plain": [
       "array([ 1,  2,  3,  4,  5,  6,  7,  8,  9, 10, 11, 12, 13, 14, 15, 16, 17,\n",
       "       18, 19, 20, 21, 22, 23, 24])"
      ]
     },
     "execution_count": 55,
     "metadata": {},
     "output_type": "execute_result"
    }
   ],
   "source": [
    "ar2 = np.arange(1,25)\n",
    "ar2"
   ]
  },
  {
   "cell_type": "code",
   "execution_count": 56,
   "id": "b2d0ad25-f6a2-441b-aa14-f9e893732589",
   "metadata": {},
   "outputs": [
    {
     "data": {
      "text/plain": [
       "24"
      ]
     },
     "execution_count": 56,
     "metadata": {},
     "output_type": "execute_result"
    }
   ],
   "source": [
    "ar2.size"
   ]
  },
  {
   "cell_type": "code",
   "execution_count": 57,
   "id": "90853635-e2b0-4acc-b8be-cc38bcb3a07a",
   "metadata": {},
   "outputs": [
    {
     "data": {
      "text/plain": [
       "array([[ 1,  2,  3,  4],\n",
       "       [ 5,  6,  7,  8],\n",
       "       [ 9, 10, 11, 12],\n",
       "       [13, 14, 15, 16],\n",
       "       [17, 18, 19, 20],\n",
       "       [21, 22, 23, 24]])"
      ]
     },
     "execution_count": 57,
     "metadata": {},
     "output_type": "execute_result"
    }
   ],
   "source": [
    "ar2 = ar2.reshape(6,4)\n",
    "ar2"
   ]
  },
  {
   "cell_type": "code",
   "execution_count": 58,
   "id": "e4cabd27-e18b-46d4-9124-3f3f7c84e873",
   "metadata": {},
   "outputs": [
    {
     "data": {
      "text/plain": [
       "(6, 4)"
      ]
     },
     "execution_count": 58,
     "metadata": {},
     "output_type": "execute_result"
    }
   ],
   "source": [
    "ar2.shape"
   ]
  },
  {
   "cell_type": "code",
   "execution_count": 59,
   "id": "e131d3cb-0507-4a6c-a21d-44056888ec04",
   "metadata": {},
   "outputs": [
    {
     "data": {
      "text/plain": [
       "2"
      ]
     },
     "execution_count": 59,
     "metadata": {},
     "output_type": "execute_result"
    }
   ],
   "source": [
    "ar2.ndim"
   ]
  },
  {
   "cell_type": "code",
   "execution_count": 60,
   "id": "8c29af68-26a0-4609-b75b-34c0e180bd68",
   "metadata": {},
   "outputs": [],
   "source": [
    "# For reshaping the dimension should be the product of the size of the element"
   ]
  },
  {
   "cell_type": "code",
   "execution_count": 61,
   "id": "4c705aeb-6a3e-49a8-88d6-03cb3215b6b6",
   "metadata": {},
   "outputs": [
    {
     "ename": "ValueError",
     "evalue": "cannot reshape array of size 24 into shape (3,3)",
     "output_type": "error",
     "traceback": [
      "\u001b[1;31m---------------------------------------------------------------------------\u001b[0m",
      "\u001b[1;31mValueError\u001b[0m                                Traceback (most recent call last)",
      "Cell \u001b[1;32mIn[61], line 1\u001b[0m\n\u001b[1;32m----> 1\u001b[0m ar2 \u001b[38;5;241m=\u001b[39m ar2\u001b[38;5;241m.\u001b[39mreshape(\u001b[38;5;241m3\u001b[39m,\u001b[38;5;241m3\u001b[39m)\n",
      "\u001b[1;31mValueError\u001b[0m: cannot reshape array of size 24 into shape (3,3)"
     ]
    }
   ],
   "source": [
    "ar2 = ar2.reshape(3,3)   #Gives Error"
   ]
  },
  {
   "cell_type": "code",
   "execution_count": 62,
   "id": "e02599f7-f774-4317-8f6c-194b9fad12c6",
   "metadata": {},
   "outputs": [
    {
     "data": {
      "text/plain": [
       "array([[[ 1,  2,  3,  4],\n",
       "        [ 5,  6,  7,  8]],\n",
       "\n",
       "       [[ 9, 10, 11, 12],\n",
       "        [13, 14, 15, 16]],\n",
       "\n",
       "       [[17, 18, 19, 20],\n",
       "        [21, 22, 23, 24]]])"
      ]
     },
     "execution_count": 62,
     "metadata": {},
     "output_type": "execute_result"
    }
   ],
   "source": [
    "ar3 = ar2.reshape(3,2,4) # 3 subarrays with 2 rows and 4 columns\n",
    "ar3"
   ]
  },
  {
   "cell_type": "code",
   "execution_count": 63,
   "id": "3bf15979-ec96-41ed-8ad2-91f2f81755c7",
   "metadata": {},
   "outputs": [
    {
     "data": {
      "text/plain": [
       "3"
      ]
     },
     "execution_count": 63,
     "metadata": {},
     "output_type": "execute_result"
    }
   ],
   "source": [
    "ar3.ndim"
   ]
  },
  {
   "cell_type": "code",
   "execution_count": 87,
   "id": "a3919e36-3331-44c0-8d8a-90653176bd0b",
   "metadata": {},
   "outputs": [
    {
     "data": {
      "text/plain": [
       "array([[ 1,  2,  3,  4],\n",
       "       [ 5,  6,  7,  8],\n",
       "       [ 9, 10, 11, 12],\n",
       "       [13, 14, 15, 16],\n",
       "       [17, 18, 19, 20],\n",
       "       [21, 22, 23, 24]])"
      ]
     },
     "execution_count": 87,
     "metadata": {},
     "output_type": "execute_result"
    }
   ],
   "source": [
    "ar1 = np.arange(1,25).reshape(6,4)\n",
    "ar1"
   ]
  },
  {
   "cell_type": "code",
   "execution_count": 88,
   "id": "69cb4313-ee44-432f-a69c-ac4d791a5569",
   "metadata": {},
   "outputs": [
    {
     "data": {
      "text/plain": [
       "(6, 4)"
      ]
     },
     "execution_count": 88,
     "metadata": {},
     "output_type": "execute_result"
    }
   ],
   "source": [
    "np.arange(1,25).reshape(6,4).shape"
   ]
  },
  {
   "cell_type": "markdown",
   "id": "01c781fe-0f97-4ae9-aa0a-a75544d4febd",
   "metadata": {},
   "source": [
    "### Array Mathematics"
   ]
  },
  {
   "cell_type": "code",
   "execution_count": 67,
   "id": "d0742c89-e59e-4471-a5bd-d789fc90e092",
   "metadata": {},
   "outputs": [
    {
     "data": {
      "text/plain": [
       "array([[10, 20],\n",
       "       [30, 40]])"
      ]
     },
     "execution_count": 67,
     "metadata": {},
     "output_type": "execute_result"
    }
   ],
   "source": [
    "ar1 = np.array([[10,20],[30,40]])\n",
    "ar1"
   ]
  },
  {
   "cell_type": "code",
   "execution_count": 68,
   "id": "6d33e3c3-e1de-425a-b784-e8e51932f6bb",
   "metadata": {},
   "outputs": [
    {
     "data": {
      "text/plain": [
       "np.int64(100)"
      ]
     },
     "execution_count": 68,
     "metadata": {},
     "output_type": "execute_result"
    }
   ],
   "source": [
    "np.sum(ar1)"
   ]
  },
  {
   "cell_type": "code",
   "execution_count": 69,
   "id": "261aef07-9572-4f81-be30-7f2d83b697d8",
   "metadata": {},
   "outputs": [
    {
     "data": {
      "text/plain": [
       "array([40, 60])"
      ]
     },
     "execution_count": 69,
     "metadata": {},
     "output_type": "execute_result"
    }
   ],
   "source": [
    "np.sum(ar1, axis = 0)"
   ]
  },
  {
   "cell_type": "code",
   "execution_count": 70,
   "id": "66fa1f21-a6d8-462c-a8af-08dc346b4168",
   "metadata": {},
   "outputs": [
    {
     "data": {
      "text/plain": [
       "array([30, 70])"
      ]
     },
     "execution_count": 70,
     "metadata": {},
     "output_type": "execute_result"
    }
   ],
   "source": [
    "np.sum(ar1, axis = 1)"
   ]
  },
  {
   "cell_type": "code",
   "execution_count": 71,
   "id": "1ee5e78f-b960-4b45-b34d-6662732830be",
   "metadata": {},
   "outputs": [
    {
     "name": "stdout",
     "output_type": "stream",
     "text": [
      "30\n",
      "10\n",
      "200\n",
      "2.0\n"
     ]
    }
   ],
   "source": [
    "print(np.add(20,10))\n",
    "print(np.subtract(20,10))\n",
    "print(np.multiply(20,10))\n",
    "print(np.divide(20,10))"
   ]
  },
  {
   "cell_type": "code",
   "execution_count": 72,
   "id": "7fc1ee4d-9ea1-40e7-a70b-4f63cdf99403",
   "metadata": {},
   "outputs": [
    {
     "name": "stdout",
     "output_type": "stream",
     "text": [
      "2.995732273553991\n",
      "4.47213595499958\n",
      "485165195.4097903\n",
      "0.9129452507276277\n"
     ]
    }
   ],
   "source": [
    "print(np.log(20))\n",
    "print(np.sqrt(20))\n",
    "print(np.exp(20))\n",
    "print(np.sin(20))"
   ]
  },
  {
   "cell_type": "code",
   "execution_count": 73,
   "id": "52449ae7-5bdc-4434-98f8-09d228347e57",
   "metadata": {},
   "outputs": [
    {
     "data": {
      "text/plain": [
       "array([[10, 20],\n",
       "       [30, 40]])"
      ]
     },
     "execution_count": 73,
     "metadata": {},
     "output_type": "execute_result"
    }
   ],
   "source": [
    "ar1"
   ]
  },
  {
   "cell_type": "code",
   "execution_count": 74,
   "id": "666492e1-5bbe-4607-8786-fca2161838f8",
   "metadata": {},
   "outputs": [
    {
     "name": "stdout",
     "output_type": "stream",
     "text": [
      "10\n"
     ]
    }
   ],
   "source": [
    "print(np.min(ar1))"
   ]
  },
  {
   "cell_type": "code",
   "execution_count": 75,
   "id": "4310cc1d-1390-43ab-b88e-81c99a0ec94a",
   "metadata": {},
   "outputs": [
    {
     "name": "stdout",
     "output_type": "stream",
     "text": [
      "25.0\n"
     ]
    }
   ],
   "source": [
    "print(np.mean(ar1)) #average"
   ]
  },
  {
   "cell_type": "code",
   "execution_count": 76,
   "id": "7b343e0c-75cd-4491-83fb-b951c502268e",
   "metadata": {},
   "outputs": [
    {
     "name": "stdout",
     "output_type": "stream",
     "text": [
      "40\n"
     ]
    }
   ],
   "source": [
    "print(np.max(ar1))"
   ]
  },
  {
   "cell_type": "markdown",
   "id": "de3027ca-0065-456f-85ae-95a91ae32e63",
   "metadata": {},
   "source": [
    "### Slicing\n",
    "\n",
    "- Index will start from zero and end value is not included [start: end-1]\n",
    "\n",
    "- for 2D data [start:end-1, start:end-1]"
   ]
  },
  {
   "cell_type": "code",
   "execution_count": 78,
   "id": "73c21987-96fd-4740-a6af-d828956faacc",
   "metadata": {},
   "outputs": [
    {
     "data": {
      "text/plain": [
       "array([1, 2, 3, 4, 5, 6, 7, 8, 9])"
      ]
     },
     "execution_count": 78,
     "metadata": {},
     "output_type": "execute_result"
    }
   ],
   "source": [
    "ar2 = np.arange(1,10)\n",
    "ar2"
   ]
  },
  {
   "cell_type": "code",
   "execution_count": 83,
   "id": "95f68be3-8cb5-426e-99a8-93205f1de1dc",
   "metadata": {},
   "outputs": [
    {
     "data": {
      "text/plain": [
       "[4, 5, 6, 7]"
      ]
     },
     "execution_count": 83,
     "metadata": {},
     "output_type": "execute_result"
    }
   ],
   "source": [
    "list1 = [1,2,3,4,5,6,7,8,9]\n",
    "list1\n",
    "list1[3:7]"
   ]
  },
  {
   "cell_type": "code",
   "execution_count": 92,
   "id": "a7012ead-a133-4c38-b265-9d94ff9babac",
   "metadata": {},
   "outputs": [
    {
     "data": {
      "text/plain": [
       "array([[ 1,  2,  3,  4],\n",
       "       [ 5,  6,  7,  8],\n",
       "       [ 9, 10, 11, 12],\n",
       "       [13, 14, 15, 16],\n",
       "       [17, 18, 19, 20],\n",
       "       [21, 22, 23, 24]])"
      ]
     },
     "execution_count": 92,
     "metadata": {},
     "output_type": "execute_result"
    }
   ],
   "source": [
    "ar1 = np.arange(1,25).reshape(6,4)\n",
    "ar1"
   ]
  },
  {
   "cell_type": "code",
   "execution_count": 93,
   "id": "8fad0202-f59a-43e1-b888-40e07c77285a",
   "metadata": {},
   "outputs": [
    {
     "data": {
      "text/plain": [
       "array([[10, 11],\n",
       "       [14, 15],\n",
       "       [18, 19]])"
      ]
     },
     "execution_count": 93,
     "metadata": {},
     "output_type": "execute_result"
    }
   ],
   "source": [
    "ar1[2:5,1:3]"
   ]
  },
  {
   "cell_type": "code",
   "execution_count": 94,
   "id": "752aba1b-4529-4c52-a8c0-06b040800507",
   "metadata": {},
   "outputs": [],
   "source": [
    "# If start value is not mentioned python will take 0 as default\n",
    "# If end value is not mentioned python executes till last"
   ]
  },
  {
   "cell_type": "code",
   "execution_count": 95,
   "id": "f0b8e4b4-0496-43cf-8050-f0f9ba7f712c",
   "metadata": {},
   "outputs": [
    {
     "data": {
      "text/plain": [
       "array([[ 9, 10, 11, 12],\n",
       "       [13, 14, 15, 16],\n",
       "       [17, 18, 19, 20],\n",
       "       [21, 22, 23, 24]])"
      ]
     },
     "execution_count": 95,
     "metadata": {},
     "output_type": "execute_result"
    }
   ],
   "source": [
    "ar1[2:6, :4]"
   ]
  },
  {
   "cell_type": "code",
   "execution_count": 96,
   "id": "b62b1925-541b-4cf9-99a3-175a6a808bb4",
   "metadata": {},
   "outputs": [
    {
     "data": {
      "text/plain": [
       "array([[ 9, 10, 11, 12],\n",
       "       [13, 14, 15, 16],\n",
       "       [17, 18, 19, 20],\n",
       "       [21, 22, 23, 24]])"
      ]
     },
     "execution_count": 96,
     "metadata": {},
     "output_type": "execute_result"
    }
   ],
   "source": [
    "ar1[2:6, 0:]"
   ]
  },
  {
   "cell_type": "code",
   "execution_count": 97,
   "id": "050eee06-13aa-403e-9795-c8dfd53b4841",
   "metadata": {},
   "outputs": [
    {
     "data": {
      "text/plain": [
       "array([[ 9, 10, 11, 12],\n",
       "       [13, 14, 15, 16],\n",
       "       [17, 18, 19, 20],\n",
       "       [21, 22, 23, 24]])"
      ]
     },
     "execution_count": 97,
     "metadata": {},
     "output_type": "execute_result"
    }
   ],
   "source": [
    "ar1[2:, :]"
   ]
  },
  {
   "cell_type": "code",
   "execution_count": 98,
   "id": "75f62936-34f8-433d-b3eb-7bab304ca6c5",
   "metadata": {},
   "outputs": [
    {
     "data": {
      "text/plain": [
       "array([[ 9, 10, 11, 12],\n",
       "       [13, 14, 15, 16],\n",
       "       [17, 18, 19, 20],\n",
       "       [21, 22, 23, 24]])"
      ]
     },
     "execution_count": 98,
     "metadata": {},
     "output_type": "execute_result"
    }
   ],
   "source": [
    "# If the objective is to extract few rows with all the columns\n",
    "ar1[2:] #If no value for columns mentioned it will extract all the columns"
   ]
  },
  {
   "cell_type": "code",
   "execution_count": 99,
   "id": "aaefb06c-d09e-4e03-8f5c-71af483c2d25",
   "metadata": {},
   "outputs": [
    {
     "data": {
      "text/plain": [
       "array([[ 3,  4],\n",
       "       [ 7,  8],\n",
       "       [11, 12],\n",
       "       [15, 16],\n",
       "       [19, 20],\n",
       "       [23, 24]])"
      ]
     },
     "execution_count": 99,
     "metadata": {},
     "output_type": "execute_result"
    }
   ],
   "source": [
    " # If the objective is to extract all the rows with few columns\n",
    "ar1[:,2:]"
   ]
  },
  {
   "cell_type": "code",
   "execution_count": 100,
   "id": "15dd8418-0c3f-491d-92bd-59bc370e89d6",
   "metadata": {},
   "outputs": [
    {
     "data": {
      "text/plain": [
       "array([[ 1,  2,  3,  4],\n",
       "       [ 5,  6,  7,  8],\n",
       "       [ 9, 10, 11, 12],\n",
       "       [13, 14, 15, 16],\n",
       "       [17, 18, 19, 20],\n",
       "       [21, 22, 23, 24]])"
      ]
     },
     "execution_count": 100,
     "metadata": {},
     "output_type": "execute_result"
    }
   ],
   "source": [
    "ar1[:6]"
   ]
  },
  {
   "cell_type": "code",
   "execution_count": 103,
   "id": "2a86cb53-3096-4264-bc69-cfa9989e647b",
   "metadata": {},
   "outputs": [
    {
     "data": {
      "text/plain": [
       "(array([2]), array([1]))"
      ]
     },
     "execution_count": 103,
     "metadata": {},
     "output_type": "execute_result"
    }
   ],
   "source": [
    "np.where(ar1 == 10) # row and column is used to identify index of any value in array"
   ]
  },
  {
   "cell_type": "markdown",
   "id": "0859ea62-35a8-4889-82e9-7e5b72a00994",
   "metadata": {},
   "source": [
    "### Array Manipulation"
   ]
  },
  {
   "cell_type": "code",
   "execution_count": 105,
   "id": "6eb234f3-664c-4081-8808-b3c0a202dcbb",
   "metadata": {},
   "outputs": [
    {
     "data": {
      "text/plain": [
       "array([[50, 60],\n",
       "       [70, 80]])"
      ]
     },
     "execution_count": 105,
     "metadata": {},
     "output_type": "execute_result"
    }
   ],
   "source": [
    "ar1 = np.array([[10,20],[30,40]])\n",
    "ar2 = np.array([[50,60],[70,80]])\n",
    "ar2"
   ]
  },
  {
   "cell_type": "code",
   "execution_count": 107,
   "id": "6213835a-8d0a-4e85-beab-8285503fdc0d",
   "metadata": {},
   "outputs": [
    {
     "data": {
      "text/plain": [
       "array([[10, 20, 50, 60],\n",
       "       [30, 40, 70, 80]])"
      ]
     },
     "execution_count": 107,
     "metadata": {},
     "output_type": "execute_result"
    }
   ],
   "source": [
    " np.concatenate([ar1,ar2], axis = 0) # axis = 0 --> perform concatenate operation on rows\n",
    "# comine ar1 and ar2 at row level"
   ]
  },
  {
   "cell_type": "code",
   "execution_count": 109,
   "id": "311cdbe9-a159-4177-a28a-f6fcc9e04c92",
   "metadata": {},
   "outputs": [
    {
     "name": "stderr",
     "output_type": "stream",
     "text": [
      "C:\\Users\\karan\\AppData\\Local\\Temp\\ipykernel_13812\\1180121787.py:1: DeprecationWarning: `row_stack` alias is deprecated. Use `np.vstack` directly.\n",
      "  np.row_stack([ar1,ar2])\n"
     ]
    },
    {
     "data": {
      "text/plain": [
       "array([[10, 20],\n",
       "       [30, 40],\n",
       "       [50, 60],\n",
       "       [70, 80]])"
      ]
     },
     "execution_count": 109,
     "metadata": {},
     "output_type": "execute_result"
    }
   ],
   "source": [
    "np.row_stack([ar1,ar2])"
   ]
  },
  {
   "cell_type": "code",
   "execution_count": 113,
   "id": "3a9aa39f-963f-4e36-9f34-348fb25ff77a",
   "metadata": {},
   "outputs": [
    {
     "data": {
      "text/plain": [
       "array([[10, 20],\n",
       "       [30, 40],\n",
       "       [50, 60],\n",
       "       [70, 80]])"
      ]
     },
     "execution_count": 113,
     "metadata": {},
     "output_type": "execute_result"
    }
   ],
   "source": [
    "np.vstack([ar1,ar2]) # Vertical Stack"
   ]
  },
  {
   "cell_type": "code",
   "execution_count": 114,
   "id": "42b16409-f957-4390-a7e9-ce5c59329d9e",
   "metadata": {},
   "outputs": [
    {
     "data": {
      "text/plain": [
       "array([[10, 20, 50, 60],\n",
       "       [30, 40, 70, 80]])"
      ]
     },
     "execution_count": 114,
     "metadata": {},
     "output_type": "execute_result"
    }
   ],
   "source": [
    " np.concatenate([ar1,ar2], axis = 1) # axis = 1 --> perform concatenate operation on column\n",
    "# comine ar1 and ar2 at column level"
   ]
  },
  {
   "cell_type": "code",
   "execution_count": 115,
   "id": "5a54f4e8-f2f6-4f85-ab06-82ccd0b08273",
   "metadata": {},
   "outputs": [
    {
     "data": {
      "text/plain": [
       "array([[10, 20, 50, 60],\n",
       "       [30, 40, 70, 80]])"
      ]
     },
     "execution_count": 115,
     "metadata": {},
     "output_type": "execute_result"
    }
   ],
   "source": [
    "np.column_stack([ar1,ar2])"
   ]
  },
  {
   "cell_type": "code",
   "execution_count": 116,
   "id": "92c13bb5-db9c-4d0d-8807-4ba3d86c442b",
   "metadata": {},
   "outputs": [
    {
     "data": {
      "text/plain": [
       "array([[10, 20, 50, 60],\n",
       "       [30, 40, 70, 80]])"
      ]
     },
     "execution_count": 116,
     "metadata": {},
     "output_type": "execute_result"
    }
   ],
   "source": [
    "np.hstack([ar1,ar2]) # Horizontal Stack"
   ]
  },
  {
   "cell_type": "code",
   "execution_count": 120,
   "id": "fb1f9380-12db-4180-b34a-278b3232acba",
   "metadata": {},
   "outputs": [
    {
     "data": {
      "text/plain": [
       "array([[10, 20, 50, 60, 10, 20],\n",
       "       [30, 40, 70, 80, 30, 40]])"
      ]
     },
     "execution_count": 120,
     "metadata": {},
     "output_type": "execute_result"
    }
   ],
   "source": [
    "ar3 = np.hstack([ar1,ar2,ar1])\n",
    "ar3"
   ]
  },
  {
   "cell_type": "code",
   "execution_count": 121,
   "id": "55c1074d-9996-4ef4-be79-7704e2979a42",
   "metadata": {},
   "outputs": [
    {
     "data": {
      "text/plain": [
       "[array([[10, 20],\n",
       "        [30, 40]]),\n",
       " array([[50, 60],\n",
       "        [70, 80]]),\n",
       " array([[10, 20],\n",
       "        [30, 40]])]"
      ]
     },
     "execution_count": 121,
     "metadata": {},
     "output_type": "execute_result"
    }
   ],
   "source": [
    "np.hsplit(ar3,3) # Split array into 3"
   ]
  },
  {
   "cell_type": "code",
   "execution_count": null,
   "id": "b3d2eee2-a446-4e6c-b4b7-e52e875226c7",
   "metadata": {},
   "outputs": [],
   "source": []
  }
 ],
 "metadata": {
  "kernelspec": {
   "display_name": "Python 3 (ipykernel)",
   "language": "python",
   "name": "python3"
  },
  "language_info": {
   "codemirror_mode": {
    "name": "ipython",
    "version": 3
   },
   "file_extension": ".py",
   "mimetype": "text/x-python",
   "name": "python",
   "nbconvert_exporter": "python",
   "pygments_lexer": "ipython3",
   "version": "3.13.5"
  }
 },
 "nbformat": 4,
 "nbformat_minor": 5
}
