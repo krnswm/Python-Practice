{
 "cells": [
  {
   "cell_type": "code",
   "execution_count": 5,
   "id": "e02d1610-48a5-4f5e-87aa-572a38e320f1",
   "metadata": {},
   "outputs": [
    {
     "name": "stdout",
     "output_type": "stream",
     "text": [
      "[1 2 3 4 5] int64\n",
      "[1.2 2.3 3.4 4.5 5.6] float64\n"
     ]
    }
   ],
   "source": [
    "# 1. Create a numpy array with numpy.array module and with a data type integer and float\n",
    "\n",
    "import numpy as np\n",
    "a = np.array([1,2,3,4,5])\n",
    "b = np.array([1.2,2.3,3.4,4.5,5.6])\n",
    "print(a, a.dtype)\n",
    "print(b, b.dtype)"
   ]
  },
  {
   "cell_type": "code",
   "execution_count": 24,
   "id": "b58f1835-46c5-48f2-8825-991cf2a20e60",
   "metadata": {},
   "outputs": [
    {
     "name": "stdout",
     "output_type": "stream",
     "text": [
      "10 0\n",
      "[1 2 3 4 5] 1\n",
      "[[1 2]\n",
      " [3 4]] 2\n",
      "[[[1 2]\n",
      "  [2 3]\n",
      "  [3 4]]\n",
      "\n",
      " [[5 6]\n",
      "  [6 7]\n",
      "  [7 8]]] 3\n"
     ]
    }
   ],
   "source": [
    "# 2. Create 0D, 1D, 2D, 3D and 4D array respectively and also print their shape and dimensions of the numpy array we created above\n",
    "\n",
    "arr = np.array(10)\n",
    "arr1 = np.array([1,2,3,4,5])\n",
    "arr2 = np.array([[1,2],[3,4]])\n",
    "arr3 = np.array([\n",
    "    [[1,2],[2,3],[3,4]],\n",
    "    [[5,6],[6,7],[7,8]]\n",
    "])\n",
    "print(arr, arr.ndim)\n",
    "print(arr1, arr1.ndim)\n",
    "print(arr2, arr2.ndim)\n",
    "print(arr3, arr3.ndim)"
   ]
  },
  {
   "cell_type": "code",
   "execution_count": 26,
   "id": "a31cb1d5-a610-455c-adb7-448252d7ff5e",
   "metadata": {},
   "outputs": [
    {
     "name": "stdout",
     "output_type": "stream",
     "text": [
      "[[1. 0. 0.]\n",
      " [0. 1. 0.]]\n",
      "[[1. 0. 0.]\n",
      " [0. 1. 0.]\n",
      " [0. 0. 1.]]\n",
      "[[1. 0. 0. 0.]\n",
      " [0. 1. 0. 0.]\n",
      " [0. 0. 1. 0.]\n",
      " [0. 0. 0. 1.]]\n",
      "[[1. 0. 0. 0.]\n",
      " [0. 1. 0. 0.]\n",
      " [0. 0. 1. 0.]]\n"
     ]
    }
   ],
   "source": [
    "# 3. Create a 2 * 3 , 3 * 3, 4 * 4 and 3 * 4 Identity matrix using numpy\n",
    "\n",
    "x = np.eye(2,3)  # Create an Identity Matrix\n",
    "print(x)\n",
    "\n",
    "y = np.identity(3)\n",
    "print(y)\n",
    "\n",
    "z = np.identity(4)\n",
    "print(z)\n",
    "\n",
    "w = np.eye(3,4)\n",
    "print(w)"
   ]
  },
  {
   "cell_type": "code",
   "execution_count": 29,
   "id": "6ecf1470-ac58-4e17-adfd-7dddb6bcfcb2",
   "metadata": {},
   "outputs": [
    {
     "name": "stdout",
     "output_type": "stream",
     "text": [
      "[[0 0 0 0 0]\n",
      " [0 0 0 0 0]]\n"
     ]
    }
   ],
   "source": [
    "# 4. Create a numpy array with shape 2,5 that has all the elements as zero\n",
    "\n",
    "zero = np.zeros((2,5), dtype='int32')\n",
    "print(zero)"
   ]
  },
  {
   "cell_type": "code",
   "execution_count": 33,
   "id": "6f630f11-00f2-47f5-b80b-96bb24160d6e",
   "metadata": {},
   "outputs": [
    {
     "name": "stdout",
     "output_type": "stream",
     "text": [
      "[[5 5 5 5 5]\n",
      " [5 5 5 5 5]\n",
      " [5 5 5 5 5]]\n"
     ]
    }
   ],
   "source": [
    "# 5. Create a numpy array that has the shape 3,5 and all elements are 5\n",
    "\n",
    "arrFive = np.full((3,5), 5, dtype='int64') # Create array with uniform elements that are mentioned\n",
    "print(arrFive)"
   ]
  },
  {
   "cell_type": "code",
   "execution_count": 45,
   "id": "db5a0812-adbd-4b30-9e3f-a78ab998083b",
   "metadata": {},
   "outputs": [
    {
     "name": "stdout",
     "output_type": "stream",
     "text": [
      "[21 42 38 59  3  2 89 93 94 65 69 48 58 79 14 29 93 50 75 35 37  7 33 10\n",
      " 40]\n"
     ]
    }
   ],
   "source": [
    "# 6. Create a numpy array with random integers in the range 0 to 100 and sample size should be 25\n",
    "\n",
    "ran = np.random.randint(0,101, (25))\n",
    "print(ran)"
   ]
  },
  {
   "cell_type": "code",
   "execution_count": 47,
   "id": "d1d1f4f0-a18f-443d-9539-fde91ee8f7e2",
   "metadata": {},
   "outputs": [
    {
     "name": "stdout",
     "output_type": "stream",
     "text": [
      "[[1. 1. 1.]\n",
      " [1. 1. 1.]\n",
      " [1. 1. 1.]]\n"
     ]
    }
   ],
   "source": [
    "# 7. Create a numpy array with a shape 3X3 that should be having all the elements as 1\n",
    "\n",
    "arrOne = np.ones((3,3))\n",
    "print(arrOne)"
   ]
  },
  {
   "cell_type": "code",
   "execution_count": 53,
   "id": "33522040-3873-4e1e-86d6-ac743a1e39d7",
   "metadata": {},
   "outputs": [
    {
     "name": "stdout",
     "output_type": "stream",
     "text": [
      "[[41 64 33]\n",
      " [72 23 21]]\n",
      "[[41 64]\n",
      " [33 72]\n",
      " [23 21]]\n",
      "The shape of the new Array is: (3, 2)\n"
     ]
    }
   ],
   "source": [
    "# 8. Create a numy array in the shape 2X3 and with random integers in the range 0 to 100 and reshape the array in 3X2 and print the updated shape of the resultant array\n",
    "\n",
    "arrX = np.random.randint(1,100, (2,3))\n",
    "print(arrX)\n",
    "arrxReshape = arrX.reshape(3,2)\n",
    "print(arrxReshape)\n",
    "print(f'The shape of the new Array is: {arrxReshape.shape}')"
   ]
  },
  {
   "cell_type": "code",
   "execution_count": 54,
   "id": "dd59790c-b506-4167-bce9-ae6c162746ad",
   "metadata": {},
   "outputs": [
    {
     "name": "stdout",
     "output_type": "stream",
     "text": [
      "[921 373 132 286 746 648 592 709  70 348 489 572 909 953 814 812 889 574\n",
      " 305  67 639 105  76 900 675 445 676 721 501 607 561 386  41 552 149 739\n",
      " 926 169 325 777 992 993 143 348 701 593 600 840 131  11]\n"
     ]
    }
   ],
   "source": [
    "# 9. Create a random array witht the range 0 to 1000 with size 50\n",
    "\n",
    "arra = np.random.randint(0,1001, (50))\n",
    "print(arra)"
   ]
  },
  {
   "cell_type": "code",
   "execution_count": 57,
   "id": "bcfe5650-a793-457c-8123-99dbef8d3b8c",
   "metadata": {},
   "outputs": [
    {
     "name": "stdout",
     "output_type": "stream",
     "text": [
      "First 10 elements are: [921 373 132 286 746 648 592 709  70 348]\n"
     ]
    }
   ],
   "source": [
    "# 10. Print the 1st 10 elements of the array\n",
    "\n",
    "print(f'First 10 elements are: {arra[:10]}')"
   ]
  },
  {
   "cell_type": "code",
   "execution_count": 69,
   "id": "f08da3a3-a264-4857-b266-5d66dfa2d2aa",
   "metadata": {},
   "outputs": [
    {
     "name": "stdout",
     "output_type": "stream",
     "text": [
      "Last 10 elements are: [992 993 143 348 701 593 600 840 131  11]\n"
     ]
    }
   ],
   "source": [
    "# 11. Print the last 10 elements of the array\n",
    "\n",
    "print(f'Last 10 elements are: {arra[-10:]}')"
   ]
  },
  {
   "cell_type": "code",
   "execution_count": 65,
   "id": "4ad1daee-b837-4e21-9169-2b51457f3aea",
   "metadata": {},
   "outputs": [
    {
     "name": "stdout",
     "output_type": "stream",
     "text": [
      "[489 572 909 953 814 812 889 574 305  67 639 105  76 900 675 445]\n"
     ]
    }
   ],
   "source": [
    "# 12. Print elements from 10 to 25\n",
    "\n",
    "print(arra[10:26])"
   ]
  },
  {
   "cell_type": "code",
   "execution_count": 67,
   "id": "6b8d5257-3638-4226-bba0-c8b375a0af63",
   "metadata": {},
   "outputs": [
    {
     "name": "stdout",
     "output_type": "stream",
     "text": [
      "76\n"
     ]
    }
   ],
   "source": [
    "# 13. To get the 22nd element\n",
    "\n",
    "print(arra[22])"
   ]
  },
  {
   "cell_type": "code",
   "execution_count": 95,
   "id": "d3f1eba2-50fc-4270-ac26-6dd119ee5e27",
   "metadata": {},
   "outputs": [
    {
     "name": "stdout",
     "output_type": "stream",
     "text": [
      "[1 2 3 4 5]\n",
      "[1 2 3 4 5 6]\n",
      "[10  1  2  3  4  5  6]\n",
      "[10  1  2  3 30  4  5  6]\n",
      "[10  1  2  3 30  4 50  6]\n",
      "[10  1  2  3 30  4  6]\n"
     ]
    }
   ],
   "source": [
    "# 14. Given a numpy array [1,2,3,4,5]\n",
    "an = np.array([1,2,3,4,5])\n",
    "print(an)\n",
    "\n",
    "# Insert 6 at the end of the array\n",
    "an = np.append(an, 6)\n",
    "print(an)\n",
    "\n",
    "# Insert 10 at the beginning\n",
    "an = np.insert(an, 0, 10)\n",
    "print(an)\n",
    "\n",
    "# Insert the element 30 before 4\n",
    "an = np.insert(an, 4, 30)\n",
    "print(an)\n",
    "\n",
    "# Update the element 5 as 50\n",
    "\n",
    "an[an==5]=50\n",
    "print(an)\n",
    "\n",
    "#Delete the element 50 in the updated array\n",
    "an = np.delete(an, np.where(an==50))\n",
    "print(an)"
   ]
  },
  {
   "cell_type": "code",
   "execution_count": 100,
   "id": "2adfd585-9d8e-4f24-a97e-addf4ecc59ff",
   "metadata": {},
   "outputs": [
    {
     "name": "stdout",
     "output_type": "stream",
     "text": [
      "Ascending Order: [ 1  3  5  8 11 55 67 76]\n",
      "Descending ORDER: [76 67 55 11  8  5  3  1]\n"
     ]
    }
   ],
   "source": [
    "# 15. Sort the arry in ascending and descending order\n",
    "\n",
    "arrQ = np.array([8,1,5,67,3,55,76,11])\n",
    "arrsort = np.sort(arrQ)  # Sorts in Ascending Order\n",
    "arrsortD = np.sort(arrQ)[::-1] # Sorts in Descending Order\n",
    "print(f'Ascending Order: {arrsort}')\n",
    "print(f'Descending Order: {arrsortD}')"
   ]
  },
  {
   "cell_type": "code",
   "execution_count": null,
   "id": "2a52a779-b09f-4c82-8cf7-fb2c09e093b8",
   "metadata": {},
   "outputs": [],
   "source": []
  }
 ],
 "metadata": {
  "kernelspec": {
   "display_name": "Python 3 (ipykernel)",
   "language": "python",
   "name": "python3"
  },
  "language_info": {
   "codemirror_mode": {
    "name": "ipython",
    "version": 3
   },
   "file_extension": ".py",
   "mimetype": "text/x-python",
   "name": "python",
   "nbconvert_exporter": "python",
   "pygments_lexer": "ipython3",
   "version": "3.13.5"
  }
 },
 "nbformat": 4,
 "nbformat_minor": 5
}
