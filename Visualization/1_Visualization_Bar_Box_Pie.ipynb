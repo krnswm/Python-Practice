{
 "cells": [
  {
   "cell_type": "code",
   "execution_count": 1,
   "id": "f1ad2370-1bad-4fc4-a336-02c2fdf3dcc2",
   "metadata": {},
   "outputs": [],
   "source": [
    "import matplotlib.pyplot as plt\n",
    "import pandas as pd"
   ]
  },
  {
   "cell_type": "code",
   "execution_count": 5,
   "id": "709c4802-c346-44e3-b2b2-eb5b105757f8",
   "metadata": {},
   "outputs": [
    {
     "data": {
      "text/html": [
       "<div>\n",
       "<style scoped>\n",
       "    .dataframe tbody tr th:only-of-type {\n",
       "        vertical-align: middle;\n",
       "    }\n",
       "\n",
       "    .dataframe tbody tr th {\n",
       "        vertical-align: top;\n",
       "    }\n",
       "\n",
       "    .dataframe thead th {\n",
       "        text-align: right;\n",
       "    }\n",
       "</style>\n",
       "<table border=\"1\" class=\"dataframe\">\n",
       "  <thead>\n",
       "    <tr style=\"text-align: right;\">\n",
       "      <th></th>\n",
       "      <th>mpg</th>\n",
       "      <th>cylinders</th>\n",
       "      <th>displacement</th>\n",
       "      <th>Horse Power</th>\n",
       "      <th>weight</th>\n",
       "      <th>acceleration</th>\n",
       "      <th>year</th>\n",
       "      <th>origin</th>\n",
       "      <th>name</th>\n",
       "    </tr>\n",
       "  </thead>\n",
       "  <tbody>\n",
       "    <tr>\n",
       "      <th>0</th>\n",
       "      <td>18.0</td>\n",
       "      <td>8.0</td>\n",
       "      <td>307.0</td>\n",
       "      <td>130</td>\n",
       "      <td>3504</td>\n",
       "      <td>12.0</td>\n",
       "      <td>70</td>\n",
       "      <td>1</td>\n",
       "      <td>chevrolet chevelle malibu</td>\n",
       "    </tr>\n",
       "    <tr>\n",
       "      <th>1</th>\n",
       "      <td>15.0</td>\n",
       "      <td>8.0</td>\n",
       "      <td>350.0</td>\n",
       "      <td>165</td>\n",
       "      <td>3693</td>\n",
       "      <td>11.5</td>\n",
       "      <td>70</td>\n",
       "      <td>1</td>\n",
       "      <td>buick skylark 320</td>\n",
       "    </tr>\n",
       "    <tr>\n",
       "      <th>2</th>\n",
       "      <td>NaN</td>\n",
       "      <td>8.0</td>\n",
       "      <td>318.0</td>\n",
       "      <td>150</td>\n",
       "      <td>3436</td>\n",
       "      <td>11.0</td>\n",
       "      <td>70</td>\n",
       "      <td>1</td>\n",
       "      <td>plymouth satellite</td>\n",
       "    </tr>\n",
       "    <tr>\n",
       "      <th>3</th>\n",
       "      <td>NaN</td>\n",
       "      <td>8.0</td>\n",
       "      <td>NaN</td>\n",
       "      <td>150</td>\n",
       "      <td>3433</td>\n",
       "      <td>12.0</td>\n",
       "      <td>70</td>\n",
       "      <td>1</td>\n",
       "      <td>amc rebel sst</td>\n",
       "    </tr>\n",
       "    <tr>\n",
       "      <th>4</th>\n",
       "      <td>NaN</td>\n",
       "      <td>8.0</td>\n",
       "      <td>NaN</td>\n",
       "      <td>140</td>\n",
       "      <td>3449</td>\n",
       "      <td>10.5</td>\n",
       "      <td>70</td>\n",
       "      <td>1</td>\n",
       "      <td>ford torino</td>\n",
       "    </tr>\n",
       "  </tbody>\n",
       "</table>\n",
       "</div>"
      ],
      "text/plain": [
       "    mpg  cylinders  displacement Horse Power  weight  acceleration  year  \\\n",
       "0  18.0        8.0         307.0         130    3504          12.0    70   \n",
       "1  15.0        8.0         350.0         165    3693          11.5    70   \n",
       "2   NaN        8.0         318.0         150    3436          11.0    70   \n",
       "3   NaN        8.0           NaN         150    3433          12.0    70   \n",
       "4   NaN        8.0           NaN         140    3449          10.5    70   \n",
       "\n",
       "   origin                       name  \n",
       "0       1  chevrolet chevelle malibu  \n",
       "1       1          buick skylark 320  \n",
       "2       1         plymouth satellite  \n",
       "3       1              amc rebel sst  \n",
       "4       1                ford torino  "
      ]
     },
     "execution_count": 5,
     "metadata": {},
     "output_type": "execute_result"
    }
   ],
   "source": [
    "df1 = pd.read_csv('../Pandas/Auto.csv')\n",
    "df1.head()"
   ]
  },
  {
   "cell_type": "code",
   "execution_count": 6,
   "id": "35ae7982-dbaa-4b4f-adef-3388a2094564",
   "metadata": {},
   "outputs": [],
   "source": [
    "# Divide the Columns using Statistics data types\n",
    "# Continuous: mpg, displacement, Horse Power, Weight, acceleration\n",
    "# Discrete: Cylinders, origin, year, name"
   ]
  },
  {
   "cell_type": "markdown",
   "id": "ce9cc692-c88f-4fd1-826b-b2ad51d17bc6",
   "metadata": {},
   "source": [
    "### Bar Plot"
   ]
  },
  {
   "cell_type": "code",
   "execution_count": 8,
   "id": "0b2ba66f-4b28-4843-a718-d7729f0b509e",
   "metadata": {},
   "outputs": [],
   "source": [
    "# Discrete Data --> Bar Plot\n",
    "# 2D --> x-axis (contains unique values), y-axis (contains frequency)"
   ]
  },
  {
   "cell_type": "code",
   "execution_count": 9,
   "id": "ab817aac-72ef-4536-b00c-0a0e3b5dc6be",
   "metadata": {},
   "outputs": [
    {
     "data": {
      "text/plain": [
       "(248, 9)"
      ]
     },
     "execution_count": 9,
     "metadata": {},
     "output_type": "execute_result"
    }
   ],
   "source": [
    "df1[df1['origin'] == 1].shape"
   ]
  },
  {
   "cell_type": "code",
   "execution_count": 10,
   "id": "4a86c754-7894-4292-9661-bf2c6f09bbb5",
   "metadata": {},
   "outputs": [
    {
     "data": {
      "text/plain": [
       "origin\n",
       "1    248\n",
       "3     79\n",
       "2     70\n",
       "Name: count, dtype: int64"
      ]
     },
     "execution_count": 10,
     "metadata": {},
     "output_type": "execute_result"
    }
   ],
   "source": [
    "output = df1['origin'].value_counts()\n",
    "output"
   ]
  },
  {
   "cell_type": "code",
   "execution_count": 14,
   "id": "2445b96e-1fa1-4149-a81b-40a9641fe56c",
   "metadata": {},
   "outputs": [
    {
     "data": {
      "text/plain": [
       "Index([1, 3, 2], dtype='int64', name='origin')"
      ]
     },
     "execution_count": 14,
     "metadata": {},
     "output_type": "execute_result"
    }
   ],
   "source": [
    "uniq = output.index # x-axis\n",
    "uniq"
   ]
  },
  {
   "cell_type": "code",
   "execution_count": 15,
   "id": "5202c7bf-dd5f-4bc3-aa38-3f479d43c251",
   "metadata": {},
   "outputs": [
    {
     "data": {
      "text/plain": [
       "array([248,  79,  70])"
      ]
     },
     "execution_count": 15,
     "metadata": {},
     "output_type": "execute_result"
    }
   ],
   "source": [
    "freq = output.values # y-axis\n",
    "freq"
   ]
  },
  {
   "cell_type": "code",
   "execution_count": 16,
   "id": "6b4415b9-e083-4cab-9425-da96f3b24b52",
   "metadata": {},
   "outputs": [
    {
     "data": {
      "text/plain": [
       "<BarContainer object of 3 artists>"
      ]
     },
     "execution_count": 16,
     "metadata": {},
     "output_type": "execute_result"
    },
    {
     "data": {
      "image/png": "[encoded data removed]",
      "text/plain": [
       "<Figure size 640x480 with 1 Axes>"
      ]
     },
     "metadata": {},
     "output_type": "display_data"
    }
   ],
   "source": [
    "plt.bar(uniq, freq)"
   ]
  },
  {
   "cell_type": "code",
   "execution_count": 26,
   "id": "94bb5f88-74a8-4a15-98a2-ad5250ff6bdc",
   "metadata": {},
   "outputs": [
    {
     "data": {
      "image/png": "[encoded data removed]",
      "text/plain": [
       "<Figure size 640x480 with 1 Axes>"
      ]
     },
     "metadata": {},
     "output_type": "display_data"
    }
   ],
   "source": [
    "plt.bar(uniq, freq, color = ['Black', 'Blue', 'Yellow']) # Colors will be assigned based on values in the uniq [1,2,3]\n",
    "plt.xlabel('Unique') # Labels the x-axis\n",
    "plt.ylabel('Frequency') #Labels the y-axis\n",
    "plt.title('Bar Plot for Origin') # Gives title to the plot\n",
    "plt.show() # to hide unwanted information"
   ]
  },
  {
   "cell_type": "markdown",
   "id": "30303010-8af8-4899-b45d-138f59a9a307",
   "metadata": {},
   "source": [
    "### Pie Chart"
   ]
  },
  {
   "cell_type": "code",
   "execution_count": 24,
   "id": "cdb87420-23cd-486f-9880-5bd6380586e0",
   "metadata": {},
   "outputs": [
    {
     "data": {
      "image/png": "[encoded data removed]",
      "text/plain": [
       "<Figure size 640x480 with 1 Axes>"
      ]
     },
     "metadata": {},
     "output_type": "display_data"
    }
   ],
   "source": [
    "# Pie Chart should be created for discrete data\n",
    "\n",
    "plt.pie(freq, labels = uniq) # Here labels is the name of each section\n",
    "plt.show()"
   ]
  },
  {
   "cell_type": "markdown",
   "id": "19ea6bdf-3cb6-40df-917f-39283a089185",
   "metadata": {},
   "source": [
    "### Box PLot"
   ]
  },
  {
   "cell_type": "code",
   "execution_count": 29,
   "id": "84a16c26-547d-4e8e-82a8-12271fe41548",
   "metadata": {},
   "outputs": [],
   "source": [
    "# Used for continuous data\n",
    "# it is used to idntify outliers/ extremne values in data"
   ]
  },
  {
   "cell_type": "code",
   "execution_count": 31,
   "id": "17dbc93e-98ec-4045-87e0-b0ff097268c8",
   "metadata": {},
   "outputs": [
    {
     "data": {
      "image/png": "[encoded data removed]",
      "text/plain": [
       "<Figure size 640x480 with 1 Axes>"
      ]
     },
     "metadata": {},
     "output_type": "display_data"
    }
   ],
   "source": [
    "plt.boxplot(df1['weight'])\n",
    "plt.show()"
   ]
  },
  {
   "cell_type": "code",
   "execution_count": 32,
   "id": "68bb0022-414f-4f6f-8d8b-7054b3641549",
   "metadata": {},
   "outputs": [
    {
     "data": {
      "image/png": "[encoded data removed]",
      "text/plain": [
       "<Figure size 640x480 with 1 Axes>"
      ]
     },
     "metadata": {},
     "output_type": "display_data"
    }
   ],
   "source": [
    "plt.boxplot(df1['acceleration'])\n",
    "plt.show()"
   ]
  },
  {
   "cell_type": "code",
   "execution_count": null,
   "id": "14bba6e3-6854-461c-8009-f0e2fb4ee8be",
   "metadata": {},
   "outputs": [],
   "source": []
  }
 ],
 "metadata": {
  "kernelspec": {
   "display_name": "Python 3 (ipykernel)",
   "language": "python",
   "name": "python3"
  },
  "language_info": {
   "codemirror_mode": {
    "name": "ipython",
    "version": 3
   },
   "file_extension": ".py",
   "mimetype": "text/x-python",
   "name": "python",
   "nbconvert_exporter": "python",
   "pygments_lexer": "ipython3",
   "version": "3.13.5"
  }
 },
 "nbformat": 4,
 "nbformat_minor": 5
}
