{
 "cells": [
  {
   "cell_type": "markdown",
   "id": "dab8db98-3115-459a-937d-07f66fdf3e89",
   "metadata": {},
   "source": [
    "NON - SEQUENTIAL DATATYPE - elements are not stored in the sequence or elements are not arranged in a ordered way.\n",
    "\n",
    "  - set\n",
    "\n",
    "  - dictionary"
   ]
  },
  {
   "cell_type": "markdown",
   "id": "dfbb6b31-ee3a-4bbe-95e8-4513b1e2e785",
   "metadata": {},
   "source": [
    "1- Set - unordered collection of distinct(unique) elements\n",
    "\n",
    "  - it stores unique value - (no duplicate element is allowed)\n",
    "\n",
    "  - mutable (add or remove the elememt , we can't change the elements of set)\n",
    "\n",
    "  - {}"
   ]
  },
  {
   "cell_type": "code",
   "execution_count": 1,
   "id": "3a11a388-b679-426c-8d31-faddd7cb2e20",
   "metadata": {},
   "outputs": [
    {
     "name": "stdout",
     "output_type": "stream",
     "text": [
      "{1, 2, 3, 4, 5, 6}\n",
      "<class 'set'>\n"
     ]
    }
   ],
   "source": [
    "s1 = {1,2,3,4,5,6}\n",
    "print(s1)\n",
    "print(type(s1))"
   ]
  },
  {
   "cell_type": "code",
   "execution_count": 2,
   "id": "2f40e563-ffd2-41f4-b3ea-054b095014c3",
   "metadata": {},
   "outputs": [
    {
     "name": "stdout",
     "output_type": "stream",
     "text": [
      "{'a', 'c', 'b'}\n"
     ]
    }
   ],
   "source": [
    "s1 = {'a','b','c','a','b','c'}\n",
    "print(s1)"
   ]
  },
  {
   "cell_type": "code",
   "execution_count": 3,
   "id": "4282f17e-d66c-4cf1-a44b-c92646d2b0a9",
   "metadata": {},
   "outputs": [
    {
     "name": "stdout",
     "output_type": "stream",
     "text": [
      "{3, 4, 23, 11, 12}\n"
     ]
    }
   ],
   "source": [
    "s2 = {12,3,4,11,23,3}\n",
    "print(s2)"
   ]
  },
  {
   "cell_type": "code",
   "execution_count": 4,
   "id": "80975cfd-01cb-4700-8e1f-c90ee0bb23b4",
   "metadata": {},
   "outputs": [
    {
     "name": "stdout",
     "output_type": "stream",
     "text": [
      "{'a', 'c', 'b'}\n",
      "{'a', 'c', 'b', 'e'}\n"
     ]
    }
   ],
   "source": [
    "# add() - adds a single element in a set\n",
    "s1 = {'a','b','c','a','b','c'}\n",
    "print(s1)\n",
    "s1.add('e')\n",
    "print(s1)"
   ]
  },
  {
   "cell_type": "code",
   "execution_count": 5,
   "id": "9dd7fd5b-67ae-466b-817f-c4c16e4a9bac",
   "metadata": {},
   "outputs": [],
   "source": [
    "# create a set and use add function to add an element in the set also check the data type of the set you created"
   ]
  },
  {
   "cell_type": "code",
   "execution_count": 6,
   "id": "b0725b4e-e8ce-4f7d-800b-f9fb31e20204",
   "metadata": {},
   "outputs": [
    {
     "name": "stdout",
     "output_type": "stream",
     "text": [
      "{1, 2, 4, 5, 6, 10}\n",
      "<class 'set'>\n"
     ]
    }
   ],
   "source": [
    "s1 = {1,2,4,5,6}\n",
    "s1.add(10)\n",
    "print(s1)\n",
    "print(type(s1))"
   ]
  },
  {
   "cell_type": "code",
   "execution_count": 7,
   "id": "93667b0c-a4f1-49f1-8247-7e9cad2cf2f4",
   "metadata": {},
   "outputs": [
    {
     "name": "stdout",
     "output_type": "stream",
     "text": [
      "{1, 2, 4, 5, 6}\n",
      "{1, 2, 4, 5, 6, 20, 11, 30}\n"
     ]
    }
   ],
   "source": [
    "# update() - used to add multiple values in a set\n",
    "# s1.update([values])\n",
    "\n",
    "s1 = {1,2,4,5,6}\n",
    "print(s1)\n",
    "s1.update([11,20,30])\n",
    "print(s1)\n"
   ]
  },
  {
   "cell_type": "code",
   "execution_count": 8,
   "id": "e6454e6a-a975-47f3-bd48-c13cfd55ca72",
   "metadata": {},
   "outputs": [
    {
     "name": "stdout",
     "output_type": "stream",
     "text": [
      "{1, 2, 4, 5, 6, 14}\n"
     ]
    }
   ],
   "source": [
    "s2 = {14,2,4}\n",
    "s2.update([1,4,5,6])\n",
    "print(s2)"
   ]
  },
  {
   "cell_type": "code",
   "execution_count": 9,
   "id": "c0bbb16d-fce3-4b80-b7f1-a684554ec69a",
   "metadata": {},
   "outputs": [
    {
     "name": "stdout",
     "output_type": "stream",
     "text": [
      "{1, 2, 4, 5, 6}\n",
      "{1, 2, 5, 6}\n"
     ]
    }
   ],
   "source": [
    "# remove() - it will remove the element , if element not found it will return error\n",
    "# s1.remove(value)\n",
    "s1 = {1,2,4,5,6}\n",
    "print(s1)\n",
    "s1.remove(4)\n",
    "print(s1)"
   ]
  },
  {
   "cell_type": "code",
   "execution_count": 10,
   "id": "81fa3ac7-a8fa-41d7-85cc-a8c9d832f1a9",
   "metadata": {},
   "outputs": [
    {
     "ename": "KeyError",
     "evalue": "10",
     "output_type": "error",
     "traceback": [
      "\u001b[1;31m---------------------------------------------------------------------------\u001b[0m",
      "\u001b[1;31mKeyError\u001b[0m                                  Traceback (most recent call last)",
      "Cell \u001b[1;32mIn[10], line 1\u001b[0m\n\u001b[1;32m----> 1\u001b[0m s1\u001b[38;5;241m.\u001b[39mremove(\u001b[38;5;241m10\u001b[39m)\n\u001b[0;32m      2\u001b[0m \u001b[38;5;28mprint\u001b[39m(s1)\n",
      "\u001b[1;31mKeyError\u001b[0m: 10"
     ]
    }
   ],
   "source": [
    "s1.remove(10)\n",
    "print(s1)                      # not present in my set"
   ]
  },
  {
   "cell_type": "code",
   "execution_count": 11,
   "id": "15091312-61ed-4731-a66f-3d398ce57f78",
   "metadata": {},
   "outputs": [
    {
     "name": "stdout",
     "output_type": "stream",
     "text": [
      "{1, 2, 4, 5, 6}\n",
      "{1, 2, 4, 6}\n",
      "{1, 2, 4, 6}\n"
     ]
    },
    {
     "ename": "KeyError",
     "evalue": "23",
     "output_type": "error",
     "traceback": [
      "\u001b[1;31m---------------------------------------------------------------------------\u001b[0m",
      "\u001b[1;31mKeyError\u001b[0m                                  Traceback (most recent call last)",
      "Cell \u001b[1;32mIn[11], line 9\u001b[0m\n\u001b[0;32m      7\u001b[0m s1\u001b[38;5;241m.\u001b[39mdiscard(\u001b[38;5;241m23\u001b[39m)\n\u001b[0;32m      8\u001b[0m \u001b[38;5;28mprint\u001b[39m(s1)\n\u001b[1;32m----> 9\u001b[0m s1\u001b[38;5;241m.\u001b[39mremove(\u001b[38;5;241m23\u001b[39m)\n\u001b[0;32m     10\u001b[0m \u001b[38;5;28mprint\u001b[39m(s1)\n",
      "\u001b[1;31mKeyError\u001b[0m: 23"
     ]
    }
   ],
   "source": [
    "# discard() - remove an element , no error if element is not found\n",
    "\n",
    "s1 = {1,2,4,5,6}\n",
    "print(s1)\n",
    "s1.discard(5)\n",
    "print(s1)\n",
    "s1.discard(23)\n",
    "print(s1)\n",
    "s1.remove(23)\n",
    "print(s1)                  # error"
   ]
  },
  {
   "cell_type": "code",
   "execution_count": 12,
   "id": "987eab94-7ce0-4ae5-b5d5-8208fe138ff5",
   "metadata": {},
   "outputs": [
    {
     "name": "stdout",
     "output_type": "stream",
     "text": [
      "{1, 2, 4, 5, 6}\n",
      "{2, 4, 5, 6}\n"
     ]
    }
   ],
   "source": [
    "# pop() - remove a random element from the set\n",
    "\n",
    "s1 = {1,2,4,5,6}\n",
    "print(s1)\n",
    "s1.pop()\n",
    "print(s1)\n"
   ]
  },
  {
   "cell_type": "code",
   "execution_count": 13,
   "id": "b6471cd5-247c-4e33-bfa1-eabf85b469f0",
   "metadata": {},
   "outputs": [
    {
     "name": "stdout",
     "output_type": "stream",
     "text": [
      "set()\n"
     ]
    }
   ],
   "source": [
    "# clear()- remove all the values from the set\n",
    "s1 = {1,2,4,5,6}\n",
    "s1.clear()\n",
    "print(s1)"
   ]
  },
  {
   "cell_type": "code",
   "execution_count": 14,
   "id": "3aaf0d86-641e-47d7-9645-4a58b20c7ab8",
   "metadata": {},
   "outputs": [],
   "source": [
    "# add elements in a set and remove duplicates.\n",
    "# create one set and add 5 elements using set function then remove the element of your choice\n",
    "# clear all elements from the set and print empty set\n",
    "# s1= {1,True,False,0}\n",
    "# print(s1)   --- output??"
   ]
  },
  {
   "cell_type": "code",
   "execution_count": 15,
   "id": "800cde98-551b-4014-9742-a22a072788fd",
   "metadata": {},
   "outputs": [
    {
     "name": "stdout",
     "output_type": "stream",
     "text": [
      "{1, 2, 3, 4, 5, 6}\n",
      "{1, 2, 3, 4, 5, 6, 7}\n",
      "{1, 2, 3, 4, 6, 7}\n",
      "set()\n"
     ]
    }
   ],
   "source": [
    "s1={1,2,5,3,4,5,6,2,1,2}\n",
    "print(s1)\n",
    "s2={1,2}\n",
    "s2.update([3,4,5,6,7])\n",
    "print(s2)\n",
    "s2.remove(5)\n",
    "print(s2)\n",
    "s2.clear()\n",
    "print(s2)"
   ]
  },
  {
   "cell_type": "code",
   "execution_count": 16,
   "id": "b2e44990-ac89-4713-81e9-9f186f769f5f",
   "metadata": {},
   "outputs": [
    {
     "name": "stdout",
     "output_type": "stream",
     "text": [
      "{False, 1}\n",
      "{0, True}\n"
     ]
    }
   ],
   "source": [
    "s1={1,True,False,0}\n",
    "print(s1)\n",
    "s2 = {0,True , False,1}\n",
    "print(s2)"
   ]
  },
  {
   "cell_type": "code",
   "execution_count": 18,
   "id": "e9f24857-beec-4aa3-bb8a-668b70f48ae2",
   "metadata": {},
   "outputs": [
    {
     "name": "stdout",
     "output_type": "stream",
     "text": [
      "{1, 2, 3, 4, 5, 6}\n",
      "{2, 3}\n",
      "{1, 4}\n",
      "{5, 6}\n"
     ]
    }
   ],
   "source": [
    "# SET OPERATIONS -\n",
    "# 1 - UNION  - return the unique elements from both the sets\n",
    "# 2- INTERSECTION - common elements between 2 sets\n",
    "# 3- Differnce - s1.difference(s2)-- only s1 elements not in s2\n",
    "# s2.difference(s1)-- only s2 elementgs not in s1\n",
    "\n",
    "s1= {1,2,3,4}\n",
    "s2 = {5,6,2,3}\n",
    "print(s1.union(s2))\n",
    "print(s1.intersection(s2))\n",
    "print(s1.difference(s2))\n",
    "print(s2.difference(s1))"
   ]
  },
  {
   "cell_type": "markdown",
   "id": "0f61c8be-3b4d-4e93-b776-d81e136015fa",
   "metadata": {},
   "source": [
    "DICTIONARY - it is a collection of key value pair\n",
    "\n",
    "  - d1 = { 1 : 'python' , 2 : 34 , 'a': 'hello'}\n",
    "\n",
    "  - each key is unique\n",
    "\n",
    "  - keys are immuatble\n",
    "\n",
    "  - values can be of any data type\n",
    "\n",
    "  - value are mutable"
   ]
  },
  {
   "cell_type": "code",
   "execution_count": 19,
   "id": "fe891372-c778-49d1-84d5-2b5f264c66db",
   "metadata": {},
   "outputs": [
    {
     "name": "stdout",
     "output_type": "stream",
     "text": [
      "{'name': 'anas', 'age': 22, 'gender': 'm'}\n",
      "<class 'dict'>\n"
     ]
    }
   ],
   "source": [
    "d1 = {'name':'anas', 'age':22 , 'gender':'m'}\n",
    "print(d1)\n",
    "print(type(d1))"
   ]
  },
  {
   "cell_type": "code",
   "execution_count": 29,
   "id": "e6a7cc2d-b88d-4f63-a769-0ab03f0a90c9",
   "metadata": {},
   "outputs": [
    {
     "name": "stdout",
     "output_type": "stream",
     "text": [
      "{'name': ['mohan', 'sahil', 'abc'], 'age': 21}\n"
     ]
    }
   ],
   "source": [
    "d1 = {'name':['mohan','sahil','abc'],'age':21}\n",
    "print(d1)"
   ]
  },
  {
   "cell_type": "code",
   "execution_count": 20,
   "id": "9fd5e277-7cc1-4570-9c45-43adefe73c4a",
   "metadata": {},
   "outputs": [
    {
     "name": "stdout",
     "output_type": "stream",
     "text": [
      "22\n"
     ]
    }
   ],
   "source": [
    "# access any value\n",
    "print(d1['age'])"
   ]
  },
  {
   "cell_type": "code",
   "execution_count": 1,
   "id": "216b99e3-8750-4f15-b3b2-5d202ec22ed3",
   "metadata": {},
   "outputs": [],
   "source": [
    "# create a dictionary with 4 values and check and print the data type\n",
    "# take two sets and perform set operations\n",
    "# 1- union\n",
    "# 2- s1.difference(s2)\n",
    "\n",
    "# create a set then add 3 values using update function\n",
    "# create a dictionary and access all the values of dictionary one by one"
   ]
  },
  {
   "cell_type": "code",
   "execution_count": 3,
   "id": "d025453d-5401-4112-be62-65ad6c97868e",
   "metadata": {},
   "outputs": [
    {
     "name": "stdout",
     "output_type": "stream",
     "text": [
      "{1: 'apple', 'a': 43, 'name': 'Karan'}\n",
      "<class 'dict'>\n"
     ]
    }
   ],
   "source": [
    "d2 = {1: 'apple', 'a':43, 'name':'Karan'}\n",
    "print(d2)\n",
    "print(type(d2))"
   ]
  },
  {
   "cell_type": "code",
   "execution_count": 5,
   "id": "42404f86-7dd1-47d0-8d18-95c04a4e80d0",
   "metadata": {},
   "outputs": [
    {
     "name": "stdout",
     "output_type": "stream",
     "text": [
      "Karan\n"
     ]
    }
   ],
   "source": [
    "# access any value from dictionary\n",
    "\n",
    "d2 = {1: 'apple', 'a':43, 'name':'Karan'}\n",
    "print(d2['name'])"
   ]
  },
  {
   "cell_type": "code",
   "execution_count": 7,
   "id": "e051275e-b357-4023-9a95-00a493b50c89",
   "metadata": {},
   "outputs": [
    {
     "name": "stdout",
     "output_type": "stream",
     "text": [
      "{1: 'apple', 'a': 43, 'name': 'Khushi'}\n"
     ]
    }
   ],
   "source": [
    "# change the value\n",
    "\n",
    "d2 = {1: 'apple', 'a':43, 'name':'Karan'}\n",
    "d2['name'] = 'Khushi'\n",
    "print(d2)"
   ]
  },
  {
   "cell_type": "code",
   "execution_count": 10,
   "id": "25e1262f-ed95-4179-b051-28fb9f24412e",
   "metadata": {},
   "outputs": [
    {
     "name": "stdout",
     "output_type": "stream",
     "text": [
      "{'name': 'Karan', 'gender': 'Male', 'Marks': 99, 'class': 'python'}\n",
      "{'name': 'Karan', 'gender': 'Male', 'Marks': 100, 'class': 'SQL'}\n"
     ]
    }
   ],
   "source": [
    "# create a dictionary student and change the value for 2 data\n",
    "\n",
    "student = {'name': 'Karan', 'gender':'Male', 'Marks': 99, 'class':'python'}\n",
    "print(student)\n",
    "student['Marks'] = 100\n",
    "student['class'] = 'SQL'\n",
    "print(student)"
   ]
  },
  {
   "cell_type": "code",
   "execution_count": 23,
   "id": "4af82ed6-6d6f-4923-8f67-530759a2af24",
   "metadata": {},
   "outputs": [
    {
     "name": "stdout",
     "output_type": "stream",
     "text": [
      "dict_keys(['name', 'age'])\n",
      "dict_values(['abc', 21])\n",
      "dict_items([('name', 'abc'), ('age', 21)])\n"
     ]
    }
   ],
   "source": [
    "# keys() - returns all the keys from dictionary\n",
    "# values() - returns all the values from the dictionary\n",
    "# items() - returns both keys and values\n",
    "\n",
    "students = {'name': 'Karan', 'gender':'Male', 'Marks': 99, 'class':'python'}\n",
    "print(student.keys())\n",
    "print(student.values())\n",
    "print(student.items())"
   ]
  },
  {
   "cell_type": "code",
   "execution_count": 24,
   "id": "9f3931c2-ed36-4fcb-b640-26243c6363ee",
   "metadata": {},
   "outputs": [
    {
     "name": "stdout",
     "output_type": "stream",
     "text": [
      "['name', 'gender', 'Marks', 'class']\n"
     ]
    }
   ],
   "source": [
    "l1 = list(students.keys())\n",
    "print(l1)"
   ]
  },
  {
   "cell_type": "code",
   "execution_count": 16,
   "id": "6bc800de-14d2-48fb-8454-cf6d0c5f047d",
   "metadata": {},
   "outputs": [
    {
     "name": "stdout",
     "output_type": "stream",
     "text": [
      "78\n"
     ]
    }
   ],
   "source": [
    "# to get the value of dictionary-\n",
    "# get() - access the values\n",
    "# d1.get(key)\n",
    "student = {'name':'abc','age':21 ,'marks':78}\n",
    "print(student.get('marks'))"
   ]
  },
  {
   "cell_type": "code",
   "execution_count": 18,
   "id": "aed2f249-fe2f-4be3-b002-9d9a4abfb895",
   "metadata": {},
   "outputs": [
    {
     "name": "stdout",
     "output_type": "stream",
     "text": [
      "{'name': 'abc', 'age': 21, 'marks': 78}\n",
      "{'name': 'abc', 'age': 21, 'marks': 78, 1: 'hello', 'id': 101, 'abc': 'python world'}\n"
     ]
    }
   ],
   "source": [
    "# add multiple values in a dictionary-\n",
    "# update() - multiple values or merge dictionaries\n",
    "\n",
    "student = {'name':'abc','age':21 ,'marks':78}\n",
    "print(student)\n",
    "student.update({1:'hello','id':101,'abc':'python world'})\n",
    "print(student)"
   ]
  },
  {
   "cell_type": "code",
   "execution_count": 20,
   "id": "2750b2cd-b6c5-4ed7-a4aa-3226aac53587",
   "metadata": {},
   "outputs": [
    {
     "name": "stdout",
     "output_type": "stream",
     "text": [
      "{'name': 'abc', 'age': 21, 'marks': 78}\n",
      "{'name': 'abc', 'marks': 78}\n"
     ]
    }
   ],
   "source": [
    "# DELETE ANY VALUE FROM DICTIONARY???\n",
    "# pop() - remove the value\n",
    "# d1.pop('key name')\n",
    "\n",
    "student = {'name':'abc','age':21 ,'marks':78}\n",
    "print(student)\n",
    "student.pop('age')\n",
    "print(student)"
   ]
  },
  {
   "cell_type": "code",
   "execution_count": 25,
   "id": "6a5537d1-7530-4154-98ec-f2b2b29ae350",
   "metadata": {},
   "outputs": [
    {
     "name": "stdout",
     "output_type": "stream",
     "text": [
      "{'name': 'abc', 'age': 21, 'marks': 78}\n",
      "('marks', 78)\n",
      "{'name': 'abc', 'age': 21}\n"
     ]
    }
   ],
   "source": [
    "# popitem() - will remove the last inserted pair\n",
    "\n",
    "student = {'name':'abc','age':21 ,'marks':78}\n",
    "print(student)\n",
    "print(student.popitem())\n",
    "print(student)"
   ]
  },
  {
   "cell_type": "code",
   "execution_count": 26,
   "id": "21fe65f3-6c70-42e6-adb2-de8fa9c71b11",
   "metadata": {},
   "outputs": [
    {
     "name": "stdout",
     "output_type": "stream",
     "text": [
      "{'name': 'abc', 'age': 21, 'marks': 78}\n",
      "{}\n"
     ]
    }
   ],
   "source": [
    "# clear() - remove all the data from dictionary and it will return empty dict\n",
    "student = {'name':'abc','age':21 ,'marks':78}\n",
    "print(student)\n",
    "student.clear()\n",
    "print(student)"
   ]
  },
  {
   "cell_type": "code",
   "execution_count": 30,
   "id": "6523bb3b-3309-45db-9864-894ea89710fb",
   "metadata": {},
   "outputs": [],
   "source": [
    "# 1- create a dictionary with name , age , city\n",
    "#  2- update your city to \"Bangalore\"\n",
    "# 3- print all the  - (a) - keys , (b) - values\n",
    "# 4- delete age from dictionary\n",
    "# 5- add 2 new values in the dictionary and print it\n",
    "# 6- remove the last value from the dict and print new dict"
   ]
  },
  {
   "cell_type": "code",
   "execution_count": 31,
   "id": "6049b34a-c39e-468b-bac7-a00c51ecd121",
   "metadata": {},
   "outputs": [
    {
     "name": "stdout",
     "output_type": "stream",
     "text": [
      "{'name': 'abc', 'age': 20, 'city': 'bangalore'}\n",
      "dict_keys(['name', 'age', 'city'])\n",
      "dict_values(['abc', 20, 'bangalore'])\n",
      "20\n",
      "{'name': 'abc', 'city': 'bangalore'}\n",
      "{'name': 'abc', 'city': 'bangalore', 1: 101, 2: 'hiiiii'}\n",
      "{'name': 'abc', 'city': 'bangalore', 1: 101}\n"
     ]
    }
   ],
   "source": [
    "d1 = {'name':'abc','age':20 , 'city':'mumbai'}\n",
    "d1['city']='bangalore'\n",
    "print(d1)\n",
    "print(d1.keys())\n",
    "print(d1.values())\n",
    "print(d1.pop('age'))\n",
    "print(d1)\n",
    "d1.update({1:101,2:'hiiiii'})\n",
    "print(d1)\n",
    "d1.popitem()\n",
    "print(d1)"
   ]
  },
  {
   "cell_type": "code",
   "execution_count": 32,
   "id": "0c699463-31ff-400a-b36b-a22907921842",
   "metadata": {},
   "outputs": [
    {
     "name": "stdout",
     "output_type": "stream",
     "text": [
      "{'name': ['sahil', 'anurag', 'mohan', 'roshan'], 'age': 21, 'gender': 'm'}\n"
     ]
    }
   ],
   "source": [
    "# can i give list and tuple to values???\n",
    "d1 = {'name':['sahil','anurag','mohan','roshan'],'age':21,'gender':'m'}\n",
    "print(d1)"
   ]
  },
  {
   "cell_type": "code",
   "execution_count": 33,
   "id": "5093e0ac-9750-4ebb-8249-d355d0f77948",
   "metadata": {},
   "outputs": [
    {
     "name": "stdout",
     "output_type": "stream",
     "text": [
      "['sahil', 'anurag', 'mohan', 'roshan']\n"
     ]
    }
   ],
   "source": [
    "# access??\n",
    "print(d1['name'])"
   ]
  },
  {
   "cell_type": "code",
   "execution_count": 37,
   "id": "9f482e4d-a7df-4805-bca7-e3e72cbcd0af",
   "metadata": {},
   "outputs": [
    {
     "name": "stdout",
     "output_type": "stream",
     "text": [
      "mohan\n"
     ]
    }
   ],
   "source": [
    "print(d1['name'][2])"
   ]
  },
  {
   "cell_type": "code",
   "execution_count": 35,
   "id": "2d9a965f-5272-40e5-a946-c5ee2920a15d",
   "metadata": {},
   "outputs": [],
   "source": [
    "# create a dict with name , age , city - age and city are having 3 values stored as tuple\n",
    "# access 2 value from age and 1 value from city"
   ]
  },
  {
   "cell_type": "code",
   "execution_count": 39,
   "id": "95eb6658-d1e0-4d43-b180-390f45ab70d6",
   "metadata": {},
   "outputs": [
    {
     "name": "stdout",
     "output_type": "stream",
     "text": [
      "First age: 18\n",
      "Second age: 19\n",
      "Third city: Bangalore\n"
     ]
    }
   ],
   "source": [
    "student = {\n",
    "    \"name\": \"karan\",\n",
    "    \"age\": (18, 19, 20),\n",
    "    \"city\": (\"Pune\", \"Mumbai\", \"Bangalore\")\n",
    "}\n",
    "# 2. Access 2 values from age\n",
    "age1 = student[\"age\"][0]\n",
    "age2 = student[\"age\"][1]\n",
    "# 3. Access 1 value from city\n",
    "city1 = student[\"city\"][2]\n",
    "# 4. Print accessed values\n",
    "print(\"First age:\", age1)\n",
    "print(\"Second age:\", age2)\n",
    "print(\"Third city:\", city1)"
   ]
  },
  {
   "cell_type": "code",
   "execution_count": null,
   "id": "a4c27169-fa4b-40f7-805d-2d498bad5da0",
   "metadata": {},
   "outputs": [],
   "source": []
  }
 ],
 "metadata": {
  "kernelspec": {
   "display_name": "Python 3 (ipykernel)",
   "language": "python",
   "name": "python3"
  },
  "language_info": {
   "codemirror_mode": {
    "name": "ipython",
    "version": 3
   },
   "file_extension": ".py",
   "mimetype": "text/x-python",
   "name": "python",
   "nbconvert_exporter": "python",
   "pygments_lexer": "ipython3",
   "version": "3.13.5"
  }
 },
 "nbformat": 4,
 "nbformat_minor": 5
}
