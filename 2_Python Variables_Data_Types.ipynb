{
 "cells": [
  {
   "cell_type": "markdown",
   "id": "fc8185a2-28f0-4060-bee3-038677285309",
   "metadata": {},
   "source": [
    "Keywords - pre - defined or pre-reserved words which already have some special meaning or function.\n",
    "\n",
    "ex - if , else , for , and , while"
   ]
  },
  {
   "cell_type": "markdown",
   "id": "4287984b-7d52-4309-8d82-88427fad5216",
   "metadata": {},
   "source": [
    "VARIABLES - It is a name to which we assign some values. They act as a placeholder which holds some data.\n",
    "\n",
    "RULES FOR WRITING NAME OF THE VARIABLE -\n",
    "1- Variable name can be alphanumeric - (can be a combination of alphabets and digits)\n",
    "\n",
    "2- variable name can't start with a digit\n",
    "\n",
    "3- variable name can't have any special symbol except underscore(_)\n",
    "\n",
    "4- variable name can start with underscore(_)\n",
    "\n",
    "5- variable name can't be a keyword\n",
    "\n",
    "6- variable name can't have blank space in their names"
   ]
  },
  {
   "cell_type": "code",
   "execution_count": 1,
   "id": "f8780bdc-d29c-4528-aa16-c6a900630497",
   "metadata": {},
   "outputs": [
    {
     "name": "stdout",
     "output_type": "stream",
     "text": [
      "5\n"
     ]
    }
   ],
   "source": [
    "a = 5\n",
    "print(a);"
   ]
  },
  {
   "cell_type": "code",
   "execution_count": 3,
   "id": "57726985-bb2f-4094-b83b-4b5948b68032",
   "metadata": {},
   "outputs": [
    {
     "name": "stdout",
     "output_type": "stream",
     "text": [
      "35\n"
     ]
    }
   ],
   "source": [
    "num1 = 35\n",
    "print(num1);"
   ]
  },
  {
   "cell_type": "code",
   "execution_count": 4,
   "id": "7bc70473-87be-4a9f-81f0-28082a69e763",
   "metadata": {},
   "outputs": [
    {
     "ename": "SyntaxError",
     "evalue": "invalid decimal literal (3475484359.py, line 1)",
     "output_type": "error",
     "traceback": [
      "\u001b[1;36m  Cell \u001b[1;32mIn[4], line 1\u001b[1;36m\u001b[0m\n\u001b[1;33m    1abc = 67\u001b[0m\n\u001b[1;37m    ^\u001b[0m\n\u001b[1;31mSyntaxError\u001b[0m\u001b[1;31m:\u001b[0m invalid decimal literal\n"
     ]
    }
   ],
   "source": [
    "1abc = 67"
   ]
  },
  {
   "cell_type": "code",
   "execution_count": 5,
   "id": "aae977fa-38b0-43ea-9778-377bfd1392ec",
   "metadata": {},
   "outputs": [
    {
     "name": "stdout",
     "output_type": "stream",
     "text": [
      "Jayaseelan\n"
     ]
    }
   ],
   "source": [
    "first_name = \"Jayaseelan\"\n",
    "print(first_name)"
   ]
  },
  {
   "cell_type": "code",
   "execution_count": 6,
   "id": "7463b1e5-942e-44ad-bc4d-ed5b884542e9",
   "metadata": {},
   "outputs": [
    {
     "ename": "SyntaxError",
     "evalue": "invalid syntax (887499832.py, line 2)",
     "output_type": "error",
     "traceback": [
      "\u001b[1;36m  Cell \u001b[1;32mIn[6], line 2\u001b[1;36m\u001b[0m\n\u001b[1;33m    print(%num)\u001b[0m\n\u001b[1;37m          ^\u001b[0m\n\u001b[1;31mSyntaxError\u001b[0m\u001b[1;31m:\u001b[0m invalid syntax\n"
     ]
    }
   ],
   "source": [
    "%num = 99                           # error - invalid syntax\n",
    "print(%num)"
   ]
  },
  {
   "cell_type": "code",
   "execution_count": 7,
   "id": "4ac2fbcb-2dad-4ce1-9d4c-23906569317b",
   "metadata": {},
   "outputs": [
    {
     "name": "stdout",
     "output_type": "stream",
     "text": [
      "hello\n"
     ]
    }
   ],
   "source": [
    "_ = \"hello\"\n",
    "print(_)"
   ]
  },
  {
   "cell_type": "code",
   "execution_count": 8,
   "id": "a99a5b9a-2468-43c1-af29-fa76b99833ee",
   "metadata": {},
   "outputs": [
    {
     "ename": "SyntaxError",
     "evalue": "invalid syntax (1599648344.py, line 1)",
     "output_type": "error",
     "traceback": [
      "\u001b[1;36m  Cell \u001b[1;32mIn[8], line 1\u001b[1;36m\u001b[0m\n\u001b[1;33m    if = \"python\"\u001b[0m\n\u001b[1;37m       ^\u001b[0m\n\u001b[1;31mSyntaxError\u001b[0m\u001b[1;31m:\u001b[0m invalid syntax\n"
     ]
    }
   ],
   "source": [
    "if = \"python\"\n",
    "print(if)                    # error - because it is a keyword"
   ]
  },
  {
   "cell_type": "code",
   "execution_count": 9,
   "id": "aece8c85-f6e8-4c1c-9ff9-8a6956bfbd97",
   "metadata": {},
   "outputs": [
    {
     "ename": "SyntaxError",
     "evalue": "invalid syntax (3025220064.py, line 1)",
     "output_type": "error",
     "traceback": [
      "\u001b[1;36m  Cell \u001b[1;32mIn[9], line 1\u001b[1;36m\u001b[0m\n\u001b[1;33m    first name = \"tuesday\"\u001b[0m\n\u001b[1;37m          ^\u001b[0m\n\u001b[1;31mSyntaxError\u001b[0m\u001b[1;31m:\u001b[0m invalid syntax\n"
     ]
    }
   ],
   "source": [
    "first name = \"tuesday\"\n",
    "print(first name)                      # error - because of space!!"
   ]
  },
  {
   "cell_type": "code",
   "execution_count": 10,
   "id": "6a121259-18c1-4b76-98e4-910c16049aea",
   "metadata": {},
   "outputs": [
    {
     "name": "stdout",
     "output_type": "stream",
     "text": [
      "56 98\n"
     ]
    }
   ],
   "source": [
    "num1 = 56\n",
    "num2 = 98\n",
    "print(num1,num2)"
   ]
  },
  {
   "cell_type": "code",
   "execution_count": 12,
   "id": "c42058b9-14d2-460d-bef0-f0e78df66331",
   "metadata": {},
   "outputs": [
    {
     "name": "stdin",
     "output_type": "stream",
     "text": [
      "enter your name:  k\n"
     ]
    },
    {
     "name": "stdout",
     "output_type": "stream",
     "text": [
      "k\n"
     ]
    },
    {
     "name": "stdin",
     "output_type": "stream",
     "text": [
      " 4\n"
     ]
    },
    {
     "name": "stdout",
     "output_type": "stream",
     "text": [
      "4\n"
     ]
    }
   ],
   "source": [
    "# HOW TO TAKE USER INPUT IN PYTHON?\n",
    "# variable name = datatype(input())\n",
    "\n",
    "name = input(\"enter your name: \")\n",
    "print(name)\n",
    "age = int(input())\n",
    "print(age)"
   ]
  },
  {
   "cell_type": "code",
   "execution_count": 15,
   "id": "93177ddc-9fc2-49cd-b964-fff04b5f2af5",
   "metadata": {},
   "outputs": [
    {
     "name": "stdin",
     "output_type": "stream",
     "text": [
      "enter first name:  Karan\n",
      "enter second name:  Swami\n"
     ]
    },
    {
     "name": "stdout",
     "output_type": "stream",
     "text": [
      "Karan Swami\n"
     ]
    }
   ],
   "source": [
    "# create one variable which will take first name as user input\n",
    "# create another variable which will take second name as user input\n",
    "# print both the variables in single line\n",
    "\n",
    "v1 = str(input(\"enter first name: \"))\n",
    "v2 = input(\"enter second name: \")\n",
    "print(v1,v2)"
   ]
  },
  {
   "cell_type": "markdown",
   "id": "9ea35be6-2c0c-4269-ba92-8c68a98ef070",
   "metadata": {},
   "source": [
    "DATA TYPES- it tells us the type of data a variable have\n",
    "\n",
    "Numeric - int , float , complex\n",
    "\n",
    "Text - string\n",
    "\n",
    "Boolean\n",
    "\n",
    "HOW to check the Data Type ??\n",
    "\n",
    "type()"
   ]
  },
  {
   "cell_type": "markdown",
   "id": "7bde73b7-c316-446c-a790-b38d36cc6563",
   "metadata": {},
   "source": [
    "1- Numeric Data types - everything related to numbers .\n",
    "\n",
    "Integer - all the whole numbers - 2,3,4,88,98,-76.-8,-9 -- int\n",
    "\n",
    "Float - all the decimal numbers - 4.5,4.89,-9.8,-7.6 -- float\n",
    "\n",
    "Complex - expression - a+bj - 3+4j , 9+1j -- complex"
   ]
  },
  {
   "cell_type": "code",
   "execution_count": 16,
   "id": "9270b6e8-dee9-4df0-bd2e-b4a62f983290",
   "metadata": {},
   "outputs": [
    {
     "name": "stdout",
     "output_type": "stream",
     "text": [
      "<class 'int'>\n",
      "<class 'int'>\n"
     ]
    }
   ],
   "source": [
    "#numeric -\n",
    "\n",
    "var1 = 9\n",
    "print(type(var1))\n",
    "var2 = -89\n",
    "print(type(var2))"
   ]
  },
  {
   "cell_type": "code",
   "execution_count": 17,
   "id": "c70b35db-8a4e-4934-bfda-72741a2f500b",
   "metadata": {},
   "outputs": [
    {
     "name": "stdout",
     "output_type": "stream",
     "text": [
      "<class 'float'>\n"
     ]
    }
   ],
   "source": [
    "v1 = 9.87\n",
    "print(type(v1))"
   ]
  },
  {
   "cell_type": "code",
   "execution_count": 19,
   "id": "ce737d77-700d-4bbd-8ca9-08e47fd2de3a",
   "metadata": {},
   "outputs": [
    {
     "name": "stdout",
     "output_type": "stream",
     "text": [
      "(6+9j)\n",
      "<class 'complex'>\n"
     ]
    }
   ],
   "source": [
    "v2 = 6 + 9j\n",
    "print(v2)\n",
    "print(type(v2))"
   ]
  },
  {
   "cell_type": "markdown",
   "id": "5d606039-5538-4aac-a364-92dfae7bd9dc",
   "metadata": {},
   "source": [
    "2- TEXT DATA TYPES - String - sequence of character which is enclosed in single , double or triple quotes."
   ]
  },
  {
   "cell_type": "code",
   "execution_count": 20,
   "id": "b608580d-589d-4a7d-999f-a205c4cc6abe",
   "metadata": {},
   "outputs": [
    {
     "name": "stdout",
     "output_type": "stream",
     "text": [
      "<class 'str'>\n"
     ]
    }
   ],
   "source": [
    "n1 = \"hello world\"\n",
    "print(type(n1))"
   ]
  },
  {
   "cell_type": "code",
   "execution_count": 21,
   "id": "18c3a3d6-b6be-477d-8b67-e25e4ac41645",
   "metadata": {},
   "outputs": [
    {
     "name": "stdout",
     "output_type": "stream",
     "text": [
      "<class 'float'>\n",
      "<class 'str'>\n",
      "<class 'str'>\n",
      "<class 'str'>\n",
      "<class 'str'>\n"
     ]
    }
   ],
   "source": [
    "n2 = 5.67\n",
    "n3 = \"9.99\"\n",
    "n4 = \"76\"\n",
    "n5 = \"87\"\n",
    "n6 = \"ananya\"\n",
    "print(type(n2))\n",
    "print(type(n3))\n",
    "print(type(n4))\n",
    "print(type(n5))\n",
    "print(type(n6))"
   ]
  },
  {
   "cell_type": "code",
   "execution_count": 22,
   "id": "8a3982c3-5b1d-42b3-acd7-15ddf7655202",
   "metadata": {},
   "outputs": [
    {
     "ename": "IndentationError",
     "evalue": "unexpected indent (3829252545.py, line 3)",
     "output_type": "error",
     "traceback": [
      "\u001b[1;36m  Cell \u001b[1;32mIn[22], line 3\u001b[1;36m\u001b[0m\n\u001b[1;33m    print(\"abc\")\u001b[0m\n\u001b[1;37m    ^\u001b[0m\n\u001b[1;31mIndentationError\u001b[0m\u001b[1;31m:\u001b[0m unexpected indent\n"
     ]
    }
   ],
   "source": [
    "# Indentation - blank space or tab\n",
    "print(\"hello\")\n",
    "          print(\"abc\")"
   ]
  },
  {
   "cell_type": "markdown",
   "id": "6c9fbc03-fcb7-400b-b9b5-bd8636a36e77",
   "metadata": {},
   "source": [
    "3- BOOLEAN DATA TYPES - It is a Data Type which has 2 values - True or False"
   ]
  },
  {
   "cell_type": "code",
   "execution_count": 24,
   "id": "30cc50e0-10e1-4bc5-928a-15f3bee03166",
   "metadata": {},
   "outputs": [
    {
     "name": "stdout",
     "output_type": "stream",
     "text": [
      "True\n",
      "<class 'bool'>\n"
     ]
    }
   ],
   "source": [
    "a = True\n",
    "print(a)\n",
    "print(type(a))"
   ]
  },
  {
   "cell_type": "code",
   "execution_count": 25,
   "id": "2addf419-712d-4b52-8342-2c890ed10bac",
   "metadata": {},
   "outputs": [
    {
     "name": "stdout",
     "output_type": "stream",
     "text": [
      "False\n",
      "<class 'bool'>\n"
     ]
    }
   ],
   "source": [
    "b = False\n",
    "print(b)\n",
    "print(type(b))"
   ]
  },
  {
   "cell_type": "code",
   "execution_count": 28,
   "id": "49f0ad9c-ae90-4864-a7d2-d00b9069934c",
   "metadata": {},
   "outputs": [
    {
     "name": "stdout",
     "output_type": "stream",
     "text": [
      "False\n",
      "<class 'bool'>\n"
     ]
    }
   ],
   "source": [
    "m1 = 78\n",
    "m2 = 87\n",
    "c = m1 == m2       # == is used for checking Equality\n",
    "print(c)\n",
    "print(type(c))"
   ]
  },
  {
   "cell_type": "code",
   "execution_count": null,
   "id": "49d6a2f1-b028-461a-8a38-982b62a5f5d2",
   "metadata": {},
   "outputs": [],
   "source": []
  }
 ],
 "metadata": {
  "kernelspec": {
   "display_name": "Python 3 (ipykernel)",
   "language": "python",
   "name": "python3"
  },
  "language_info": {
   "codemirror_mode": {
    "name": "ipython",
    "version": 3
   },
   "file_extension": ".py",
   "mimetype": "text/x-python",
   "name": "python",
   "nbconvert_exporter": "python",
   "pygments_lexer": "ipython3",
   "version": "3.13.5"
  }
 },
 "nbformat": 4,
 "nbformat_minor": 5
}
