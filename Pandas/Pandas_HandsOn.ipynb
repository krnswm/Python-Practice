{
 "cells": [
  {
   "cell_type": "code",
   "execution_count": 1,
   "id": "30f53fcf-51db-46d6-aa1e-35e7efa5da5c",
   "metadata": {},
   "outputs": [],
   "source": [
    "import pandas as pd"
   ]
  },
  {
   "cell_type": "markdown",
   "id": "5b5dc00d-6d25-4627-88ab-56350f5d6fb5",
   "metadata": {},
   "source": [
    "1. Given a sample list, tuple and a set with elements as nnumbers from 1-10. Convert each of the data types into a pandas series. Create a seperate list of index values for the series"
   ]
  },
  {
   "cell_type": "code",
   "execution_count": 5,
   "id": "6b6bfb2a-c6c8-43e2-8904-1f0321f547ac",
   "metadata": {},
   "outputs": [
    {
     "name": "stdout",
     "output_type": "stream",
     "text": [
      "101     1\n",
      "102     2\n",
      "103     3\n",
      "104     4\n",
      "105     5\n",
      "106     6\n",
      "107     7\n",
      "108     8\n",
      "109     9\n",
      "110    10\n",
      "dtype: int64\n",
      "101     1\n",
      "102     2\n",
      "103     3\n",
      "104     4\n",
      "105     5\n",
      "106     6\n",
      "107     7\n",
      "108     8\n",
      "109     9\n",
      "110    10\n",
      "dtype: int64\n",
      "101     1\n",
      "102     2\n",
      "103     3\n",
      "104     4\n",
      "105     5\n",
      "106     6\n",
      "107     7\n",
      "108     8\n",
      "109     9\n",
      "110    10\n",
      "dtype: int64\n"
     ]
    }
   ],
   "source": [
    "list1 = list(range(1,11))\n",
    "tuple1 = tuple(range(1,11))\n",
    "set1 = set(range(1,11))\n",
    "\n",
    "i = list(range(101,111))\n",
    "\n",
    "ser_list = pd.Series(list1, index = i)\n",
    "ser_tuple = pd.Series(tuple1, index = i)\n",
    "ser_set = pd.Series(list(set1), index = i)\n",
    "\n",
    "print(ser_list)\n",
    "print(ser_tuple)\n",
    "print(ser_set)"
   ]
  },
  {
   "cell_type": "markdown",
   "id": "01af7df9-5b33-4765-bc2f-a5c8b84dfb7e",
   "metadata": {},
   "source": [
    "2. Create a Python Dictionary with three key value pairs. Keep the keys as the first names and the respective last names as the values in the dictionary. Use the dictioinary to create pandas series"
   ]
  },
  {
   "cell_type": "code",
   "execution_count": 10,
   "id": "3faaa36f-3f5c-4b28-8436-178b944c9265",
   "metadata": {},
   "outputs": [
    {
     "name": "stdout",
     "output_type": "stream",
     "text": [
      "{'Karan': 'Swami', 'Khushi': 'Swami', 'Vaibhav': 'Swami'}\n",
      "Karan      Swami\n",
      "Khushi     Swami\n",
      "Vaibhav    Swami\n",
      "dtype: object\n"
     ]
    }
   ],
   "source": [
    "dict1 = {'Karan':'Swami', 'Khushi': 'Swami', 'Vaibhav': 'Swami'}\n",
    "print(dict1)\n",
    "ser_dict1 = pd.Series(dict1)\n",
    "print(ser_dict1)"
   ]
  },
  {
   "cell_type": "markdown",
   "id": "70db430d-68ff-4dd3-85f6-fe521c6ed118",
   "metadata": {},
   "source": [
    "3. Create a pandas series, witht he elemnets as numbers from 1-10. Use Index values starting from 0-10. For the above series:\n",
    "   1. Convert it to a list.\n",
    "   2. Convert it into a dictionary.\n",
    "   3. Convert it into a tuple.\n",
    "   4. Convert it into a Set."
   ]
  },
  {
   "cell_type": "code",
   "execution_count": 25,
   "id": "649e081d-858b-462a-bb13-d55bf7fb739e",
   "metadata": {},
   "outputs": [
    {
     "name": "stdout",
     "output_type": "stream",
     "text": [
      "Series is: \n",
      "0     1\n",
      "1     2\n",
      "2     3\n",
      "3     4\n",
      "4     5\n",
      "5     6\n",
      "6     7\n",
      "7     8\n",
      "8     9\n",
      "9    10\n",
      "dtype: int64\n",
      "List is: [1, 2, 3, 4, 5, 6, 7, 8, 9, 10]\n",
      "------------------------------------------------------------------------------------------\n",
      "Dictionary is: {0: 1, 1: 2, 2: 3, 3: 4, 4: 5, 5: 6, 6: 7, 7: 8, 8: 9, 9: 10}\n",
      "------------------------------------------------------------------------------------------\n",
      "Tuple is: (1, 2, 3, 4, 5, 6, 7, 8, 9, 10)\n",
      "------------------------------------------------------------------------------------------\n",
      "Set is: {1, 2, 3, 4, 5, 6, 7, 8, 9, 10}\n"
     ]
    }
   ],
   "source": [
    "ser1 = pd.Series(range(1,11))\n",
    "print(f'Series is: ')\n",
    "print(ser1)\n",
    "\n",
    "# Converting into a list\n",
    "# list_ser = list(ser1)\n",
    "list_ser = ser1.tolist()\n",
    "print(f'List is: {list_ser}')\n",
    "\n",
    "print('------------------------------------------------------------------------------------------')\n",
    "\n",
    "# Converting it into a Dictionary\n",
    "# dict_ser = dict(ser1)\n",
    "dict_ser = ser1.to_dict()\n",
    "print(f'Dictionary is: {dict_ser}')\n",
    "\n",
    "print('------------------------------------------------------------------------------------------')\n",
    "\n",
    "# Converting it into a Tuple\n",
    "tuple_ser = tuple(ser1)\n",
    "print(f'Tuple is: {tuple_ser}')\n",
    "\n",
    "print('------------------------------------------------------------------------------------------')\n",
    "\n",
    "# Converting it into a set\n",
    "set_ser = set(ser1)\n",
    "print(f'Set is: {set_ser}')"
   ]
  },
  {
   "cell_type": "markdown",
   "id": "2291bcd6-6f4a-4b72-935e-5bcd71b01264",
   "metadata": {},
   "source": [
    "4. Create a sample pandas series with x integer elements.\n",
    "   Perform the following operations on the same.\n",
    "   1. Print the first 5 elements of the Series.\n",
    "   2. Print the last 5 elements of the Series.\n",
    "   3. Insert an integer value '50' at the index 5.\n",
    "   4. Update the last element in the series with the value 100.\n",
    "   5. Delete the first element of the Series.\n",
    "\n",
    "Note:- The index values must not be affected by the operations and should be uniform for the series after the last operation."
   ]
  },
  {
   "cell_type": "code",
   "execution_count": 43,
   "id": "21e51816-c6af-4a99-9b32-919456c9ad1c",
   "metadata": {},
   "outputs": [
    {
     "name": "stdout",
     "output_type": "stream",
     "text": [
      " Series: \n",
      "0      1\n",
      "1      2\n",
      "2      3\n",
      "3      4\n",
      "4      5\n",
      "5      6\n",
      "6      7\n",
      "7      8\n",
      "8      9\n",
      "9     10\n",
      "10    11\n",
      "11    12\n",
      "12    13\n",
      "13    14\n",
      "14    15\n",
      "15    16\n",
      "16    17\n",
      "17    18\n",
      "18    19\n",
      "19    20\n",
      "dtype: int64\n"
     ]
    }
   ],
   "source": [
    "s = pd.Series(range(1,21))\n",
    "print(f' Series: ')\n",
    "print(s)"
   ]
  },
  {
   "cell_type": "code",
   "execution_count": 44,
   "id": "dcb1cf61-0cbd-4fff-927f-0d66c7898e91",
   "metadata": {},
   "outputs": [
    {
     "name": "stdout",
     "output_type": "stream",
     "text": [
      "First 5 elements are: \n",
      "0    1\n",
      "1    2\n",
      "2    3\n",
      "3    4\n",
      "4    5\n",
      "dtype: int64\n",
      "Last 5 elements are: \n",
      "15    16\n",
      "16    17\n",
      "17    18\n",
      "18    19\n",
      "19    20\n",
      "dtype: int64\n",
      "Inserting value: \n",
      "0      1\n",
      "1      2\n",
      "2      3\n",
      "3      4\n",
      "4      5\n",
      "5     50\n",
      "6      7\n",
      "7      8\n",
      "8      9\n",
      "9     10\n",
      "10    11\n",
      "11    12\n",
      "12    13\n",
      "13    14\n",
      "14    15\n",
      "15    16\n",
      "16    17\n",
      "17    18\n",
      "18    19\n",
      "19    20\n",
      "dtype: int64\n",
      "Updating last element: \n",
      "0       1\n",
      "1       2\n",
      "2       3\n",
      "3       4\n",
      "4       5\n",
      "5      50\n",
      "6       7\n",
      "7       8\n",
      "8       9\n",
      "9      10\n",
      "10     11\n",
      "11     12\n",
      "12     13\n",
      "13     14\n",
      "14     15\n",
      "15     16\n",
      "16     17\n",
      "17     18\n",
      "18     19\n",
      "19    100\n",
      "dtype: int64\n",
      "Deleting first element: \n",
      "1       2\n",
      "2       3\n",
      "3       4\n",
      "4       5\n",
      "5      50\n",
      "6       7\n",
      "7       8\n",
      "8       9\n",
      "9      10\n",
      "10     11\n",
      "11     12\n",
      "12     13\n",
      "13     14\n",
      "14     15\n",
      "15     16\n",
      "16     17\n",
      "17     18\n",
      "18     19\n",
      "19    100\n",
      "dtype: int64\n"
     ]
    }
   ],
   "source": [
    "# First 5 elements\n",
    "print('First 5 elements are: ')\n",
    "print(s.head())\n",
    "\n",
    "# Last 5 elements\n",
    "print('Last 5 elements are: ')\n",
    "print(s.tail())\n",
    "\n",
    "# Inserting value 50 at index 5\n",
    "print('Inserting value: ')\n",
    "s[5] = 50\n",
    "print(s)\n",
    "\n",
    "# Updating last element\n",
    "print('Updating last element: ')\n",
    "s[-1:] = 100\n",
    "print(s)\n",
    "\n",
    "# Deleting first element from the series\n",
    "print('Deleting first element: ')\n",
    "z = s.drop(0)\n",
    "print(z)"
   ]
  },
  {
   "cell_type": "markdown",
   "id": "bca43795-aa91-4d2c-95b8-40bfa49d9914",
   "metadata": {},
   "source": [
    "5. Write a program to find 100 in the list created in the 4 sub-part of the previous question"
   ]
  },
  {
   "cell_type": "code",
   "execution_count": 51,
   "id": "2fa7504a-c833-49e2-a70e-ca897d7053c5",
   "metadata": {},
   "outputs": [
    {
     "name": "stdout",
     "output_type": "stream",
     "text": [
      "Found 100\n"
     ]
    }
   ],
   "source": [
    "if 100 in z.values:\n",
    "    print('Found 100')\n",
    "else:\n",
    "    print('Not Found')"
   ]
  },
  {
   "cell_type": "markdown",
   "id": "32dc1181-99e4-41ae-a504-43e1033ae6d1",
   "metadata": {},
   "source": [
    "6. For the given series A and B, perform concatenation on the same.\n",
    "    - series_A = pd.Series([1,2,3,4,5])\n",
    "    - series_B = pd.Series([6,7,8,9,10])"
   ]
  },
  {
   "cell_type": "code",
   "execution_count": 64,
   "id": "ade379bb-4104-41c4-b855-7f500c30a149",
   "metadata": {},
   "outputs": [
    {
     "name": "stdout",
     "output_type": "stream",
     "text": [
      "0     1\n",
      "1     2\n",
      "2     3\n",
      "3     4\n",
      "4     5\n",
      "5     6\n",
      "6     7\n",
      "7     8\n",
      "8     9\n",
      "9    10\n",
      "dtype: int64\n"
     ]
    }
   ],
   "source": [
    "series_A = pd.Series([1,2,3,4,5])\n",
    "series_B = pd.Series([6,7,8,9,10])\n",
    "\n",
    "ts = pd.concat([series_A, series_B], ignore_index = True)\n",
    "print(ts)"
   ]
  },
  {
   "cell_type": "markdown",
   "id": "a003f63d-def4-40f4-b33a-18db9229c6c0",
   "metadata": {},
   "source": [
    "7. Using loops in python, print all the elements within a pandas series. \n",
    "    Sample = pd.Series([1,2,3,4,5,6,7,8,9,10])"
   ]
  },
  {
   "cell_type": "code",
   "execution_count": 65,
   "id": "a1b0aec4-366e-4982-b18e-275642b714c8",
   "metadata": {},
   "outputs": [
    {
     "name": "stdout",
     "output_type": "stream",
     "text": [
      "1\n",
      "2\n",
      "3\n",
      "4\n",
      "5\n",
      "6\n",
      "7\n",
      "8\n",
      "9\n",
      "10\n"
     ]
    }
   ],
   "source": [
    "sample = pd.Series([1,2,3,4,5,6,7,8,9,10])\n",
    "\n",
    "for i in sample:\n",
    "    print(i)"
   ]
  },
  {
   "cell_type": "markdown",
   "id": "0d56bb05-cb29-45c1-ad0a-df9a75650943",
   "metadata": {},
   "source": [
    "8. For a given nested List and a sample dictionary, create two data frames using pandas. List = [['AA','BB','CC'],['DD','EE','FF'],['GG','HH','II']] Dictionary = {'Kris': ['Jordan', 12, 22], 'Memphis': ['Depay', 23, 24]}"
   ]
  },
  {
   "cell_type": "code",
   "execution_count": 68,
   "id": "a31727fd-3259-4a93-ad86-feabf04ff195",
   "metadata": {},
   "outputs": [
    {
     "name": "stdout",
     "output_type": "stream",
     "text": [
      "    0   1   2\n",
      "0  AA  BB  CC\n",
      "1  DD  EE  FF\n",
      "2  GG  HH  II\n",
      "--------------------------------------\n",
      "     Kris Memphis\n",
      "0  Jordan   Depay\n",
      "1      12      23\n",
      "2      22      24\n"
     ]
    }
   ],
   "source": [
    "l = [['AA','BB','CC'],['DD','EE','FF'],['GG','HH','II']]\n",
    "d = {'Kris': ['Jordan', 12, 22], 'Memphis': ['Depay', 23, 24]}\n",
    "\n",
    "l_d = pd.DataFrame(l)\n",
    "print(l_d)\n",
    "print('--------------------------------------')\n",
    "d_d = pd.DataFrame(d)\n",
    "print(d_d)"
   ]
  },
  {
   "cell_type": "markdown",
   "id": "4cd47a2c-b8b9-450e-9e5e-ef1379249d89",
   "metadata": {},
   "source": [
    "9. Create a pandas DataFrame with two columns  = {'Name', 'Age'}.\n",
    "    Perform the following:\n",
    "   1. Print the first 3 rows of the dataframe\n",
    "   2. Print the rows that have the age greater than 13\n",
    "   3. Insert 5 imaginary names and ages as the values to the pandas DataFrame\n",
    "   4. Update the 5th row so that the name = jhon and age = 56\n",
    "   5. Delete the first row from the DataFrame"
   ]
  },
  {
   "cell_type": "code",
   "execution_count": 76,
   "id": "95a9c4e7-77cd-4452-a0d7-bc8ffea14d3c",
   "metadata": {},
   "outputs": [
    {
     "data": {
      "text/html": [
       "<div>\n",
       "<style scoped>\n",
       "    .dataframe tbody tr th:only-of-type {\n",
       "        vertical-align: middle;\n",
       "    }\n",
       "\n",
       "    .dataframe tbody tr th {\n",
       "        vertical-align: top;\n",
       "    }\n",
       "\n",
       "    .dataframe thead th {\n",
       "        text-align: right;\n",
       "    }\n",
       "</style>\n",
       "<table border=\"1\" class=\"dataframe\">\n",
       "  <thead>\n",
       "    <tr style=\"text-align: right;\">\n",
       "      <th></th>\n",
       "      <th>Name</th>\n",
       "      <th>Age</th>\n",
       "    </tr>\n",
       "  </thead>\n",
       "  <tbody>\n",
       "    <tr>\n",
       "      <th>0</th>\n",
       "      <td>Rohan</td>\n",
       "      <td>22</td>\n",
       "    </tr>\n",
       "    <tr>\n",
       "      <th>1</th>\n",
       "      <td>Taran</td>\n",
       "      <td>21</td>\n",
       "    </tr>\n",
       "    <tr>\n",
       "      <th>2</th>\n",
       "      <td>Tanishq</td>\n",
       "      <td>14</td>\n",
       "    </tr>\n",
       "    <tr>\n",
       "      <th>3</th>\n",
       "      <td>Sumit</td>\n",
       "      <td>25</td>\n",
       "    </tr>\n",
       "    <tr>\n",
       "      <th>4</th>\n",
       "      <td>Rithwik</td>\n",
       "      <td>26</td>\n",
       "    </tr>\n",
       "    <tr>\n",
       "      <th>5</th>\n",
       "      <td>Aryaman</td>\n",
       "      <td>28</td>\n",
       "    </tr>\n",
       "    <tr>\n",
       "      <th>6</th>\n",
       "      <td>Jatin</td>\n",
       "      <td>20</td>\n",
       "    </tr>\n",
       "  </tbody>\n",
       "</table>\n",
       "</div>"
      ],
      "text/plain": [
       "      Name  Age\n",
       "0    Rohan   22\n",
       "1    Taran   21\n",
       "2  Tanishq   14\n",
       "3    Sumit   25\n",
       "4  Rithwik   26\n",
       "5  Aryaman   28\n",
       "6    Jatin   20"
      ]
     },
     "execution_count": 76,
     "metadata": {},
     "output_type": "execute_result"
    }
   ],
   "source": [
    "df = pd.DataFrame({'Name':['Rohan','Taran','Tanishq','Sumit','Rithwik','Aryaman','Jatin'], \n",
    "                   'Age': [22,21,14,25,26,28,20]})\n",
    "df"
   ]
  },
  {
   "cell_type": "code",
   "execution_count": 77,
   "id": "388bfad2-3067-4dc3-89c1-39668fb9504f",
   "metadata": {},
   "outputs": [
    {
     "data": {
      "text/html": [
       "<div>\n",
       "<style scoped>\n",
       "    .dataframe tbody tr th:only-of-type {\n",
       "        vertical-align: middle;\n",
       "    }\n",
       "\n",
       "    .dataframe tbody tr th {\n",
       "        vertical-align: top;\n",
       "    }\n",
       "\n",
       "    .dataframe thead th {\n",
       "        text-align: right;\n",
       "    }\n",
       "</style>\n",
       "<table border=\"1\" class=\"dataframe\">\n",
       "  <thead>\n",
       "    <tr style=\"text-align: right;\">\n",
       "      <th></th>\n",
       "      <th>Name</th>\n",
       "      <th>Age</th>\n",
       "    </tr>\n",
       "  </thead>\n",
       "  <tbody>\n",
       "    <tr>\n",
       "      <th>0</th>\n",
       "      <td>Rohan</td>\n",
       "      <td>22</td>\n",
       "    </tr>\n",
       "    <tr>\n",
       "      <th>1</th>\n",
       "      <td>Taran</td>\n",
       "      <td>21</td>\n",
       "    </tr>\n",
       "    <tr>\n",
       "      <th>2</th>\n",
       "      <td>Tanishq</td>\n",
       "      <td>14</td>\n",
       "    </tr>\n",
       "  </tbody>\n",
       "</table>\n",
       "</div>"
      ],
      "text/plain": [
       "      Name  Age\n",
       "0    Rohan   22\n",
       "1    Taran   21\n",
       "2  Tanishq   14"
      ]
     },
     "execution_count": 77,
     "metadata": {},
     "output_type": "execute_result"
    }
   ],
   "source": [
    "df.head(3)"
   ]
  },
  {
   "cell_type": "code",
   "execution_count": 78,
   "id": "1fdaee42-9aaf-4d11-a629-58e369b728b6",
   "metadata": {},
   "outputs": [
    {
     "name": "stdout",
     "output_type": "stream",
     "text": [
      "      Name  Age\n",
      "0    Rohan   22\n",
      "1    Taran   21\n",
      "3    Sumit   25\n",
      "4  Rithwik   26\n",
      "5  Aryaman   28\n",
      "6    Jatin   20\n"
     ]
    }
   ],
   "source": [
    "print(df[df['Age'] > 15])"
   ]
  },
  {
   "cell_type": "code",
   "execution_count": 79,
   "id": "ae9fa1fc-9554-4260-b7ad-f19ab9a0bf66",
   "metadata": {},
   "outputs": [
    {
     "data": {
      "text/html": [
       "<div>\n",
       "<style scoped>\n",
       "    .dataframe tbody tr th:only-of-type {\n",
       "        vertical-align: middle;\n",
       "    }\n",
       "\n",
       "    .dataframe tbody tr th {\n",
       "        vertical-align: top;\n",
       "    }\n",
       "\n",
       "    .dataframe thead th {\n",
       "        text-align: right;\n",
       "    }\n",
       "</style>\n",
       "<table border=\"1\" class=\"dataframe\">\n",
       "  <thead>\n",
       "    <tr style=\"text-align: right;\">\n",
       "      <th></th>\n",
       "      <th>Name</th>\n",
       "      <th>Age</th>\n",
       "    </tr>\n",
       "  </thead>\n",
       "  <tbody>\n",
       "    <tr>\n",
       "      <th>0</th>\n",
       "      <td>Kuldeep</td>\n",
       "      <td>25</td>\n",
       "    </tr>\n",
       "    <tr>\n",
       "      <th>1</th>\n",
       "      <td>Grace</td>\n",
       "      <td>17</td>\n",
       "    </tr>\n",
       "    <tr>\n",
       "      <th>2</th>\n",
       "      <td>Mathew</td>\n",
       "      <td>19</td>\n",
       "    </tr>\n",
       "    <tr>\n",
       "      <th>3</th>\n",
       "      <td>Wizzy</td>\n",
       "      <td>21</td>\n",
       "    </tr>\n",
       "    <tr>\n",
       "      <th>4</th>\n",
       "      <td>Jack</td>\n",
       "      <td>23</td>\n",
       "    </tr>\n",
       "  </tbody>\n",
       "</table>\n",
       "</div>"
      ],
      "text/plain": [
       "      Name  Age\n",
       "0  Kuldeep   25\n",
       "1    Grace   17\n",
       "2   Mathew   19\n",
       "3    Wizzy   21\n",
       "4     Jack   23"
      ]
     },
     "execution_count": 79,
     "metadata": {},
     "output_type": "execute_result"
    }
   ],
   "source": [
    "new_data = pd.DataFrame({\n",
    "    'Name': ['Kuldeep','Grace','Mathew','Wizzy','Jack'],\n",
    "    'Age': [25, 17, 19, 21, 23]\n",
    "})\n",
    "\n",
    "new_data"
   ]
  },
  {
   "cell_type": "code",
   "execution_count": 80,
   "id": "09fed2d5-d4e1-4b4e-89ed-f7d43cd06db9",
   "metadata": {},
   "outputs": [
    {
     "data": {
      "text/html": [
       "<div>\n",
       "<style scoped>\n",
       "    .dataframe tbody tr th:only-of-type {\n",
       "        vertical-align: middle;\n",
       "    }\n",
       "\n",
       "    .dataframe tbody tr th {\n",
       "        vertical-align: top;\n",
       "    }\n",
       "\n",
       "    .dataframe thead th {\n",
       "        text-align: right;\n",
       "    }\n",
       "</style>\n",
       "<table border=\"1\" class=\"dataframe\">\n",
       "  <thead>\n",
       "    <tr style=\"text-align: right;\">\n",
       "      <th></th>\n",
       "      <th>Name</th>\n",
       "      <th>Age</th>\n",
       "    </tr>\n",
       "  </thead>\n",
       "  <tbody>\n",
       "    <tr>\n",
       "      <th>0</th>\n",
       "      <td>Rohan</td>\n",
       "      <td>22</td>\n",
       "    </tr>\n",
       "    <tr>\n",
       "      <th>1</th>\n",
       "      <td>Taran</td>\n",
       "      <td>21</td>\n",
       "    </tr>\n",
       "    <tr>\n",
       "      <th>2</th>\n",
       "      <td>Tanishq</td>\n",
       "      <td>14</td>\n",
       "    </tr>\n",
       "    <tr>\n",
       "      <th>3</th>\n",
       "      <td>Sumit</td>\n",
       "      <td>25</td>\n",
       "    </tr>\n",
       "    <tr>\n",
       "      <th>4</th>\n",
       "      <td>Rithwik</td>\n",
       "      <td>26</td>\n",
       "    </tr>\n",
       "    <tr>\n",
       "      <th>5</th>\n",
       "      <td>Aryaman</td>\n",
       "      <td>28</td>\n",
       "    </tr>\n",
       "    <tr>\n",
       "      <th>6</th>\n",
       "      <td>Jatin</td>\n",
       "      <td>20</td>\n",
       "    </tr>\n",
       "    <tr>\n",
       "      <th>7</th>\n",
       "      <td>Kuldeep</td>\n",
       "      <td>25</td>\n",
       "    </tr>\n",
       "    <tr>\n",
       "      <th>8</th>\n",
       "      <td>Grace</td>\n",
       "      <td>17</td>\n",
       "    </tr>\n",
       "    <tr>\n",
       "      <th>9</th>\n",
       "      <td>Mathew</td>\n",
       "      <td>19</td>\n",
       "    </tr>\n",
       "    <tr>\n",
       "      <th>10</th>\n",
       "      <td>Wizzy</td>\n",
       "      <td>21</td>\n",
       "    </tr>\n",
       "    <tr>\n",
       "      <th>11</th>\n",
       "      <td>Jack</td>\n",
       "      <td>23</td>\n",
       "    </tr>\n",
       "  </tbody>\n",
       "</table>\n",
       "</div>"
      ],
      "text/plain": [
       "       Name  Age\n",
       "0     Rohan   22\n",
       "1     Taran   21\n",
       "2   Tanishq   14\n",
       "3     Sumit   25\n",
       "4   Rithwik   26\n",
       "5   Aryaman   28\n",
       "6     Jatin   20\n",
       "7   Kuldeep   25\n",
       "8     Grace   17\n",
       "9    Mathew   19\n",
       "10    Wizzy   21\n",
       "11     Jack   23"
      ]
     },
     "execution_count": 80,
     "metadata": {},
     "output_type": "execute_result"
    }
   ],
   "source": [
    "df_new = pd.concat([df, new_data], ignore_index = True)\n",
    "df_new"
   ]
  },
  {
   "cell_type": "code",
   "execution_count": 81,
   "id": "84dd812a-c978-469d-972c-1ff3caef88b5",
   "metadata": {},
   "outputs": [
    {
     "data": {
      "text/html": [
       "<div>\n",
       "<style scoped>\n",
       "    .dataframe tbody tr th:only-of-type {\n",
       "        vertical-align: middle;\n",
       "    }\n",
       "\n",
       "    .dataframe tbody tr th {\n",
       "        vertical-align: top;\n",
       "    }\n",
       "\n",
       "    .dataframe thead th {\n",
       "        text-align: right;\n",
       "    }\n",
       "</style>\n",
       "<table border=\"1\" class=\"dataframe\">\n",
       "  <thead>\n",
       "    <tr style=\"text-align: right;\">\n",
       "      <th></th>\n",
       "      <th>Name</th>\n",
       "      <th>Age</th>\n",
       "    </tr>\n",
       "  </thead>\n",
       "  <tbody>\n",
       "    <tr>\n",
       "      <th>0</th>\n",
       "      <td>Rohan</td>\n",
       "      <td>22</td>\n",
       "    </tr>\n",
       "    <tr>\n",
       "      <th>1</th>\n",
       "      <td>Taran</td>\n",
       "      <td>21</td>\n",
       "    </tr>\n",
       "    <tr>\n",
       "      <th>2</th>\n",
       "      <td>Tanishq</td>\n",
       "      <td>14</td>\n",
       "    </tr>\n",
       "    <tr>\n",
       "      <th>3</th>\n",
       "      <td>Sumit</td>\n",
       "      <td>25</td>\n",
       "    </tr>\n",
       "    <tr>\n",
       "      <th>4</th>\n",
       "      <td>Jhon</td>\n",
       "      <td>56</td>\n",
       "    </tr>\n",
       "    <tr>\n",
       "      <th>5</th>\n",
       "      <td>Aryaman</td>\n",
       "      <td>28</td>\n",
       "    </tr>\n",
       "    <tr>\n",
       "      <th>6</th>\n",
       "      <td>Jatin</td>\n",
       "      <td>20</td>\n",
       "    </tr>\n",
       "    <tr>\n",
       "      <th>7</th>\n",
       "      <td>Kuldeep</td>\n",
       "      <td>25</td>\n",
       "    </tr>\n",
       "    <tr>\n",
       "      <th>8</th>\n",
       "      <td>Grace</td>\n",
       "      <td>17</td>\n",
       "    </tr>\n",
       "    <tr>\n",
       "      <th>9</th>\n",
       "      <td>Mathew</td>\n",
       "      <td>19</td>\n",
       "    </tr>\n",
       "    <tr>\n",
       "      <th>10</th>\n",
       "      <td>Wizzy</td>\n",
       "      <td>21</td>\n",
       "    </tr>\n",
       "    <tr>\n",
       "      <th>11</th>\n",
       "      <td>Jack</td>\n",
       "      <td>23</td>\n",
       "    </tr>\n",
       "  </tbody>\n",
       "</table>\n",
       "</div>"
      ],
      "text/plain": [
       "       Name  Age\n",
       "0     Rohan   22\n",
       "1     Taran   21\n",
       "2   Tanishq   14\n",
       "3     Sumit   25\n",
       "4      Jhon   56\n",
       "5   Aryaman   28\n",
       "6     Jatin   20\n",
       "7   Kuldeep   25\n",
       "8     Grace   17\n",
       "9    Mathew   19\n",
       "10    Wizzy   21\n",
       "11     Jack   23"
      ]
     },
     "execution_count": 81,
     "metadata": {},
     "output_type": "execute_result"
    }
   ],
   "source": [
    "df_new.loc[4, 'Name'] = 'Jhon'\n",
    "df_new.loc[4, 'Age'] = 56\n",
    "df_new"
   ]
  },
  {
   "cell_type": "code",
   "execution_count": 82,
   "id": "d5ca9ba0-cfc9-4fdb-b05a-6c859d37049b",
   "metadata": {},
   "outputs": [
    {
     "data": {
      "text/html": [
       "<div>\n",
       "<style scoped>\n",
       "    .dataframe tbody tr th:only-of-type {\n",
       "        vertical-align: middle;\n",
       "    }\n",
       "\n",
       "    .dataframe tbody tr th {\n",
       "        vertical-align: top;\n",
       "    }\n",
       "\n",
       "    .dataframe thead th {\n",
       "        text-align: right;\n",
       "    }\n",
       "</style>\n",
       "<table border=\"1\" class=\"dataframe\">\n",
       "  <thead>\n",
       "    <tr style=\"text-align: right;\">\n",
       "      <th></th>\n",
       "      <th>Name</th>\n",
       "      <th>Age</th>\n",
       "    </tr>\n",
       "  </thead>\n",
       "  <tbody>\n",
       "    <tr>\n",
       "      <th>1</th>\n",
       "      <td>Taran</td>\n",
       "      <td>21</td>\n",
       "    </tr>\n",
       "    <tr>\n",
       "      <th>2</th>\n",
       "      <td>Tanishq</td>\n",
       "      <td>14</td>\n",
       "    </tr>\n",
       "    <tr>\n",
       "      <th>3</th>\n",
       "      <td>Sumit</td>\n",
       "      <td>25</td>\n",
       "    </tr>\n",
       "    <tr>\n",
       "      <th>4</th>\n",
       "      <td>Jhon</td>\n",
       "      <td>56</td>\n",
       "    </tr>\n",
       "    <tr>\n",
       "      <th>5</th>\n",
       "      <td>Aryaman</td>\n",
       "      <td>28</td>\n",
       "    </tr>\n",
       "    <tr>\n",
       "      <th>6</th>\n",
       "      <td>Jatin</td>\n",
       "      <td>20</td>\n",
       "    </tr>\n",
       "    <tr>\n",
       "      <th>7</th>\n",
       "      <td>Kuldeep</td>\n",
       "      <td>25</td>\n",
       "    </tr>\n",
       "    <tr>\n",
       "      <th>8</th>\n",
       "      <td>Grace</td>\n",
       "      <td>17</td>\n",
       "    </tr>\n",
       "    <tr>\n",
       "      <th>9</th>\n",
       "      <td>Mathew</td>\n",
       "      <td>19</td>\n",
       "    </tr>\n",
       "    <tr>\n",
       "      <th>10</th>\n",
       "      <td>Wizzy</td>\n",
       "      <td>21</td>\n",
       "    </tr>\n",
       "    <tr>\n",
       "      <th>11</th>\n",
       "      <td>Jack</td>\n",
       "      <td>23</td>\n",
       "    </tr>\n",
       "  </tbody>\n",
       "</table>\n",
       "</div>"
      ],
      "text/plain": [
       "       Name  Age\n",
       "1     Taran   21\n",
       "2   Tanishq   14\n",
       "3     Sumit   25\n",
       "4      Jhon   56\n",
       "5   Aryaman   28\n",
       "6     Jatin   20\n",
       "7   Kuldeep   25\n",
       "8     Grace   17\n",
       "9    Mathew   19\n",
       "10    Wizzy   21\n",
       "11     Jack   23"
      ]
     },
     "execution_count": 82,
     "metadata": {},
     "output_type": "execute_result"
    }
   ],
   "source": [
    "df_new = df_new.drop(0)\n",
    "df_new"
   ]
  },
  {
   "cell_type": "markdown",
   "id": "3939c0d9-398d-4289-bb0b-b879850f9828",
   "metadata": {},
   "source": [
    "10. Create a dataframe with columns Name and Age. Perform the following operations:\n",
    "    1. Write a sample code to search for the Name/Names where age is 20.\n",
    "    2. Dort the DataFrame in ascending order of ages.\n",
    "    3. Using pyhton loops, print the ages from the DataFrame and store it in a set"
   ]
  },
  {
   "cell_type": "code",
   "execution_count": 83,
   "id": "dda7355d-d2a2-418f-ae8e-b28cd39d8fce",
   "metadata": {},
   "outputs": [
    {
     "data": {
      "text/html": [
       "<div>\n",
       "<style scoped>\n",
       "    .dataframe tbody tr th:only-of-type {\n",
       "        vertical-align: middle;\n",
       "    }\n",
       "\n",
       "    .dataframe tbody tr th {\n",
       "        vertical-align: top;\n",
       "    }\n",
       "\n",
       "    .dataframe thead th {\n",
       "        text-align: right;\n",
       "    }\n",
       "</style>\n",
       "<table border=\"1\" class=\"dataframe\">\n",
       "  <thead>\n",
       "    <tr style=\"text-align: right;\">\n",
       "      <th></th>\n",
       "      <th>Name</th>\n",
       "      <th>Age</th>\n",
       "    </tr>\n",
       "  </thead>\n",
       "  <tbody>\n",
       "    <tr>\n",
       "      <th>0</th>\n",
       "      <td>Dhoni</td>\n",
       "      <td>43</td>\n",
       "    </tr>\n",
       "    <tr>\n",
       "      <th>1</th>\n",
       "      <td>Virat</td>\n",
       "      <td>20</td>\n",
       "    </tr>\n",
       "    <tr>\n",
       "      <th>2</th>\n",
       "      <td>Hardik</td>\n",
       "      <td>27</td>\n",
       "    </tr>\n",
       "    <tr>\n",
       "      <th>3</th>\n",
       "      <td>David</td>\n",
       "      <td>35</td>\n",
       "    </tr>\n",
       "    <tr>\n",
       "      <th>4</th>\n",
       "      <td>Rahul</td>\n",
       "      <td>28</td>\n",
       "    </tr>\n",
       "  </tbody>\n",
       "</table>\n",
       "</div>"
      ],
      "text/plain": [
       "     Name  Age\n",
       "0   Dhoni   43\n",
       "1   Virat   20\n",
       "2  Hardik   27\n",
       "3   David   35\n",
       "4   Rahul   28"
      ]
     },
     "execution_count": 83,
     "metadata": {},
     "output_type": "execute_result"
    }
   ],
   "source": [
    "x = pd.DataFrame({\n",
    "    'Name': ['Dhoni','Virat','Hardik','David','Rahul'],\n",
    "    'Age': [43, 20, 27, 35, 28]\n",
    "})\n",
    "x"
   ]
  },
  {
   "cell_type": "code",
   "execution_count": 86,
   "id": "0420300a-a109-4beb-a22b-e0ee80f5e9cc",
   "metadata": {},
   "outputs": [
    {
     "name": "stdout",
     "output_type": "stream",
     "text": [
      "    Name  Age\n",
      "1  Virat   20\n"
     ]
    }
   ],
   "source": [
    "print(x[x['Age'] == 20])"
   ]
  },
  {
   "cell_type": "code",
   "execution_count": 87,
   "id": "6f40b00b-9f9c-44e8-8189-3526100ae952",
   "metadata": {},
   "outputs": [
    {
     "name": "stdout",
     "output_type": "stream",
     "text": [
      "     Name  Age\n",
      "1   Virat   20\n",
      "2  Hardik   27\n",
      "4   Rahul   28\n",
      "3   David   35\n",
      "0   Dhoni   43\n"
     ]
    }
   ],
   "source": [
    "print(x.sort_values('Age'))"
   ]
  },
  {
   "cell_type": "code",
   "execution_count": 88,
   "id": "19288bdf-5981-4540-a545-16c5c06f5b11",
   "metadata": {},
   "outputs": [
    {
     "name": "stdout",
     "output_type": "stream",
     "text": [
      "43\n",
      "20\n",
      "27\n",
      "35\n",
      "28\n",
      "{35, 43, 20, 27, 28}\n"
     ]
    }
   ],
   "source": [
    "y = set()\n",
    "\n",
    "for a in x['Age']:\n",
    "    print(a)\n",
    "    y.add(a)\n",
    "print(y)"
   ]
  },
  {
   "cell_type": "code",
   "execution_count": null,
   "id": "17eb24e1-b879-412a-b9f8-490e7582b7ae",
   "metadata": {},
   "outputs": [],
   "source": []
  }
 ],
 "metadata": {
  "kernelspec": {
   "display_name": "Python 3 (ipykernel)",
   "language": "python",
   "name": "python3"
  },
  "language_info": {
   "codemirror_mode": {
    "name": "ipython",
    "version": 3
   },
   "file_extension": ".py",
   "mimetype": "text/x-python",
   "name": "python",
   "nbconvert_exporter": "python",
   "pygments_lexer": "ipython3",
   "version": "3.13.5"
  }
 },
 "nbformat": 4,
 "nbformat_minor": 5
}
