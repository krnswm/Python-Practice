{
 "cells": [
  {
   "cell_type": "markdown",
   "id": "a89e53a7-6dc4-4aeb-b789-596c60d43523",
   "metadata": {},
   "source": [
    "FUNCTIONS - used to perform some task or It is a named block of code you can call to do a task."
   ]
  },
  {
   "cell_type": "code",
   "execution_count": 1,
   "id": "073dd834-f9e9-4483-a93f-2bf0596de1a3",
   "metadata": {},
   "outputs": [],
   "source": [
    "# syntax-\n",
    "# def function_name():\n",
    "\n",
    "     #body\n",
    "\n",
    "# call function ---> function_name()"
   ]
  },
  {
   "cell_type": "code",
   "execution_count": 4,
   "id": "35aa73d5-5a56-468e-9080-5cb4f1c345d2",
   "metadata": {},
   "outputs": [
    {
     "name": "stdout",
     "output_type": "stream",
     "text": [
      "Hello!!!\n"
     ]
    }
   ],
   "source": [
    "# Function without any Parameter\n",
    "\n",
    "def greet():                # Function Declaratin\n",
    "    print(\"Hello!!!\")       # Body\n",
    "\n",
    "\n",
    "greet()                     # Function Calling"
   ]
  },
  {
   "cell_type": "code",
   "execution_count": 11,
   "id": "51f870c2-65a0-4fc2-b51f-1a3f1db4ebac",
   "metadata": {},
   "outputs": [
    {
     "name": "stdin",
     "output_type": "stream",
     "text": [
      "Enter Your Name:  Karna\n"
     ]
    },
    {
     "name": "stdout",
     "output_type": "stream",
     "text": [
      "Hello, Karna\n"
     ]
    }
   ],
   "source": [
    "#Function with Parameter\n",
    "\n",
    "def greet(name):\n",
    "    print(f\"Hello, {name}\")\n",
    "\n",
    "name = input(\"Enter Your Name: \")\n",
    "greet(name)\n",
    "\n",
    "# greet(\"Karan\")\n",
    "# greet(\"Khushi\")\n",
    "# greet(\"Vaibhav\")\n",
    "# greet(\"Kunal\")"
   ]
  },
  {
   "cell_type": "code",
   "execution_count": 21,
   "id": "6c3bc3b8-ebb2-466e-9a97-b322e5cab3f0",
   "metadata": {},
   "outputs": [
    {
     "name": "stdout",
     "output_type": "stream",
     "text": [
      "42\n",
      "------------------------------------------------------------------------------------------------\n"
     ]
    },
    {
     "name": "stdin",
     "output_type": "stream",
     "text": [
      "Enter 1st Number:  5\n",
      "Enter 2nd Number:  88\n"
     ]
    },
    {
     "name": "stdout",
     "output_type": "stream",
     "text": [
      "93\n"
     ]
    }
   ],
   "source": [
    "# create a function whose task is to add 2 numbers -\n",
    "# first without parameters\n",
    "# with parameters\n",
    "\n",
    "# With Parameters\n",
    "\n",
    "def add(a, b):\n",
    "    print(a+b)\n",
    "\n",
    "add(15,27)\n",
    "\n",
    "print(\"------------------------------------------------------------------------------------------------\")\n",
    "\n",
    "# Without Parameters\n",
    "\n",
    "def addition():\n",
    "    a = int(input(\"Enter 1st Number: \"))\n",
    "    b = int(input(\"Enter 2nd Number: \"))\n",
    "    print(a + b)\n",
    "\n",
    "addition()"
   ]
  },
  {
   "cell_type": "code",
   "execution_count": 22,
   "id": "0d6913dd-2a15-4ef8-9a72-1ce68d86aaa9",
   "metadata": {},
   "outputs": [
    {
     "name": "stdout",
     "output_type": "stream",
     "text": [
      "Even\n",
      "Odd\n"
     ]
    }
   ],
   "source": [
    "# Create a fnction to check if a number is even or odd\n",
    "\n",
    "def even_odd(num):\n",
    "    if(num % 2 == 0):\n",
    "        print(\"Even\")\n",
    "    else:\n",
    "        print(\"Odd\")\n",
    "\n",
    "even_odd(10)\n",
    "even_odd(5)"
   ]
  },
  {
   "cell_type": "code",
   "execution_count": null,
   "id": "5bebed09-2503-4905-ac35-400587e5a2f6",
   "metadata": {},
   "outputs": [],
   "source": []
  }
 ],
 "metadata": {
  "kernelspec": {
   "display_name": "Python 3 (ipykernel)",
   "language": "python",
   "name": "python3"
  },
  "language_info": {
   "codemirror_mode": {
    "name": "ipython",
    "version": 3
   },
   "file_extension": ".py",
   "mimetype": "text/x-python",
   "name": "python",
   "nbconvert_exporter": "python",
   "pygments_lexer": "ipython3",
   "version": "3.13.5"
  }
 },
 "nbformat": 4,
 "nbformat_minor": 5
}
